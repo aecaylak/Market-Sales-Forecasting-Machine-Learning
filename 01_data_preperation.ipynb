{
 "cells": [
  {
   "cell_type": "markdown",
   "source": [
    "1 - KÜTÜPHANE & BAŞLATMA"
   ],
   "metadata": {
    "collapsed": false
   },
   "id": "9f32cec8c2f99341"
  },
  {
   "cell_type": "code",
   "outputs": [
    {
     "name": "stdout",
     "output_type": "stream",
     "text": [
      "Veri Temizleme, Feature Engineering işlemi başlıyor...\n"
     ]
    }
   ],
   "source": [
    "import pandas as pd\n",
    "import time\n",
    "\n",
    "print(\"Veri Temizleme, Feature Engineering işlemi başlıyor...\")\n",
    "start_time = time.time()"
   ],
   "metadata": {
    "collapsed": false,
    "ExecuteTime": {
     "end_time": "2025-07-09T21:02:52.037462300Z",
     "start_time": "2025-07-09T21:02:50.963420400Z"
    }
   },
   "id": "cd8f681f51cafe9d",
   "execution_count": 1
  },
  {
   "cell_type": "markdown",
   "source": [
    "2 - VERİ OKUMA"
   ],
   "metadata": {
    "collapsed": false
   },
   "id": "3a1eef19308b4fb"
  },
  {
   "cell_type": "code",
   "execution_count": 2,
   "id": "initial_id",
   "metadata": {
    "collapsed": true,
    "ExecuteTime": {
     "end_time": "2025-07-09T21:03:31.971100200Z",
     "start_time": "2025-07-09T21:02:52.026623600Z"
    }
   },
   "outputs": [
    {
     "name": "stdout",
     "output_type": "stream",
     "text": [
      "İlk 5 satır:\n"
     ]
    },
    {
     "data": {
      "text/plain": "   Sıra    Tür         Barkod                    Ürün      Tarih      Saat  \\\n0     1  Satış  8692971095011  İÇİM SÜT YAĞLI 1LT X12 2025-05-18  20:48:36   \n1     2  Satış  8692971095011  İÇİM SÜT YAĞLI 1LT X12 2025-05-12  23:33:52   \n2     3  Satış  8692971095011  İÇİM SÜT YAĞLI 1LT X12 2025-05-11  23:53:54   \n3     4  Satış  8692971095011  İÇİM SÜT YAĞLI 1LT X12 2025-05-11  23:49:26   \n4     5  Satış  8692971095011  İÇİM SÜT YAĞLI 1LT X12 2025-05-10  23:14:40   \n\n   Miktar  Birim Fiyat  \n0     1.0         45.0  \n1     1.0         45.0  \n2     1.0         45.0  \n3     1.0         45.0  \n4     1.0         45.0  ",
      "text/html": "<div>\n<style scoped>\n    .dataframe tbody tr th:only-of-type {\n        vertical-align: middle;\n    }\n\n    .dataframe tbody tr th {\n        vertical-align: top;\n    }\n\n    .dataframe thead th {\n        text-align: right;\n    }\n</style>\n<table border=\"1\" class=\"dataframe\">\n  <thead>\n    <tr style=\"text-align: right;\">\n      <th></th>\n      <th>Sıra</th>\n      <th>Tür</th>\n      <th>Barkod</th>\n      <th>Ürün</th>\n      <th>Tarih</th>\n      <th>Saat</th>\n      <th>Miktar</th>\n      <th>Birim Fiyat</th>\n    </tr>\n  </thead>\n  <tbody>\n    <tr>\n      <th>0</th>\n      <td>1</td>\n      <td>Satış</td>\n      <td>8692971095011</td>\n      <td>İÇİM SÜT YAĞLI 1LT X12</td>\n      <td>2025-05-18</td>\n      <td>20:48:36</td>\n      <td>1.0</td>\n      <td>45.0</td>\n    </tr>\n    <tr>\n      <th>1</th>\n      <td>2</td>\n      <td>Satış</td>\n      <td>8692971095011</td>\n      <td>İÇİM SÜT YAĞLI 1LT X12</td>\n      <td>2025-05-12</td>\n      <td>23:33:52</td>\n      <td>1.0</td>\n      <td>45.0</td>\n    </tr>\n    <tr>\n      <th>2</th>\n      <td>3</td>\n      <td>Satış</td>\n      <td>8692971095011</td>\n      <td>İÇİM SÜT YAĞLI 1LT X12</td>\n      <td>2025-05-11</td>\n      <td>23:53:54</td>\n      <td>1.0</td>\n      <td>45.0</td>\n    </tr>\n    <tr>\n      <th>3</th>\n      <td>4</td>\n      <td>Satış</td>\n      <td>8692971095011</td>\n      <td>İÇİM SÜT YAĞLI 1LT X12</td>\n      <td>2025-05-11</td>\n      <td>23:49:26</td>\n      <td>1.0</td>\n      <td>45.0</td>\n    </tr>\n    <tr>\n      <th>4</th>\n      <td>5</td>\n      <td>Satış</td>\n      <td>8692971095011</td>\n      <td>İÇİM SÜT YAĞLI 1LT X12</td>\n      <td>2025-05-10</td>\n      <td>23:14:40</td>\n      <td>1.0</td>\n      <td>45.0</td>\n    </tr>\n  </tbody>\n</table>\n</div>"
     },
     "metadata": {},
     "output_type": "display_data"
    },
    {
     "name": "stdout",
     "output_type": "stream",
     "text": [
      "Orijinal satır sayısı: 261700\n"
     ]
    }
   ],
   "source": [
    "df = pd.read_excel(\"261700 Toplam Data.xlsx\")\n",
    "print(\"İlk 5 satır:\")\n",
    "display(df.head())\n",
    "print(f\"Orijinal satır sayısı: {len(df)}\")"
   ]
  },
  {
   "cell_type": "markdown",
   "source": [
    "3 - TEMİZLEME & FİLTRELEME"
   ],
   "metadata": {
    "collapsed": false
   },
   "id": "69c39fc0049fd550"
  },
  {
   "cell_type": "code",
   "outputs": [
    {
     "name": "stdout",
     "output_type": "stream",
     "text": [
      "Filtrelenmiş satır sayısı: 261566\n",
      "Satış kayıtlarının ilk 5 satırı:\n"
     ]
    },
    {
     "data": {
      "text/plain": "   Sıra    Tür         Barkod                    Ürün      Tarih      Saat  \\\n0     1  Satış  8692971095011  İÇİM SÜT YAĞLI 1LT X12 2025-05-18  20:48:36   \n1     2  Satış  8692971095011  İÇİM SÜT YAĞLI 1LT X12 2025-05-12  23:33:52   \n2     3  Satış  8692971095011  İÇİM SÜT YAĞLI 1LT X12 2025-05-11  23:53:54   \n3     4  Satış  8692971095011  İÇİM SÜT YAĞLI 1LT X12 2025-05-11  23:49:26   \n4     5  Satış  8692971095011  İÇİM SÜT YAĞLI 1LT X12 2025-05-10  23:14:40   \n\n   Miktar  Birim Fiyat  \n0     1.0         45.0  \n1     1.0         45.0  \n2     1.0         45.0  \n3     1.0         45.0  \n4     1.0         45.0  ",
      "text/html": "<div>\n<style scoped>\n    .dataframe tbody tr th:only-of-type {\n        vertical-align: middle;\n    }\n\n    .dataframe tbody tr th {\n        vertical-align: top;\n    }\n\n    .dataframe thead th {\n        text-align: right;\n    }\n</style>\n<table border=\"1\" class=\"dataframe\">\n  <thead>\n    <tr style=\"text-align: right;\">\n      <th></th>\n      <th>Sıra</th>\n      <th>Tür</th>\n      <th>Barkod</th>\n      <th>Ürün</th>\n      <th>Tarih</th>\n      <th>Saat</th>\n      <th>Miktar</th>\n      <th>Birim Fiyat</th>\n    </tr>\n  </thead>\n  <tbody>\n    <tr>\n      <th>0</th>\n      <td>1</td>\n      <td>Satış</td>\n      <td>8692971095011</td>\n      <td>İÇİM SÜT YAĞLI 1LT X12</td>\n      <td>2025-05-18</td>\n      <td>20:48:36</td>\n      <td>1.0</td>\n      <td>45.0</td>\n    </tr>\n    <tr>\n      <th>1</th>\n      <td>2</td>\n      <td>Satış</td>\n      <td>8692971095011</td>\n      <td>İÇİM SÜT YAĞLI 1LT X12</td>\n      <td>2025-05-12</td>\n      <td>23:33:52</td>\n      <td>1.0</td>\n      <td>45.0</td>\n    </tr>\n    <tr>\n      <th>2</th>\n      <td>3</td>\n      <td>Satış</td>\n      <td>8692971095011</td>\n      <td>İÇİM SÜT YAĞLI 1LT X12</td>\n      <td>2025-05-11</td>\n      <td>23:53:54</td>\n      <td>1.0</td>\n      <td>45.0</td>\n    </tr>\n    <tr>\n      <th>3</th>\n      <td>4</td>\n      <td>Satış</td>\n      <td>8692971095011</td>\n      <td>İÇİM SÜT YAĞLI 1LT X12</td>\n      <td>2025-05-11</td>\n      <td>23:49:26</td>\n      <td>1.0</td>\n      <td>45.0</td>\n    </tr>\n    <tr>\n      <th>4</th>\n      <td>5</td>\n      <td>Satış</td>\n      <td>8692971095011</td>\n      <td>İÇİM SÜT YAĞLI 1LT X12</td>\n      <td>2025-05-10</td>\n      <td>23:14:40</td>\n      <td>1.0</td>\n      <td>45.0</td>\n    </tr>\n  </tbody>\n</table>\n</div>"
     },
     "metadata": {},
     "output_type": "display_data"
    }
   ],
   "source": [
    "df = df[df['Tür'] == 'Satış']\n",
    "df = df[(df['Miktar'] > 0) & (df['Birim Fiyat'] > 0)]\n",
    "\n",
    "print(f\"Filtrelenmiş satır sayısı: {len(df)}\")\n",
    "print(\"Satış kayıtlarının ilk 5 satırı:\")\n",
    "display(df.head())"
   ],
   "metadata": {
    "collapsed": false,
    "ExecuteTime": {
     "end_time": "2025-07-09T21:03:32.464316900Z",
     "start_time": "2025-07-09T21:03:31.880312700Z"
    }
   },
   "id": "c198fa7690bff572",
   "execution_count": 3
  },
  {
   "cell_type": "markdown",
   "source": [
    "4 - DATETIME OLUŞTURMA & KESME"
   ],
   "metadata": {
    "collapsed": false
   },
   "id": "90c1ea4d717870ef"
  },
  {
   "cell_type": "code",
   "outputs": [
    {
     "name": "stdout",
     "output_type": "stream",
     "text": [
      "Datetime eklenmiş ve kısıtlanmış veri:\n"
     ]
    },
    {
     "data": {
      "text/plain": "              Datetime                    Ürün  Miktar  Birim Fiyat\n63 2024-12-29 20:35:14  İÇİM SÜT YAĞLI 1LT X12     1.0         47.0\n64 2024-12-29 20:16:24  İÇİM SÜT YAĞLI 1LT X12     1.0         47.0\n65 2024-12-26 23:24:07  İÇİM SÜT YAĞLI 1LT X12     1.0         47.0\n66 2024-12-25 19:52:46  İÇİM SÜT YAĞLI 1LT X12     1.0         47.0\n67 2024-12-23 22:46:51  İÇİM SÜT YAĞLI 1LT X12     1.0         47.0",
      "text/html": "<div>\n<style scoped>\n    .dataframe tbody tr th:only-of-type {\n        vertical-align: middle;\n    }\n\n    .dataframe tbody tr th {\n        vertical-align: top;\n    }\n\n    .dataframe thead th {\n        text-align: right;\n    }\n</style>\n<table border=\"1\" class=\"dataframe\">\n  <thead>\n    <tr style=\"text-align: right;\">\n      <th></th>\n      <th>Datetime</th>\n      <th>Ürün</th>\n      <th>Miktar</th>\n      <th>Birim Fiyat</th>\n    </tr>\n  </thead>\n  <tbody>\n    <tr>\n      <th>63</th>\n      <td>2024-12-29 20:35:14</td>\n      <td>İÇİM SÜT YAĞLI 1LT X12</td>\n      <td>1.0</td>\n      <td>47.0</td>\n    </tr>\n    <tr>\n      <th>64</th>\n      <td>2024-12-29 20:16:24</td>\n      <td>İÇİM SÜT YAĞLI 1LT X12</td>\n      <td>1.0</td>\n      <td>47.0</td>\n    </tr>\n    <tr>\n      <th>65</th>\n      <td>2024-12-26 23:24:07</td>\n      <td>İÇİM SÜT YAĞLI 1LT X12</td>\n      <td>1.0</td>\n      <td>47.0</td>\n    </tr>\n    <tr>\n      <th>66</th>\n      <td>2024-12-25 19:52:46</td>\n      <td>İÇİM SÜT YAĞLI 1LT X12</td>\n      <td>1.0</td>\n      <td>47.0</td>\n    </tr>\n    <tr>\n      <th>67</th>\n      <td>2024-12-23 22:46:51</td>\n      <td>İÇİM SÜT YAĞLI 1LT X12</td>\n      <td>1.0</td>\n      <td>47.0</td>\n    </tr>\n  </tbody>\n</table>\n</div>"
     },
     "metadata": {},
     "output_type": "display_data"
    },
    {
     "name": "stdout",
     "output_type": "stream",
     "text": [
      "Yeni satır sayısı: 235769\n"
     ]
    }
   ],
   "source": [
    "df['Datetime'] = pd.to_datetime(df['Tarih'].astype(str) + ' ' + df['Saat'].astype(str))\n",
    "df = df[df['Datetime'] < '2025-01-01']\n",
    "df = df[['Datetime', 'Ürün', 'Miktar', 'Birim Fiyat']]\n",
    "\n",
    "print(\"Datetime eklenmiş ve kısıtlanmış veri:\")\n",
    "display(df.head())\n",
    "print(f\"Yeni satır sayısı: {len(df)}\")"
   ],
   "metadata": {
    "collapsed": false,
    "ExecuteTime": {
     "end_time": "2025-07-09T21:03:33.491585700Z",
     "start_time": "2025-07-09T21:03:32.088282900Z"
    }
   },
   "id": "aedd56e1ce376f4d",
   "execution_count": 4
  },
  {
   "cell_type": "markdown",
   "source": [
    "5 - ZAMAN ENDİKSLİ YAPILANDIRMA"
   ],
   "metadata": {
    "collapsed": false
   },
   "id": "ee2b75cdf95efc4a"
  },
  {
   "cell_type": "code",
   "outputs": [
    {
     "name": "stdout",
     "output_type": "stream",
     "text": [
      "Gruplandırılmış veri örneği:\n"
     ]
    },
    {
     "data": {
      "text/plain": "              Ürün            Datetime  Miktar  Birim Fiyat\n0  ABANT SU 500 ML 2022-01-01 15:10:00     1.0         1.25\n1  ABANT SU 500 ML 2022-01-01 15:15:00     0.0          NaN\n2  ABANT SU 500 ML 2022-01-01 15:20:00     0.0          NaN\n3  ABANT SU 500 ML 2022-01-01 15:25:00     0.0          NaN\n4  ABANT SU 500 ML 2022-01-01 15:30:00     0.0          NaN",
      "text/html": "<div>\n<style scoped>\n    .dataframe tbody tr th:only-of-type {\n        vertical-align: middle;\n    }\n\n    .dataframe tbody tr th {\n        vertical-align: top;\n    }\n\n    .dataframe thead th {\n        text-align: right;\n    }\n</style>\n<table border=\"1\" class=\"dataframe\">\n  <thead>\n    <tr style=\"text-align: right;\">\n      <th></th>\n      <th>Ürün</th>\n      <th>Datetime</th>\n      <th>Miktar</th>\n      <th>Birim Fiyat</th>\n    </tr>\n  </thead>\n  <tbody>\n    <tr>\n      <th>0</th>\n      <td>ABANT SU 500 ML</td>\n      <td>2022-01-01 15:10:00</td>\n      <td>1.0</td>\n      <td>1.25</td>\n    </tr>\n    <tr>\n      <th>1</th>\n      <td>ABANT SU 500 ML</td>\n      <td>2022-01-01 15:15:00</td>\n      <td>0.0</td>\n      <td>NaN</td>\n    </tr>\n    <tr>\n      <th>2</th>\n      <td>ABANT SU 500 ML</td>\n      <td>2022-01-01 15:20:00</td>\n      <td>0.0</td>\n      <td>NaN</td>\n    </tr>\n    <tr>\n      <th>3</th>\n      <td>ABANT SU 500 ML</td>\n      <td>2022-01-01 15:25:00</td>\n      <td>0.0</td>\n      <td>NaN</td>\n    </tr>\n    <tr>\n      <th>4</th>\n      <td>ABANT SU 500 ML</td>\n      <td>2022-01-01 15:30:00</td>\n      <td>0.0</td>\n      <td>NaN</td>\n    </tr>\n  </tbody>\n</table>\n</div>"
     },
     "metadata": {},
     "output_type": "display_data"
    }
   ],
   "source": [
    "df = df.set_index('Datetime')\n",
    "\n",
    "grouped = (\n",
    "    df.groupby(['Ürün'])\n",
    "      .resample('5T')\n",
    "      .agg({'Miktar': 'sum', 'Birim Fiyat': 'mean'})\n",
    "      .reset_index()\n",
    ")\n",
    "\n",
    "print(\"Gruplandırılmış veri örneği:\")\n",
    "display(grouped.head())"
   ],
   "metadata": {
    "collapsed": false,
    "ExecuteTime": {
     "end_time": "2025-07-09T21:03:37.944816600Z",
     "start_time": "2025-07-09T21:03:33.398817800Z"
    }
   },
   "id": "b05d48fe197a34c1",
   "execution_count": 5
  },
  {
   "cell_type": "markdown",
   "source": [
    "6 - PIVOT TABLOLAR"
   ],
   "metadata": {
    "collapsed": false
   },
   "id": "1faecbe203eb1aee"
  },
  {
   "cell_type": "code",
   "outputs": [
    {
     "name": "stdout",
     "output_type": "stream",
     "text": [
      "Sales pivot ilk 5 satır:\n"
     ]
    },
    {
     "data": {
      "text/plain": "Ürün                 ABANT SU 500 ML  COCA COLA SISE200ML  \\\nDatetime                                                    \n2022-01-01 00:05:00              0.0                  0.0   \n2022-01-01 00:10:00              0.0                  0.0   \n2022-01-01 00:15:00              0.0                  0.0   \n2022-01-01 00:20:00              0.0                  0.0   \n2022-01-01 00:25:00              0.0                  0.0   \n\nÜrün                 CORNETTO KEYIF KORNET  DORİTOS NACHO SÜPER  EKMEK  \\\nDatetime                                                                 \n2022-01-01 00:05:00                    0.0                  0.0    2.0   \n2022-01-01 00:10:00                    0.0                  0.0    0.0   \n2022-01-01 00:15:00                    0.0                  0.0    0.0   \n2022-01-01 00:20:00                    0.0                  0.0    0.0   \n2022-01-01 00:25:00                    0.0                  0.0    0.0   \n\nÜrün                 INDO MIE NOODLE KÖRILI 75 GR.  KARAM GURME 50GX18 KL  \\\nDatetime                                                                    \n2022-01-01 00:05:00                            0.0                    0.0   \n2022-01-01 00:10:00                            0.0                    0.0   \n2022-01-01 00:15:00                            0.0                    0.0   \n2022-01-01 00:20:00                            0.0                    0.0   \n2022-01-01 00:25:00                            0.0                    0.0   \n\nÜrün                 KENT D-RANGE BLUE  KINDER PINGUI CACAO T1 - 30  \\\nDatetime                                                              \n2022-01-01 00:05:00                0.0                          0.0   \n2022-01-01 00:10:00                0.0                          0.0   \n2022-01-01 00:15:00                0.0                          0.0   \n2022-01-01 00:20:00                0.0                          0.0   \n2022-01-01 00:25:00                0.0                          0.0   \n\nÜrün                 LAY S YOĞURT MEVSİM YEŞİLLİKLERİ SÜPER  LÜKS KARIŞIK  \\\nDatetime                                                                    \n2022-01-01 00:05:00                                     0.0          0.00   \n2022-01-01 00:10:00                                     0.0          0.00   \n2022-01-01 00:15:00                                     0.0          0.00   \n2022-01-01 00:20:00                                     0.0          0.15   \n2022-01-01 00:25:00                                     0.0          0.00   \n\nÜrün                 NESCAFE 3Ü1 ARADA SÜTLÜ KÖPÜKLÜ CLEO 12(48X17.4G)  \\\nDatetime                                                                 \n2022-01-01 00:05:00                                                0.0   \n2022-01-01 00:10:00                                                0.0   \n2022-01-01 00:15:00                                                0.0   \n2022-01-01 00:20:00                                                0.0   \n2022-01-01 00:25:00                                                0.0   \n\nÜrün                 SIYAH DAKOTA ÇEKİRDEK  TURK KAHVESI  \\\nDatetime                                                   \n2022-01-01 00:05:00                   0.13           0.0   \n2022-01-01 00:10:00                   0.25           0.0   \n2022-01-01 00:15:00                   0.49           0.0   \n2022-01-01 00:20:00                   0.00           0.0   \n2022-01-01 00:25:00                   0.00           0.0   \n\nÜrün                 ÜLKER LAVİVA DOLG.VE BİSK.ÇİK.35GRX24X6  \\\nDatetime                                                       \n2022-01-01 00:05:00                                      0.0   \n2022-01-01 00:10:00                                      0.0   \n2022-01-01 00:15:00                                      0.0   \n2022-01-01 00:20:00                                      2.0   \n2022-01-01 00:25:00                                      0.0   \n\nÜrün                 İÇİM SÜT YAĞLI 1LT X12  \nDatetime                                     \n2022-01-01 00:05:00                     0.0  \n2022-01-01 00:10:00                     0.0  \n2022-01-01 00:15:00                     0.0  \n2022-01-01 00:20:00                     0.0  \n2022-01-01 00:25:00                     0.0  ",
      "text/html": "<div>\n<style scoped>\n    .dataframe tbody tr th:only-of-type {\n        vertical-align: middle;\n    }\n\n    .dataframe tbody tr th {\n        vertical-align: top;\n    }\n\n    .dataframe thead th {\n        text-align: right;\n    }\n</style>\n<table border=\"1\" class=\"dataframe\">\n  <thead>\n    <tr style=\"text-align: right;\">\n      <th>Ürün</th>\n      <th>ABANT SU 500 ML</th>\n      <th>COCA COLA SISE200ML</th>\n      <th>CORNETTO KEYIF KORNET</th>\n      <th>DORİTOS NACHO SÜPER</th>\n      <th>EKMEK</th>\n      <th>INDO MIE NOODLE KÖRILI 75 GR.</th>\n      <th>KARAM GURME 50GX18 KL</th>\n      <th>KENT D-RANGE BLUE</th>\n      <th>KINDER PINGUI CACAO T1 - 30</th>\n      <th>LAY S YOĞURT MEVSİM YEŞİLLİKLERİ SÜPER</th>\n      <th>LÜKS KARIŞIK</th>\n      <th>NESCAFE 3Ü1 ARADA SÜTLÜ KÖPÜKLÜ CLEO 12(48X17.4G)</th>\n      <th>SIYAH DAKOTA ÇEKİRDEK</th>\n      <th>TURK KAHVESI</th>\n      <th>ÜLKER LAVİVA DOLG.VE BİSK.ÇİK.35GRX24X6</th>\n      <th>İÇİM SÜT YAĞLI 1LT X12</th>\n    </tr>\n    <tr>\n      <th>Datetime</th>\n      <th></th>\n      <th></th>\n      <th></th>\n      <th></th>\n      <th></th>\n      <th></th>\n      <th></th>\n      <th></th>\n      <th></th>\n      <th></th>\n      <th></th>\n      <th></th>\n      <th></th>\n      <th></th>\n      <th></th>\n      <th></th>\n    </tr>\n  </thead>\n  <tbody>\n    <tr>\n      <th>2022-01-01 00:05:00</th>\n      <td>0.0</td>\n      <td>0.0</td>\n      <td>0.0</td>\n      <td>0.0</td>\n      <td>2.0</td>\n      <td>0.0</td>\n      <td>0.0</td>\n      <td>0.0</td>\n      <td>0.0</td>\n      <td>0.0</td>\n      <td>0.00</td>\n      <td>0.0</td>\n      <td>0.13</td>\n      <td>0.0</td>\n      <td>0.0</td>\n      <td>0.0</td>\n    </tr>\n    <tr>\n      <th>2022-01-01 00:10:00</th>\n      <td>0.0</td>\n      <td>0.0</td>\n      <td>0.0</td>\n      <td>0.0</td>\n      <td>0.0</td>\n      <td>0.0</td>\n      <td>0.0</td>\n      <td>0.0</td>\n      <td>0.0</td>\n      <td>0.0</td>\n      <td>0.00</td>\n      <td>0.0</td>\n      <td>0.25</td>\n      <td>0.0</td>\n      <td>0.0</td>\n      <td>0.0</td>\n    </tr>\n    <tr>\n      <th>2022-01-01 00:15:00</th>\n      <td>0.0</td>\n      <td>0.0</td>\n      <td>0.0</td>\n      <td>0.0</td>\n      <td>0.0</td>\n      <td>0.0</td>\n      <td>0.0</td>\n      <td>0.0</td>\n      <td>0.0</td>\n      <td>0.0</td>\n      <td>0.00</td>\n      <td>0.0</td>\n      <td>0.49</td>\n      <td>0.0</td>\n      <td>0.0</td>\n      <td>0.0</td>\n    </tr>\n    <tr>\n      <th>2022-01-01 00:20:00</th>\n      <td>0.0</td>\n      <td>0.0</td>\n      <td>0.0</td>\n      <td>0.0</td>\n      <td>0.0</td>\n      <td>0.0</td>\n      <td>0.0</td>\n      <td>0.0</td>\n      <td>0.0</td>\n      <td>0.0</td>\n      <td>0.15</td>\n      <td>0.0</td>\n      <td>0.00</td>\n      <td>0.0</td>\n      <td>2.0</td>\n      <td>0.0</td>\n    </tr>\n    <tr>\n      <th>2022-01-01 00:25:00</th>\n      <td>0.0</td>\n      <td>0.0</td>\n      <td>0.0</td>\n      <td>0.0</td>\n      <td>0.0</td>\n      <td>0.0</td>\n      <td>0.0</td>\n      <td>0.0</td>\n      <td>0.0</td>\n      <td>0.0</td>\n      <td>0.00</td>\n      <td>0.0</td>\n      <td>0.00</td>\n      <td>0.0</td>\n      <td>0.0</td>\n      <td>0.0</td>\n    </tr>\n  </tbody>\n</table>\n</div>"
     },
     "metadata": {},
     "output_type": "display_data"
    },
    {
     "name": "stdout",
     "output_type": "stream",
     "text": [
      "Price pivot ilk 5 satır:\n"
     ]
    },
    {
     "data": {
      "text/plain": "Ürün                 ABANT SU 500 ML  COCA COLA SISE200ML  \\\nDatetime                                                    \n2022-01-01 00:05:00             1.25                  4.0   \n2022-01-01 00:10:00             1.25                  4.0   \n2022-01-01 00:15:00             1.25                  4.0   \n2022-01-01 00:20:00             1.25                  4.0   \n2022-01-01 00:25:00             1.25                  4.0   \n\nÜrün                 CORNETTO KEYIF KORNET  DORİTOS NACHO SÜPER  EKMEK  \\\nDatetime                                                                 \n2022-01-01 00:05:00                    4.0                  8.0   2.25   \n2022-01-01 00:10:00                    4.0                  8.0   2.25   \n2022-01-01 00:15:00                    4.0                  8.0   2.25   \n2022-01-01 00:20:00                    4.0                  8.0   2.25   \n2022-01-01 00:25:00                    4.0                  8.0   2.25   \n\nÜrün                 INDO MIE NOODLE KÖRILI 75 GR.  KARAM GURME 50GX18 KL  \\\nDatetime                                                                    \n2022-01-01 00:05:00                            3.5                    3.5   \n2022-01-01 00:10:00                            3.5                    3.5   \n2022-01-01 00:15:00                            3.5                    3.5   \n2022-01-01 00:20:00                            3.5                    3.5   \n2022-01-01 00:25:00                            3.5                    3.5   \n\nÜrün                 KENT D-RANGE BLUE  KINDER PINGUI CACAO T1 - 30  \\\nDatetime                                                              \n2022-01-01 00:05:00               18.0                         2.75   \n2022-01-01 00:10:00               18.0                         2.75   \n2022-01-01 00:15:00               18.0                         2.75   \n2022-01-01 00:20:00               18.0                         2.75   \n2022-01-01 00:25:00               18.0                         2.75   \n\nÜrün                 LAY S YOĞURT MEVSİM YEŞİLLİKLERİ SÜPER  LÜKS KARIŞIK  \\\nDatetime                                                                    \n2022-01-01 00:05:00                                     8.0         139.0   \n2022-01-01 00:10:00                                     8.0         139.0   \n2022-01-01 00:15:00                                     8.0         139.0   \n2022-01-01 00:20:00                                     8.0         139.0   \n2022-01-01 00:25:00                                     8.0         139.0   \n\nÜrün                 NESCAFE 3Ü1 ARADA SÜTLÜ KÖPÜKLÜ CLEO 12(48X17.4G)  \\\nDatetime                                                                 \n2022-01-01 00:05:00                                               1.25   \n2022-01-01 00:10:00                                               1.25   \n2022-01-01 00:15:00                                               1.25   \n2022-01-01 00:20:00                                               1.25   \n2022-01-01 00:25:00                                               1.25   \n\nÜrün                 SIYAH DAKOTA ÇEKİRDEK  TURK KAHVESI  \\\nDatetime                                                   \n2022-01-01 00:05:00                   40.0         180.0   \n2022-01-01 00:10:00                   40.0         180.0   \n2022-01-01 00:15:00                   40.0         180.0   \n2022-01-01 00:20:00                   40.0         180.0   \n2022-01-01 00:25:00                   40.0         180.0   \n\nÜrün                 ÜLKER LAVİVA DOLG.VE BİSK.ÇİK.35GRX24X6  \\\nDatetime                                                       \n2022-01-01 00:05:00                                      3.0   \n2022-01-01 00:10:00                                      3.0   \n2022-01-01 00:15:00                                      3.0   \n2022-01-01 00:20:00                                      3.0   \n2022-01-01 00:25:00                                      3.0   \n\nÜrün                 İÇİM SÜT YAĞLI 1LT X12  \nDatetime                                     \n2022-01-01 00:05:00                    11.5  \n2022-01-01 00:10:00                    11.5  \n2022-01-01 00:15:00                    11.5  \n2022-01-01 00:20:00                    11.5  \n2022-01-01 00:25:00                    11.5  ",
      "text/html": "<div>\n<style scoped>\n    .dataframe tbody tr th:only-of-type {\n        vertical-align: middle;\n    }\n\n    .dataframe tbody tr th {\n        vertical-align: top;\n    }\n\n    .dataframe thead th {\n        text-align: right;\n    }\n</style>\n<table border=\"1\" class=\"dataframe\">\n  <thead>\n    <tr style=\"text-align: right;\">\n      <th>Ürün</th>\n      <th>ABANT SU 500 ML</th>\n      <th>COCA COLA SISE200ML</th>\n      <th>CORNETTO KEYIF KORNET</th>\n      <th>DORİTOS NACHO SÜPER</th>\n      <th>EKMEK</th>\n      <th>INDO MIE NOODLE KÖRILI 75 GR.</th>\n      <th>KARAM GURME 50GX18 KL</th>\n      <th>KENT D-RANGE BLUE</th>\n      <th>KINDER PINGUI CACAO T1 - 30</th>\n      <th>LAY S YOĞURT MEVSİM YEŞİLLİKLERİ SÜPER</th>\n      <th>LÜKS KARIŞIK</th>\n      <th>NESCAFE 3Ü1 ARADA SÜTLÜ KÖPÜKLÜ CLEO 12(48X17.4G)</th>\n      <th>SIYAH DAKOTA ÇEKİRDEK</th>\n      <th>TURK KAHVESI</th>\n      <th>ÜLKER LAVİVA DOLG.VE BİSK.ÇİK.35GRX24X6</th>\n      <th>İÇİM SÜT YAĞLI 1LT X12</th>\n    </tr>\n    <tr>\n      <th>Datetime</th>\n      <th></th>\n      <th></th>\n      <th></th>\n      <th></th>\n      <th></th>\n      <th></th>\n      <th></th>\n      <th></th>\n      <th></th>\n      <th></th>\n      <th></th>\n      <th></th>\n      <th></th>\n      <th></th>\n      <th></th>\n      <th></th>\n    </tr>\n  </thead>\n  <tbody>\n    <tr>\n      <th>2022-01-01 00:05:00</th>\n      <td>1.25</td>\n      <td>4.0</td>\n      <td>4.0</td>\n      <td>8.0</td>\n      <td>2.25</td>\n      <td>3.5</td>\n      <td>3.5</td>\n      <td>18.0</td>\n      <td>2.75</td>\n      <td>8.0</td>\n      <td>139.0</td>\n      <td>1.25</td>\n      <td>40.0</td>\n      <td>180.0</td>\n      <td>3.0</td>\n      <td>11.5</td>\n    </tr>\n    <tr>\n      <th>2022-01-01 00:10:00</th>\n      <td>1.25</td>\n      <td>4.0</td>\n      <td>4.0</td>\n      <td>8.0</td>\n      <td>2.25</td>\n      <td>3.5</td>\n      <td>3.5</td>\n      <td>18.0</td>\n      <td>2.75</td>\n      <td>8.0</td>\n      <td>139.0</td>\n      <td>1.25</td>\n      <td>40.0</td>\n      <td>180.0</td>\n      <td>3.0</td>\n      <td>11.5</td>\n    </tr>\n    <tr>\n      <th>2022-01-01 00:15:00</th>\n      <td>1.25</td>\n      <td>4.0</td>\n      <td>4.0</td>\n      <td>8.0</td>\n      <td>2.25</td>\n      <td>3.5</td>\n      <td>3.5</td>\n      <td>18.0</td>\n      <td>2.75</td>\n      <td>8.0</td>\n      <td>139.0</td>\n      <td>1.25</td>\n      <td>40.0</td>\n      <td>180.0</td>\n      <td>3.0</td>\n      <td>11.5</td>\n    </tr>\n    <tr>\n      <th>2022-01-01 00:20:00</th>\n      <td>1.25</td>\n      <td>4.0</td>\n      <td>4.0</td>\n      <td>8.0</td>\n      <td>2.25</td>\n      <td>3.5</td>\n      <td>3.5</td>\n      <td>18.0</td>\n      <td>2.75</td>\n      <td>8.0</td>\n      <td>139.0</td>\n      <td>1.25</td>\n      <td>40.0</td>\n      <td>180.0</td>\n      <td>3.0</td>\n      <td>11.5</td>\n    </tr>\n    <tr>\n      <th>2022-01-01 00:25:00</th>\n      <td>1.25</td>\n      <td>4.0</td>\n      <td>4.0</td>\n      <td>8.0</td>\n      <td>2.25</td>\n      <td>3.5</td>\n      <td>3.5</td>\n      <td>18.0</td>\n      <td>2.75</td>\n      <td>8.0</td>\n      <td>139.0</td>\n      <td>1.25</td>\n      <td>40.0</td>\n      <td>180.0</td>\n      <td>3.0</td>\n      <td>11.5</td>\n    </tr>\n  </tbody>\n</table>\n</div>"
     },
     "metadata": {},
     "output_type": "display_data"
    }
   ],
   "source": [
    "sales_pivot = grouped.pivot(index='Datetime', columns='Ürün', values='Miktar').fillna(0)\n",
    "price_pivot = grouped.pivot(index='Datetime', columns='Ürün', values='Birim Fiyat').ffill().bfill()\n",
    "\n",
    "print(\"Sales pivot ilk 5 satır:\")\n",
    "display(sales_pivot.head())\n",
    "\n",
    "print(\"Price pivot ilk 5 satır:\")\n",
    "display(price_pivot.head())"
   ],
   "metadata": {
    "collapsed": false,
    "ExecuteTime": {
     "end_time": "2025-07-09T21:03:45.261825500Z",
     "start_time": "2025-07-09T21:03:37.902423900Z"
    }
   },
   "id": "664d95b8e53469fa",
   "execution_count": 6
  },
  {
   "cell_type": "markdown",
   "source": [
    "7 - KOLON İSİMLERİ & BİRLEŞTİRME"
   ],
   "metadata": {
    "collapsed": false
   },
   "id": "7f7f01319b963513"
  },
  {
   "cell_type": "code",
   "outputs": [
    {
     "name": "stdout",
     "output_type": "stream",
     "text": [
      "Pivot final ilk 5 satır:\n"
     ]
    },
    {
     "data": {
      "text/plain": "                     ABANT SU 500 ML_miktar  COCA COLA SISE200ML_miktar  \\\nDatetime                                                                  \n2022-01-01 00:05:00                     0.0                         0.0   \n2022-01-01 00:10:00                     0.0                         0.0   \n2022-01-01 00:15:00                     0.0                         0.0   \n2022-01-01 00:20:00                     0.0                         0.0   \n2022-01-01 00:25:00                     0.0                         0.0   \n\n                     CORNETTO KEYIF KORNET_miktar  DORİTOS NACHO SÜPER_miktar  \\\nDatetime                                                                        \n2022-01-01 00:05:00                           0.0                         0.0   \n2022-01-01 00:10:00                           0.0                         0.0   \n2022-01-01 00:15:00                           0.0                         0.0   \n2022-01-01 00:20:00                           0.0                         0.0   \n2022-01-01 00:25:00                           0.0                         0.0   \n\n                     EKMEK_miktar  INDO MIE NOODLE KÖRILI 75 GR._miktar  \\\nDatetime                                                                  \n2022-01-01 00:05:00           2.0                                   0.0   \n2022-01-01 00:10:00           0.0                                   0.0   \n2022-01-01 00:15:00           0.0                                   0.0   \n2022-01-01 00:20:00           0.0                                   0.0   \n2022-01-01 00:25:00           0.0                                   0.0   \n\n                     KARAM GURME 50GX18 KL_miktar  KENT D-RANGE BLUE_miktar  \\\nDatetime                                                                      \n2022-01-01 00:05:00                           0.0                       0.0   \n2022-01-01 00:10:00                           0.0                       0.0   \n2022-01-01 00:15:00                           0.0                       0.0   \n2022-01-01 00:20:00                           0.0                       0.0   \n2022-01-01 00:25:00                           0.0                       0.0   \n\n                     KINDER PINGUI CACAO T1 - 30_miktar  \\\nDatetime                                                  \n2022-01-01 00:05:00                                 0.0   \n2022-01-01 00:10:00                                 0.0   \n2022-01-01 00:15:00                                 0.0   \n2022-01-01 00:20:00                                 0.0   \n2022-01-01 00:25:00                                 0.0   \n\n                     LAY S YOĞURT MEVSİM YEŞİLLİKLERİ SÜPER_miktar  ...  \\\nDatetime                                                            ...   \n2022-01-01 00:05:00                                            0.0  ...   \n2022-01-01 00:10:00                                            0.0  ...   \n2022-01-01 00:15:00                                            0.0  ...   \n2022-01-01 00:20:00                                            0.0  ...   \n2022-01-01 00:25:00                                            0.0  ...   \n\n                     KARAM GURME 50GX18 KL_fiyat  KENT D-RANGE BLUE_fiyat  \\\nDatetime                                                                    \n2022-01-01 00:05:00                          3.5                     18.0   \n2022-01-01 00:10:00                          3.5                     18.0   \n2022-01-01 00:15:00                          3.5                     18.0   \n2022-01-01 00:20:00                          3.5                     18.0   \n2022-01-01 00:25:00                          3.5                     18.0   \n\n                     KINDER PINGUI CACAO T1 - 30_fiyat  \\\nDatetime                                                 \n2022-01-01 00:05:00                               2.75   \n2022-01-01 00:10:00                               2.75   \n2022-01-01 00:15:00                               2.75   \n2022-01-01 00:20:00                               2.75   \n2022-01-01 00:25:00                               2.75   \n\n                     LAY S YOĞURT MEVSİM YEŞİLLİKLERİ SÜPER_fiyat  \\\nDatetime                                                            \n2022-01-01 00:05:00                                           8.0   \n2022-01-01 00:10:00                                           8.0   \n2022-01-01 00:15:00                                           8.0   \n2022-01-01 00:20:00                                           8.0   \n2022-01-01 00:25:00                                           8.0   \n\n                     LÜKS KARIŞIK_fiyat  \\\nDatetime                                  \n2022-01-01 00:05:00               139.0   \n2022-01-01 00:10:00               139.0   \n2022-01-01 00:15:00               139.0   \n2022-01-01 00:20:00               139.0   \n2022-01-01 00:25:00               139.0   \n\n                     NESCAFE 3Ü1 ARADA SÜTLÜ KÖPÜKLÜ CLEO 12(48X17.4G)_fiyat  \\\nDatetime                                                                       \n2022-01-01 00:05:00                                               1.25         \n2022-01-01 00:10:00                                               1.25         \n2022-01-01 00:15:00                                               1.25         \n2022-01-01 00:20:00                                               1.25         \n2022-01-01 00:25:00                                               1.25         \n\n                     SIYAH DAKOTA ÇEKİRDEK_fiyat  TURK KAHVESI_fiyat  \\\nDatetime                                                               \n2022-01-01 00:05:00                         40.0               180.0   \n2022-01-01 00:10:00                         40.0               180.0   \n2022-01-01 00:15:00                         40.0               180.0   \n2022-01-01 00:20:00                         40.0               180.0   \n2022-01-01 00:25:00                         40.0               180.0   \n\n                     ÜLKER LAVİVA DOLG.VE BİSK.ÇİK.35GRX24X6_fiyat  \\\nDatetime                                                             \n2022-01-01 00:05:00                                            3.0   \n2022-01-01 00:10:00                                            3.0   \n2022-01-01 00:15:00                                            3.0   \n2022-01-01 00:20:00                                            3.0   \n2022-01-01 00:25:00                                            3.0   \n\n                     İÇİM SÜT YAĞLI 1LT X12_fiyat  \nDatetime                                           \n2022-01-01 00:05:00                          11.5  \n2022-01-01 00:10:00                          11.5  \n2022-01-01 00:15:00                          11.5  \n2022-01-01 00:20:00                          11.5  \n2022-01-01 00:25:00                          11.5  \n\n[5 rows x 32 columns]",
      "text/html": "<div>\n<style scoped>\n    .dataframe tbody tr th:only-of-type {\n        vertical-align: middle;\n    }\n\n    .dataframe tbody tr th {\n        vertical-align: top;\n    }\n\n    .dataframe thead th {\n        text-align: right;\n    }\n</style>\n<table border=\"1\" class=\"dataframe\">\n  <thead>\n    <tr style=\"text-align: right;\">\n      <th></th>\n      <th>ABANT SU 500 ML_miktar</th>\n      <th>COCA COLA SISE200ML_miktar</th>\n      <th>CORNETTO KEYIF KORNET_miktar</th>\n      <th>DORİTOS NACHO SÜPER_miktar</th>\n      <th>EKMEK_miktar</th>\n      <th>INDO MIE NOODLE KÖRILI 75 GR._miktar</th>\n      <th>KARAM GURME 50GX18 KL_miktar</th>\n      <th>KENT D-RANGE BLUE_miktar</th>\n      <th>KINDER PINGUI CACAO T1 - 30_miktar</th>\n      <th>LAY S YOĞURT MEVSİM YEŞİLLİKLERİ SÜPER_miktar</th>\n      <th>...</th>\n      <th>KARAM GURME 50GX18 KL_fiyat</th>\n      <th>KENT D-RANGE BLUE_fiyat</th>\n      <th>KINDER PINGUI CACAO T1 - 30_fiyat</th>\n      <th>LAY S YOĞURT MEVSİM YEŞİLLİKLERİ SÜPER_fiyat</th>\n      <th>LÜKS KARIŞIK_fiyat</th>\n      <th>NESCAFE 3Ü1 ARADA SÜTLÜ KÖPÜKLÜ CLEO 12(48X17.4G)_fiyat</th>\n      <th>SIYAH DAKOTA ÇEKİRDEK_fiyat</th>\n      <th>TURK KAHVESI_fiyat</th>\n      <th>ÜLKER LAVİVA DOLG.VE BİSK.ÇİK.35GRX24X6_fiyat</th>\n      <th>İÇİM SÜT YAĞLI 1LT X12_fiyat</th>\n    </tr>\n    <tr>\n      <th>Datetime</th>\n      <th></th>\n      <th></th>\n      <th></th>\n      <th></th>\n      <th></th>\n      <th></th>\n      <th></th>\n      <th></th>\n      <th></th>\n      <th></th>\n      <th></th>\n      <th></th>\n      <th></th>\n      <th></th>\n      <th></th>\n      <th></th>\n      <th></th>\n      <th></th>\n      <th></th>\n      <th></th>\n      <th></th>\n    </tr>\n  </thead>\n  <tbody>\n    <tr>\n      <th>2022-01-01 00:05:00</th>\n      <td>0.0</td>\n      <td>0.0</td>\n      <td>0.0</td>\n      <td>0.0</td>\n      <td>2.0</td>\n      <td>0.0</td>\n      <td>0.0</td>\n      <td>0.0</td>\n      <td>0.0</td>\n      <td>0.0</td>\n      <td>...</td>\n      <td>3.5</td>\n      <td>18.0</td>\n      <td>2.75</td>\n      <td>8.0</td>\n      <td>139.0</td>\n      <td>1.25</td>\n      <td>40.0</td>\n      <td>180.0</td>\n      <td>3.0</td>\n      <td>11.5</td>\n    </tr>\n    <tr>\n      <th>2022-01-01 00:10:00</th>\n      <td>0.0</td>\n      <td>0.0</td>\n      <td>0.0</td>\n      <td>0.0</td>\n      <td>0.0</td>\n      <td>0.0</td>\n      <td>0.0</td>\n      <td>0.0</td>\n      <td>0.0</td>\n      <td>0.0</td>\n      <td>...</td>\n      <td>3.5</td>\n      <td>18.0</td>\n      <td>2.75</td>\n      <td>8.0</td>\n      <td>139.0</td>\n      <td>1.25</td>\n      <td>40.0</td>\n      <td>180.0</td>\n      <td>3.0</td>\n      <td>11.5</td>\n    </tr>\n    <tr>\n      <th>2022-01-01 00:15:00</th>\n      <td>0.0</td>\n      <td>0.0</td>\n      <td>0.0</td>\n      <td>0.0</td>\n      <td>0.0</td>\n      <td>0.0</td>\n      <td>0.0</td>\n      <td>0.0</td>\n      <td>0.0</td>\n      <td>0.0</td>\n      <td>...</td>\n      <td>3.5</td>\n      <td>18.0</td>\n      <td>2.75</td>\n      <td>8.0</td>\n      <td>139.0</td>\n      <td>1.25</td>\n      <td>40.0</td>\n      <td>180.0</td>\n      <td>3.0</td>\n      <td>11.5</td>\n    </tr>\n    <tr>\n      <th>2022-01-01 00:20:00</th>\n      <td>0.0</td>\n      <td>0.0</td>\n      <td>0.0</td>\n      <td>0.0</td>\n      <td>0.0</td>\n      <td>0.0</td>\n      <td>0.0</td>\n      <td>0.0</td>\n      <td>0.0</td>\n      <td>0.0</td>\n      <td>...</td>\n      <td>3.5</td>\n      <td>18.0</td>\n      <td>2.75</td>\n      <td>8.0</td>\n      <td>139.0</td>\n      <td>1.25</td>\n      <td>40.0</td>\n      <td>180.0</td>\n      <td>3.0</td>\n      <td>11.5</td>\n    </tr>\n    <tr>\n      <th>2022-01-01 00:25:00</th>\n      <td>0.0</td>\n      <td>0.0</td>\n      <td>0.0</td>\n      <td>0.0</td>\n      <td>0.0</td>\n      <td>0.0</td>\n      <td>0.0</td>\n      <td>0.0</td>\n      <td>0.0</td>\n      <td>0.0</td>\n      <td>...</td>\n      <td>3.5</td>\n      <td>18.0</td>\n      <td>2.75</td>\n      <td>8.0</td>\n      <td>139.0</td>\n      <td>1.25</td>\n      <td>40.0</td>\n      <td>180.0</td>\n      <td>3.0</td>\n      <td>11.5</td>\n    </tr>\n  </tbody>\n</table>\n<p>5 rows × 32 columns</p>\n</div>"
     },
     "metadata": {},
     "output_type": "display_data"
    }
   ],
   "source": [
    "sales_pivot.columns = [f\"{col}_miktar\" for col in sales_pivot.columns]\n",
    "price_pivot.columns = [f\"{col}_fiyat\" for col in price_pivot.columns]\n",
    "\n",
    "pivot_final = sales_pivot.join(price_pivot).sort_index()\n",
    "print(\"Pivot final ilk 5 satır:\")\n",
    "display(pivot_final.head())"
   ],
   "metadata": {
    "collapsed": false,
    "ExecuteTime": {
     "end_time": "2025-07-09T21:03:46.283804600Z",
     "start_time": "2025-07-09T21:03:45.221398700Z"
    }
   },
   "id": "157de9283e1b4e8d",
   "execution_count": 7
  },
  {
   "cell_type": "markdown",
   "source": [
    "8 - FEATURE ENGINEERING"
   ],
   "metadata": {
    "collapsed": false
   },
   "id": "95f721f79651ccb4"
  },
  {
   "cell_type": "code",
   "outputs": [
    {
     "name": "stdout",
     "output_type": "stream",
     "text": [
      "Feature engineered veri örneği:\n"
     ]
    },
    {
     "data": {
      "text/plain": "                     ABANT SU 500 ML_miktar  COCA COLA SISE200ML_miktar  \\\nDatetime                                                                  \n2022-01-01 00:05:00                     0.0                         0.0   \n2022-01-01 00:10:00                     0.0                         0.0   \n2022-01-01 00:15:00                     0.0                         0.0   \n2022-01-01 00:20:00                     0.0                         0.0   \n2022-01-01 00:25:00                     0.0                         0.0   \n\n                     CORNETTO KEYIF KORNET_miktar  DORİTOS NACHO SÜPER_miktar  \\\nDatetime                                                                        \n2022-01-01 00:05:00                           0.0                         0.0   \n2022-01-01 00:10:00                           0.0                         0.0   \n2022-01-01 00:15:00                           0.0                         0.0   \n2022-01-01 00:20:00                           0.0                         0.0   \n2022-01-01 00:25:00                           0.0                         0.0   \n\n                     EKMEK_miktar  INDO MIE NOODLE KÖRILI 75 GR._miktar  \\\nDatetime                                                                  \n2022-01-01 00:05:00           2.0                                   0.0   \n2022-01-01 00:10:00           0.0                                   0.0   \n2022-01-01 00:15:00           0.0                                   0.0   \n2022-01-01 00:20:00           0.0                                   0.0   \n2022-01-01 00:25:00           0.0                                   0.0   \n\n                     KARAM GURME 50GX18 KL_miktar  KENT D-RANGE BLUE_miktar  \\\nDatetime                                                                      \n2022-01-01 00:05:00                           0.0                       0.0   \n2022-01-01 00:10:00                           0.0                       0.0   \n2022-01-01 00:15:00                           0.0                       0.0   \n2022-01-01 00:20:00                           0.0                       0.0   \n2022-01-01 00:25:00                           0.0                       0.0   \n\n                     KINDER PINGUI CACAO T1 - 30_miktar  \\\nDatetime                                                  \n2022-01-01 00:05:00                                 0.0   \n2022-01-01 00:10:00                                 0.0   \n2022-01-01 00:15:00                                 0.0   \n2022-01-01 00:20:00                                 0.0   \n2022-01-01 00:25:00                                 0.0   \n\n                     LAY S YOĞURT MEVSİM YEŞİLLİKLERİ SÜPER_miktar  ...  \\\nDatetime                                                            ...   \n2022-01-01 00:05:00                                            0.0  ...   \n2022-01-01 00:10:00                                            0.0  ...   \n2022-01-01 00:15:00                                            0.0  ...   \n2022-01-01 00:20:00                                            0.0  ...   \n2022-01-01 00:25:00                                            0.0  ...   \n\n                     NESCAFE 3Ü1 ARADA SÜTLÜ KÖPÜKLÜ CLEO 12(48X17.4G)_miktar_lag1  \\\nDatetime                                                                             \n2022-01-01 00:05:00                                                0.0               \n2022-01-01 00:10:00                                                0.0               \n2022-01-01 00:15:00                                                0.0               \n2022-01-01 00:20:00                                                0.0               \n2022-01-01 00:25:00                                                0.0               \n\n                     NESCAFE 3Ü1 ARADA SÜTLÜ KÖPÜKLÜ CLEO 12(48X17.4G)_miktar_roll5  \\\nDatetime                                                                              \n2022-01-01 00:05:00                                                0.0                \n2022-01-01 00:10:00                                                0.0                \n2022-01-01 00:15:00                                                0.0                \n2022-01-01 00:20:00                                                0.0                \n2022-01-01 00:25:00                                                0.0                \n\n                     SIYAH DAKOTA ÇEKİRDEK_miktar_lag1  \\\nDatetime                                                 \n2022-01-01 00:05:00                               0.00   \n2022-01-01 00:10:00                               0.13   \n2022-01-01 00:15:00                               0.25   \n2022-01-01 00:20:00                               0.49   \n2022-01-01 00:25:00                               0.00   \n\n                     SIYAH DAKOTA ÇEKİRDEK_miktar_roll5  \\\nDatetime                                                  \n2022-01-01 00:05:00                                 0.0   \n2022-01-01 00:10:00                                 0.0   \n2022-01-01 00:15:00                                 0.0   \n2022-01-01 00:20:00                                 0.0   \n2022-01-01 00:25:00                                 0.0   \n\n                     TURK KAHVESI_miktar_lag1  TURK KAHVESI_miktar_roll5  \\\nDatetime                                                                   \n2022-01-01 00:05:00                       0.0                        0.0   \n2022-01-01 00:10:00                       0.0                        0.0   \n2022-01-01 00:15:00                       0.0                        0.0   \n2022-01-01 00:20:00                       0.0                        0.0   \n2022-01-01 00:25:00                       0.0                        0.0   \n\n                     ÜLKER LAVİVA DOLG.VE BİSK.ÇİK.35GRX24X6_miktar_lag1  \\\nDatetime                                                                   \n2022-01-01 00:05:00                                                0.0     \n2022-01-01 00:10:00                                                0.0     \n2022-01-01 00:15:00                                                0.0     \n2022-01-01 00:20:00                                                0.0     \n2022-01-01 00:25:00                                                2.0     \n\n                     ÜLKER LAVİVA DOLG.VE BİSK.ÇİK.35GRX24X6_miktar_roll5  \\\nDatetime                                                                    \n2022-01-01 00:05:00                                                0.0      \n2022-01-01 00:10:00                                                0.0      \n2022-01-01 00:15:00                                                0.0      \n2022-01-01 00:20:00                                                0.0      \n2022-01-01 00:25:00                                                0.0      \n\n                     İÇİM SÜT YAĞLI 1LT X12_miktar_lag1  \\\nDatetime                                                  \n2022-01-01 00:05:00                                 0.0   \n2022-01-01 00:10:00                                 0.0   \n2022-01-01 00:15:00                                 0.0   \n2022-01-01 00:20:00                                 0.0   \n2022-01-01 00:25:00                                 0.0   \n\n                     İÇİM SÜT YAĞLI 1LT X12_miktar_roll5  \nDatetime                                                  \n2022-01-01 00:05:00                                  0.0  \n2022-01-01 00:10:00                                  0.0  \n2022-01-01 00:15:00                                  0.0  \n2022-01-01 00:20:00                                  0.0  \n2022-01-01 00:25:00                                  0.0  \n\n[5 rows x 68 columns]",
      "text/html": "<div>\n<style scoped>\n    .dataframe tbody tr th:only-of-type {\n        vertical-align: middle;\n    }\n\n    .dataframe tbody tr th {\n        vertical-align: top;\n    }\n\n    .dataframe thead th {\n        text-align: right;\n    }\n</style>\n<table border=\"1\" class=\"dataframe\">\n  <thead>\n    <tr style=\"text-align: right;\">\n      <th></th>\n      <th>ABANT SU 500 ML_miktar</th>\n      <th>COCA COLA SISE200ML_miktar</th>\n      <th>CORNETTO KEYIF KORNET_miktar</th>\n      <th>DORİTOS NACHO SÜPER_miktar</th>\n      <th>EKMEK_miktar</th>\n      <th>INDO MIE NOODLE KÖRILI 75 GR._miktar</th>\n      <th>KARAM GURME 50GX18 KL_miktar</th>\n      <th>KENT D-RANGE BLUE_miktar</th>\n      <th>KINDER PINGUI CACAO T1 - 30_miktar</th>\n      <th>LAY S YOĞURT MEVSİM YEŞİLLİKLERİ SÜPER_miktar</th>\n      <th>...</th>\n      <th>NESCAFE 3Ü1 ARADA SÜTLÜ KÖPÜKLÜ CLEO 12(48X17.4G)_miktar_lag1</th>\n      <th>NESCAFE 3Ü1 ARADA SÜTLÜ KÖPÜKLÜ CLEO 12(48X17.4G)_miktar_roll5</th>\n      <th>SIYAH DAKOTA ÇEKİRDEK_miktar_lag1</th>\n      <th>SIYAH DAKOTA ÇEKİRDEK_miktar_roll5</th>\n      <th>TURK KAHVESI_miktar_lag1</th>\n      <th>TURK KAHVESI_miktar_roll5</th>\n      <th>ÜLKER LAVİVA DOLG.VE BİSK.ÇİK.35GRX24X6_miktar_lag1</th>\n      <th>ÜLKER LAVİVA DOLG.VE BİSK.ÇİK.35GRX24X6_miktar_roll5</th>\n      <th>İÇİM SÜT YAĞLI 1LT X12_miktar_lag1</th>\n      <th>İÇİM SÜT YAĞLI 1LT X12_miktar_roll5</th>\n    </tr>\n    <tr>\n      <th>Datetime</th>\n      <th></th>\n      <th></th>\n      <th></th>\n      <th></th>\n      <th></th>\n      <th></th>\n      <th></th>\n      <th></th>\n      <th></th>\n      <th></th>\n      <th></th>\n      <th></th>\n      <th></th>\n      <th></th>\n      <th></th>\n      <th></th>\n      <th></th>\n      <th></th>\n      <th></th>\n      <th></th>\n      <th></th>\n    </tr>\n  </thead>\n  <tbody>\n    <tr>\n      <th>2022-01-01 00:05:00</th>\n      <td>0.0</td>\n      <td>0.0</td>\n      <td>0.0</td>\n      <td>0.0</td>\n      <td>2.0</td>\n      <td>0.0</td>\n      <td>0.0</td>\n      <td>0.0</td>\n      <td>0.0</td>\n      <td>0.0</td>\n      <td>...</td>\n      <td>0.0</td>\n      <td>0.0</td>\n      <td>0.00</td>\n      <td>0.0</td>\n      <td>0.0</td>\n      <td>0.0</td>\n      <td>0.0</td>\n      <td>0.0</td>\n      <td>0.0</td>\n      <td>0.0</td>\n    </tr>\n    <tr>\n      <th>2022-01-01 00:10:00</th>\n      <td>0.0</td>\n      <td>0.0</td>\n      <td>0.0</td>\n      <td>0.0</td>\n      <td>0.0</td>\n      <td>0.0</td>\n      <td>0.0</td>\n      <td>0.0</td>\n      <td>0.0</td>\n      <td>0.0</td>\n      <td>...</td>\n      <td>0.0</td>\n      <td>0.0</td>\n      <td>0.13</td>\n      <td>0.0</td>\n      <td>0.0</td>\n      <td>0.0</td>\n      <td>0.0</td>\n      <td>0.0</td>\n      <td>0.0</td>\n      <td>0.0</td>\n    </tr>\n    <tr>\n      <th>2022-01-01 00:15:00</th>\n      <td>0.0</td>\n      <td>0.0</td>\n      <td>0.0</td>\n      <td>0.0</td>\n      <td>0.0</td>\n      <td>0.0</td>\n      <td>0.0</td>\n      <td>0.0</td>\n      <td>0.0</td>\n      <td>0.0</td>\n      <td>...</td>\n      <td>0.0</td>\n      <td>0.0</td>\n      <td>0.25</td>\n      <td>0.0</td>\n      <td>0.0</td>\n      <td>0.0</td>\n      <td>0.0</td>\n      <td>0.0</td>\n      <td>0.0</td>\n      <td>0.0</td>\n    </tr>\n    <tr>\n      <th>2022-01-01 00:20:00</th>\n      <td>0.0</td>\n      <td>0.0</td>\n      <td>0.0</td>\n      <td>0.0</td>\n      <td>0.0</td>\n      <td>0.0</td>\n      <td>0.0</td>\n      <td>0.0</td>\n      <td>0.0</td>\n      <td>0.0</td>\n      <td>...</td>\n      <td>0.0</td>\n      <td>0.0</td>\n      <td>0.49</td>\n      <td>0.0</td>\n      <td>0.0</td>\n      <td>0.0</td>\n      <td>0.0</td>\n      <td>0.0</td>\n      <td>0.0</td>\n      <td>0.0</td>\n    </tr>\n    <tr>\n      <th>2022-01-01 00:25:00</th>\n      <td>0.0</td>\n      <td>0.0</td>\n      <td>0.0</td>\n      <td>0.0</td>\n      <td>0.0</td>\n      <td>0.0</td>\n      <td>0.0</td>\n      <td>0.0</td>\n      <td>0.0</td>\n      <td>0.0</td>\n      <td>...</td>\n      <td>0.0</td>\n      <td>0.0</td>\n      <td>0.00</td>\n      <td>0.0</td>\n      <td>0.0</td>\n      <td>0.0</td>\n      <td>2.0</td>\n      <td>0.0</td>\n      <td>0.0</td>\n      <td>0.0</td>\n    </tr>\n  </tbody>\n</table>\n<p>5 rows × 68 columns</p>\n</div>"
     },
     "metadata": {},
     "output_type": "display_data"
    }
   ],
   "source": [
    "df_fe = pivot_final.copy()\n",
    "\n",
    "df_fe['hour'] = df_fe.index.hour\n",
    "df_fe['day'] = df_fe.index.day\n",
    "df_fe['weekday'] = df_fe.index.weekday\n",
    "df_fe['is_weekend'] = df_fe['weekday'].isin([5, 6]).astype(int)\n",
    "\n",
    "miktar_cols = [col for col in df_fe.columns if col.endswith('_miktar')]\n",
    "\n",
    "for col in miktar_cols:\n",
    "    lag_col = f\"{col}_lag1\"\n",
    "    roll_col = f\"{col}_roll5\"\n",
    "    df_fe[lag_col] = df_fe[col].shift(1)\n",
    "    df_fe[roll_col] = df_fe[col].shift(1).rolling(window=5).mean()\n",
    "\n",
    "df_fe.fillna(0, inplace=True)\n",
    "\n",
    "print(\"Feature engineered veri örneği:\")\n",
    "display(df_fe.head())"
   ],
   "metadata": {
    "collapsed": false,
    "ExecuteTime": {
     "end_time": "2025-07-09T21:03:46.532687600Z",
     "start_time": "2025-07-09T21:03:45.563518100Z"
    }
   },
   "id": "b2ec5d7f8f5e25e8",
   "execution_count": 8
  },
  {
   "cell_type": "markdown",
   "source": [
    "9 - KAYDETME"
   ],
   "metadata": {
    "collapsed": false
   },
   "id": "9f6f0c23ce295e8a"
  },
  {
   "cell_type": "code",
   "outputs": [
    {
     "name": "stdout",
     "output_type": "stream",
     "text": [
      "Son veri seti boyutu: (315645, 68)\n",
      "Toplam süre: 54.19 saniye\n",
      "İşlem tamamlandı ve dosya kaydedildi.\n"
     ]
    }
   ],
   "source": [
    "end_time = time.time()\n",
    "elapsed_time = end_time - start_time\n",
    "\n",
    "print(f\"Son veri seti boyutu: {df_fe.shape}\")\n",
    "df_fe.to_excel(\"pivot_final_with_features_ALL.xlsx\")\n",
    "\n",
    "print(f\"Toplam süre: {elapsed_time:.2f} saniye\")\n",
    "print(\"İşlem tamamlandı ve dosya kaydedildi.\")"
   ],
   "metadata": {
    "collapsed": false,
    "ExecuteTime": {
     "end_time": "2025-07-09T21:12:23.367674200Z",
     "start_time": "2025-07-09T21:03:46.205504300Z"
    }
   },
   "id": "944049c34177305e",
   "execution_count": 9
  }
 ],
 "metadata": {
  "kernelspec": {
   "display_name": "Python 3",
   "language": "python",
   "name": "python3"
  },
  "language_info": {
   "codemirror_mode": {
    "name": "ipython",
    "version": 2
   },
   "file_extension": ".py",
   "mimetype": "text/x-python",
   "name": "python",
   "nbconvert_exporter": "python",
   "pygments_lexer": "ipython2",
   "version": "2.7.6"
  }
 },
 "nbformat": 4,
 "nbformat_minor": 5
}
