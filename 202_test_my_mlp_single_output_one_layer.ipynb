{
 "cells": [
  {
   "cell_type": "markdown",
   "source": [
    "**202: EKMEK Ürünü, X12 Veriseti, Single-Output Tek Katmanlı MLP Modelleme**  \n",
    "TEST\n",
    "\n",
    "Lütfen 202 no.lu train kodunu çalıştırdıktan sonra `202_W1.npy`, `202_W2.npy` ve bias dosyalarının `models/` klasöründe olduğundan emin olunuz.\n",
    "\n",
    "Bu işlemde sadece test işlemi yapılmaktadır.\n"
   ],
   "metadata": {
    "collapsed": false
   },
   "id": "d26895c482220529"
  },
  {
   "cell_type": "markdown",
   "source": [
    "1 - KÜTÜPHANE & VERİ YÜKLEME"
   ],
   "metadata": {
    "collapsed": false
   },
   "id": "3253903d263ec09f"
  },
  {
   "cell_type": "code",
   "execution_count": 1,
   "id": "initial_id",
   "metadata": {
    "collapsed": true,
    "ExecuteTime": {
     "end_time": "2025-07-10T17:57:55.826684500Z",
     "start_time": "2025-07-10T17:57:55.665360200Z"
    }
   },
   "outputs": [],
   "source": [
    "import numpy as np\n",
    "\n",
    "X_test = np.load('npy/X12_test_EKMEK.npy')\n",
    "y_test = np.load('npy/y_test_EKMEK_miktar.npy')\n",
    "\n",
    "W1 = np.load('models/202_W1.npy')\n",
    "b1 = np.load('models/202_b1.npy')\n",
    "W2 = np.load('models/202_W2.npy')\n",
    "b2 = np.load('models/202_b2.npy')\n",
    "\n",
    "def relu(x): return np.maximum(0, x)"
   ]
  },
  {
   "cell_type": "markdown",
   "source": [
    "2 - TEST FORWARD PASS & MSE"
   ],
   "metadata": {
    "collapsed": false
   },
   "id": "6a5c499ec690bf9f"
  },
  {
   "cell_type": "code",
   "outputs": [
    {
     "name": "stdout",
     "output_type": "stream",
     "text": [
      "Test MSE: 2.4920\n"
     ]
    }
   ],
   "source": [
    "Z1 = X_test.dot(W1) + b1\n",
    "A1 = relu(Z1)\n",
    "y_pred = A1.dot(W2) + b2\n",
    "y_pred = y_pred.flatten()\n",
    "\n",
    "test_mse = np.mean((y_test - y_pred)**2)\n",
    "print(f\"Test MSE: {test_mse:.4f}\")"
   ],
   "metadata": {
    "collapsed": false,
    "ExecuteTime": {
     "end_time": "2025-07-10T17:57:55.956662300Z",
     "start_time": "2025-07-10T17:57:55.829577900Z"
    }
   },
   "id": "afe5f64986676bed",
   "execution_count": 2
  }
 ],
 "metadata": {
  "kernelspec": {
   "display_name": "Python 3",
   "language": "python",
   "name": "python3"
  },
  "language_info": {
   "codemirror_mode": {
    "name": "ipython",
    "version": 2
   },
   "file_extension": ".py",
   "mimetype": "text/x-python",
   "name": "python",
   "nbconvert_exporter": "python",
   "pygments_lexer": "ipython2",
   "version": "2.7.6"
  }
 },
 "nbformat": 4,
 "nbformat_minor": 5
}
