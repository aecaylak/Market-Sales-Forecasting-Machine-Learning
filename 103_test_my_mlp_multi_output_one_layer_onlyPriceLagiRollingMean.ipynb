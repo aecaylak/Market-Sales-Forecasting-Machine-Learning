{
 "cells": [
  {
   "cell_type": "markdown",
   "source": [
    "**103: 1. Veri seti, Tek Katmanlı MLP tipli modelleme (Price Lag Rolling Mean)**  \n",
    "TEST\n",
    "\n",
    "Lütfen 103 no.lu train kodunu çalıştırdıktan sonra 103_W1, 103_W2 ve bias dosyalarının olduğundan emin olunuz.\n",
    "\n",
    "Bu işlemde sadece test işlemi yapılmaktadır."
   ],
   "metadata": {
    "collapsed": false
   },
   "id": "7740452716564c11"
  },
  {
   "cell_type": "markdown",
   "source": [
    "1 - KÜTÜPHANE & VERİ YÜKLEME"
   ],
   "metadata": {
    "collapsed": false
   },
   "id": "f5e50e1bb05b9985"
  },
  {
   "cell_type": "code",
   "outputs": [],
   "source": [
    "import numpy as np\n",
    "\n",
    "X1_test = np.load('npy/X1_test_multi.npy')\n",
    "y_test = np.load('npy/y_test_multi.npy')\n",
    "\n",
    "W1 = np.load('models/103_W1.npy')\n",
    "b1 = np.load('models/103_b1.npy')\n",
    "W2 = np.load('models/103_W2.npy')\n",
    "b2 = np.load('models/103_b2.npy')\n",
    "\n",
    "def relu(x): return np.maximum(0, x)"
   ],
   "metadata": {
    "collapsed": false,
    "ExecuteTime": {
     "end_time": "2025-07-10T07:20:18.365783200Z",
     "start_time": "2025-07-10T07:20:18.106669400Z"
    }
   },
   "id": "adb3d38c010bec30",
   "execution_count": 1
  },
  {
   "cell_type": "markdown",
   "source": [
    "2 - TAHMİN & METRİK"
   ],
   "metadata": {
    "collapsed": false
   },
   "id": "f39640967dba951a"
  },
  {
   "cell_type": "code",
   "outputs": [
    {
     "name": "stdout",
     "output_type": "stream",
     "text": [
      "Test MSE: 0.1969\n"
     ]
    }
   ],
   "source": [
    "Z1 = X1_test.dot(W1) + b1\n",
    "A1 = relu(Z1)\n",
    "Z2 = A1.dot(W2) + b2\n",
    "\n",
    "y_pred = Z2\n",
    "test_mse = np.mean((y_test - y_pred)**2)\n",
    "\n",
    "print(f\"Test MSE: {test_mse:.4f}\")"
   ],
   "metadata": {
    "collapsed": false,
    "ExecuteTime": {
     "end_time": "2025-07-10T07:20:18.655547500Z",
     "start_time": "2025-07-10T07:20:18.370206500Z"
    }
   },
   "id": "58883b59d2f9937f",
   "execution_count": 2
  }
 ],
 "metadata": {
  "kernelspec": {
   "display_name": "Python 3",
   "language": "python",
   "name": "python3"
  },
  "language_info": {
   "codemirror_mode": {
    "name": "ipython",
    "version": 2
   },
   "file_extension": ".py",
   "mimetype": "text/x-python",
   "name": "python",
   "nbconvert_exporter": "python",
   "pygments_lexer": "ipython2",
   "version": "2.7.6"
  }
 },
 "nbformat": 4,
 "nbformat_minor": 5
}
