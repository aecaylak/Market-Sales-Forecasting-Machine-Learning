{
 "cells": [
  {
   "cell_type": "markdown",
   "source": [
    "**121: 1. Veri seti, Multi-Output Random Forest + GridSearchCV Modelleme**  \n",
    "TRAIN\n",
    "\n",
    "Amaç: 16 ürün için çok çıkışlı regresyon tahmini yapmak.\n",
    "\n",
    "Girdi:  \n",
    "- X_train_multi.npy → Özellik seti  \n",
    "- y_train_multi.npy → Hedef değişkenler\n",
    "\n",
    "Çıktı: Her ürün için satış tahminleri.\n",
    "\n",
    "Model: Random Forest Regressor modeli, Multi-Output yaklaşımı (sklearn MultiOutputRegressor)\n",
    "\n",
    "Yöntem: GridSearchCV ile hiperparametre optimizasyonu (n_estimators, max_depth, min_samples_split, min_samples_leaf)\n",
    "\n",
    "Metrik: Mean Squared Error (MSE)\n",
    "\n",
    "Çıktılar:  \n",
    "- GridSearch CV sonuçları raporlanır.  \n",
    "- En iyi model: `models/121_rf_model.pkl` dosyasına kaydedilir.\n"
   ],
   "metadata": {
    "collapsed": false
   },
   "id": "95194e8a75847213"
  },
  {
   "cell_type": "markdown",
   "source": [
    "1 - KÜTÜPHANE & VERİ YÜKLEME"
   ],
   "metadata": {
    "collapsed": false
   },
   "id": "76a17242ca6c0d2a"
  },
  {
   "cell_type": "code",
   "execution_count": 1,
   "id": "initial_id",
   "metadata": {
    "collapsed": true,
    "ExecuteTime": {
     "end_time": "2025-07-09T05:40:06.900836Z",
     "start_time": "2025-07-09T05:40:04.137277800Z"
    }
   },
   "outputs": [
    {
     "name": "stdout",
     "output_type": "stream",
     "text": [
      "X_train shape: (210239, 52) | y_train shape: (210239, 16)\n"
     ]
    }
   ],
   "source": [
    "import numpy as np\n",
    "from sklearn.multioutput import MultiOutputRegressor\n",
    "from sklearn.ensemble import RandomForestRegressor\n",
    "from sklearn.model_selection import GridSearchCV\n",
    "from sklearn.metrics import make_scorer, mean_squared_error\n",
    "import joblib\n",
    "\n",
    "X_train = np.load('npy/X_train_multi.npy')\n",
    "y_train = np.load('npy/y_train_multi.npy')\n",
    "\n",
    "print(f\"X_train shape: {X_train.shape} | y_train shape: {y_train.shape}\")\n"
   ]
  },
  {
   "cell_type": "markdown",
   "source": [
    "2 - MODEL & GRIDSEARCHCV"
   ],
   "metadata": {
    "collapsed": false
   },
   "id": "c9a04cbee8e77186"
  },
  {
   "cell_type": "code",
   "outputs": [
    {
     "name": "stdout",
     "output_type": "stream",
     "text": [
      "Fitting 3 folds for each of 1 candidates, totalling 3 fits\n",
      "\n",
      "En iyi parametre kombinasyonu:\n",
      "{'estimator__max_depth': 3, 'estimator__min_samples_leaf': 2, 'estimator__min_samples_split': 2, 'estimator__n_estimators': 100}\n",
      "En iyi CV MSE: -0.1987\n"
     ]
    }
   ],
   "source": [
    "rf = RandomForestRegressor(random_state=42)\n",
    "multi_rf = MultiOutputRegressor(rf)\n",
    "\n",
    "param_grid = {\n",
    "    'estimator__n_estimators': [100],\n",
    "    'estimator__max_depth': [3],\n",
    "    'estimator__min_samples_split': [2],\n",
    "    'estimator__min_samples_leaf': [2],\n",
    "}\n",
    "\n",
    "scorer = make_scorer(mean_squared_error, greater_is_better=False)\n",
    "\n",
    "grid_search = GridSearchCV(\n",
    "    estimator=multi_rf,\n",
    "    param_grid=param_grid,\n",
    "    scoring=scorer,\n",
    "    cv=3,\n",
    "    verbose=2,\n",
    "    n_jobs=-1\n",
    ")\n",
    "\n",
    "grid_search.fit(X_train, y_train)\n",
    "\n",
    "print(\"\\nEn iyi parametre kombinasyonu:\")\n",
    "print(grid_search.best_params_)\n",
    "print(f\"En iyi CV MSE: {grid_search.best_score_:.4f}\")"
   ],
   "metadata": {
    "collapsed": false,
    "ExecuteTime": {
     "end_time": "2025-07-09T06:08:53.123649Z",
     "start_time": "2025-07-09T05:40:06.907603400Z"
    }
   },
   "id": "1c732c7ca1af2c24",
   "execution_count": 2
  },
  {
   "cell_type": "markdown",
   "source": [
    "3 - MODEL KAYIT"
   ],
   "metadata": {
    "collapsed": false
   },
   "id": "fe10a8f7d570fc2a"
  },
  {
   "cell_type": "code",
   "outputs": [
    {
     "name": "stdout",
     "output_type": "stream",
     "text": [
      "En iyi model 'models/121_rf_model.pkl' dosyasına kaydedildi.\n"
     ]
    }
   ],
   "source": [
    "best_model = grid_search.best_estimator_\n",
    "joblib.dump(best_model, 'models/121_rf_model.pkl')\n",
    "print(\"En iyi model 'models/121_rf_model.pkl' dosyasına kaydedildi.\")\n"
   ],
   "metadata": {
    "collapsed": false,
    "ExecuteTime": {
     "end_time": "2025-07-09T06:08:53.488810700Z",
     "start_time": "2025-07-09T06:08:53.119530200Z"
    }
   },
   "id": "8b65a5ce2348e050",
   "execution_count": 3
  }
 ],
 "metadata": {
  "kernelspec": {
   "display_name": "Python 3",
   "language": "python",
   "name": "python3"
  },
  "language_info": {
   "codemirror_mode": {
    "name": "ipython",
    "version": 2
   },
   "file_extension": ".py",
   "mimetype": "text/x-python",
   "name": "python",
   "nbconvert_exporter": "python",
   "pygments_lexer": "ipython2",
   "version": "2.7.6"
  }
 },
 "nbformat": 4,
 "nbformat_minor": 5
}
