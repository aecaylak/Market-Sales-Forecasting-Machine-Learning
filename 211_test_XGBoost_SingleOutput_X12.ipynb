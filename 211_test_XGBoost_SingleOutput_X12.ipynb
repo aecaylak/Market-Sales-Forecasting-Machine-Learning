{
 "cells": [
  {
   "cell_type": "markdown",
   "source": [
    "**211: EKMEK Ürünü, X12 Veriseti, Single-Output XGBoost + GridSearchCV Modelleme**  \n",
    "TEST\n",
    "\n",
    "Lütfen 211 no.lu train kodunu çalıştırdıktan sonra `211_xgb_X12_model.pkl` dosyasının `models/` klasöründe olduğundan emin olunuz.\n",
    "\n",
    "Bu işlemde sadece test işlemi yapılmaktadır.\n"
   ],
   "metadata": {
    "collapsed": false
   },
   "id": "5d878215066f237e"
  },
  {
   "cell_type": "markdown",
   "source": [
    "1 - KÜTÜPHANE & MODEL YÜKLEME"
   ],
   "metadata": {
    "collapsed": false
   },
   "id": "fd54164d35c63bf4"
  },
  {
   "cell_type": "code",
   "outputs": [],
   "source": [
    "import numpy as np\n",
    "import joblib\n",
    "from sklearn.metrics import mean_squared_error\n",
    "\n",
    "X_test = np.load('npy/X12_test_EKMEK.npy')\n",
    "y_test = np.load('npy/y_test_EKMEK_miktar.npy')\n",
    "\n",
    "model = joblib.load('models/211_xgb_X12_model.pkl')"
   ],
   "metadata": {
    "collapsed": false,
    "ExecuteTime": {
     "end_time": "2025-07-10T14:03:03.133578400Z",
     "start_time": "2025-07-10T14:03:02.842138500Z"
    }
   },
   "id": "97832ee6c1ec0485",
   "execution_count": 5
  },
  {
   "cell_type": "markdown",
   "source": [
    "2 - TAHMİN & TEST MSE"
   ],
   "metadata": {
    "collapsed": false
   },
   "id": "6cc468d9b04e87b3"
  },
  {
   "cell_type": "code",
   "outputs": [
    {
     "name": "stdout",
     "output_type": "stream",
     "text": [
      "Test MSE: 2.4271\n"
     ]
    }
   ],
   "source": [
    "y_pred = model.predict(X_test)\n",
    "test_mse = mean_squared_error(y_test, y_pred)\n",
    "\n",
    "print(f\"Test MSE: {test_mse:.4f}\")"
   ],
   "metadata": {
    "collapsed": false,
    "ExecuteTime": {
     "end_time": "2025-07-10T14:03:03.685538900Z",
     "start_time": "2025-07-10T14:03:03.128418600Z"
    }
   },
   "id": "e65d703d4560cc1b",
   "execution_count": 6
  }
 ],
 "metadata": {
  "kernelspec": {
   "display_name": "Python 3",
   "language": "python",
   "name": "python3"
  },
  "language_info": {
   "codemirror_mode": {
    "name": "ipython",
    "version": 2
   },
   "file_extension": ".py",
   "mimetype": "text/x-python",
   "name": "python",
   "nbconvert_exporter": "python",
   "pygments_lexer": "ipython2",
   "version": "2.7.6"
  }
 },
 "nbformat": 4,
 "nbformat_minor": 5
}
