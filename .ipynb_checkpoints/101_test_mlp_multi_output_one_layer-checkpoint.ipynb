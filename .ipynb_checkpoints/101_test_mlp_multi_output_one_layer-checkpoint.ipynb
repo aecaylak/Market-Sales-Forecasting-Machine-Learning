{
 "cells": [
  {
   "cell_type": "markdown",
   "source": [
    "1- Kutuphane ve veri yukleme"
   ],
   "metadata": {
    "collapsed": false
   },
   "id": "a6b70cde3fbca44c"
  },
  {
   "cell_type": "code",
   "execution_count": 1,
   "id": "initial_id",
   "metadata": {
    "collapsed": true,
    "ExecuteTime": {
     "end_time": "2025-07-08T21:00:21.125155Z",
     "start_time": "2025-07-08T21:00:20.894777800Z"
    }
   },
   "outputs": [],
   "source": [
    "import numpy as np\n",
    "\n",
    "X1_test = np.load('npy/X_test_multi.npy')\n",
    "y_test = np.load('npy/y_test_multi.npy')\n",
    "\n",
    "W1 = np.load('models/mlp_one_W1.npy')\n",
    "b1 = np.load('models/mlp_one_b1.npy')\n",
    "W2 = np.load('models/mlp_one_W2.npy')\n",
    "b2 = np.load('models/mlp_one_b2.npy')\n",
    "\n",
    "def relu(x): return np.maximum(0, x)"
   ]
  },
  {
   "cell_type": "markdown",
   "source": [
    "2- Tahmin ve Metrik"
   ],
   "metadata": {
    "collapsed": false
   },
   "id": "492209b897bdf540"
  },
  {
   "cell_type": "code",
   "outputs": [
    {
     "name": "stdout",
     "output_type": "stream",
     "text": [
      "Test MSE: 0.1975\n"
     ]
    }
   ],
   "source": [
    "Z1 = X1_test.dot(W1) + b1\n",
    "A1 = relu(Z1)\n",
    "Z2 = A1.dot(W2) + b2\n",
    "\n",
    "y_pred = Z2\n",
    "test_mse = np.mean((y_test - y_pred)**2)\n",
    "\n",
    "print(f\"Test MSE: {test_mse:.4f}\")"
   ],
   "metadata": {
    "collapsed": false,
    "ExecuteTime": {
     "end_time": "2025-07-08T21:00:24.678313800Z",
     "start_time": "2025-07-08T21:00:24.178287900Z"
    }
   },
   "id": "13c26e7163c46461",
   "execution_count": 2
  },
  {
   "cell_type": "code",
   "outputs": [],
   "source": [],
   "metadata": {
    "collapsed": false
   },
   "id": "d0fef85730c6f5d"
  }
 ],
 "metadata": {
  "kernelspec": {
   "display_name": "Python 3",
   "language": "python",
   "name": "python3"
  },
  "language_info": {
   "codemirror_mode": {
    "name": "ipython",
    "version": 2
   },
   "file_extension": ".py",
   "mimetype": "text/x-python",
   "name": "python",
   "nbconvert_exporter": "python",
   "pygments_lexer": "ipython2",
   "version": "2.7.6"
  }
 },
 "nbformat": 4,
 "nbformat_minor": 5
}
