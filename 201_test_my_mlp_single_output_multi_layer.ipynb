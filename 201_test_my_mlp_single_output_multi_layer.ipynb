{
 "cells": [
  {
   "cell_type": "markdown",
   "source": [
    "**201: EKMEK Ürünü, X12 Veriseti, Single-Output Multi-Layer MLP Modelleme**  \n",
    "TEST\n",
    "\n",
    "Lütfen 201 no.lu train kodunu çalıştırdıktan sonra `201_W1.npy`, `201_W2.npy`, `201_W3.npy`, `201_W4.npy` ve bias dosyalarının `models/` klasöründe olduğundan emin olunuz.\n",
    "\n",
    "Bu işlemde sadece test işlemi yapılmaktadır.\n"
   ],
   "metadata": {
    "collapsed": false
   },
   "id": "7c2981eccafa98da"
  },
  {
   "cell_type": "markdown",
   "source": [
    "1 - KÜTÜPHANE & VERİ YÜKLEME"
   ],
   "metadata": {
    "collapsed": false
   },
   "id": "a2a253ba01b23ac9"
  },
  {
   "cell_type": "code",
   "outputs": [],
   "source": [
    "import numpy as np\n",
    "\n",
    "X1_test = np.load('npy/X1_test_EKMEK.npy')\n",
    "X2_test = np.load('npy/X2_test_EKMEK.npy')\n",
    "y_test  = np.load('npy/y_test_EKMEK_miktar.npy')\n",
    "\n",
    "X1_mean = np.load('npy/X1_train_EKMEK.npy').mean(axis=0)\n",
    "X1_std  = np.load('npy/X1_train_EKMEK.npy').std(axis=0)\n",
    "X1_test_scaled = (X1_test - X1_mean) / X1_std"
   ],
   "metadata": {
    "collapsed": false,
    "ExecuteTime": {
     "end_time": "2025-07-10T17:58:14.156956800Z",
     "start_time": "2025-07-10T17:58:14.015523800Z"
    }
   },
   "id": "917b6300a7546141",
   "execution_count": 1
  },
  {
   "cell_type": "markdown",
   "source": [
    "2 - MODEL AĞIRLIKLARINI YÜKLE"
   ],
   "metadata": {
    "collapsed": false
   },
   "id": "cccf1707a1af162f"
  },
  {
   "cell_type": "code",
   "execution_count": 2,
   "id": "initial_id",
   "metadata": {
    "collapsed": true,
    "ExecuteTime": {
     "end_time": "2025-07-10T17:58:14.174198400Z",
     "start_time": "2025-07-10T17:58:14.160452100Z"
    }
   },
   "outputs": [],
   "source": [
    "W1 = np.load('models/201_W1.npy')\n",
    "b1 = np.load('models/201_b1.npy')\n",
    "W2 = np.load('models/201_W2.npy')\n",
    "b2 = np.load('models/201_b2.npy')\n",
    "W3 = np.load('models/201_W3.npy')\n",
    "b3 = np.load('models/201_b3.npy')\n",
    "W4 = np.load('models/201_W4.npy')\n",
    "b4 = np.load('models/201_b4.npy')\n",
    "\n",
    "def relu(x): return np.maximum(0, x)"
   ]
  },
  {
   "cell_type": "markdown",
   "source": [
    "3 - TEST FORWARD PASS & MSE"
   ],
   "metadata": {
    "collapsed": false
   },
   "id": "6dc845f679df17d9"
  },
  {
   "cell_type": "code",
   "outputs": [
    {
     "name": "stdout",
     "output_type": "stream",
     "text": [
      "Test MSE: 2.4376\n"
     ]
    }
   ],
   "source": [
    "Z1 = X1_test_scaled.dot(W1) + b1\n",
    "A1 = relu(Z1)\n",
    "\n",
    "A1_cat = np.concatenate([A1, X2_test], axis=1)\n",
    "Z2 = A1_cat.dot(W2) + b2\n",
    "A2 = relu(Z2)\n",
    "\n",
    "Z3 = A2.dot(W3) + b3\n",
    "A3 = relu(Z3)\n",
    "\n",
    "Z4 = A3.dot(W4) + b4\n",
    "y_pred = Z4.flatten()\n",
    "\n",
    "test_mse = np.mean((y_test - y_pred)**2)\n",
    "\n",
    "print(f\"Test MSE: {test_mse:.4f}\")"
   ],
   "metadata": {
    "collapsed": false,
    "ExecuteTime": {
     "end_time": "2025-07-10T17:58:14.323429500Z",
     "start_time": "2025-07-10T17:58:14.175203100Z"
    }
   },
   "id": "75380e8bda3bd619",
   "execution_count": 3
  }
 ],
 "metadata": {
  "kernelspec": {
   "display_name": "Python 3",
   "language": "python",
   "name": "python3"
  },
  "language_info": {
   "codemirror_mode": {
    "name": "ipython",
    "version": 2
   },
   "file_extension": ".py",
   "mimetype": "text/x-python",
   "name": "python",
   "nbconvert_exporter": "python",
   "pygments_lexer": "ipython2",
   "version": "2.7.6"
  }
 },
 "nbformat": 4,
 "nbformat_minor": 5
}
