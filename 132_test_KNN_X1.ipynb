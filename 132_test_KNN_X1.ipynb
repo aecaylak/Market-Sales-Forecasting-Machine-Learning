{
 "cells": [
  {
   "cell_type": "markdown",
   "source": [
    "**132: 1. Veri seti, Multi-Output KNN + GridSearchCV Modelleme (Sadece X1 - Price, Rolling Mean, Lag)**  \n",
    "TEST\n",
    "\n",
    "Lütfen 132 no.lu train kodunu çalıştırdıktan sonra `132_knn_X1_model.pkl` dosyasının `models/` klasöründe olduğundan emin olunuz.\n",
    "\n",
    "Bu işlemde sadece test işlemi yapılmaktadır.\n"
   ],
   "metadata": {
    "collapsed": false
   },
   "id": "418553d63ed08746"
  },
  {
   "cell_type": "markdown",
   "source": [
    "1 - KÜTÜPHANE & MODEL YÜKLEME"
   ],
   "metadata": {
    "collapsed": false
   },
   "id": "52ca684e29dfac1e"
  },
  {
   "cell_type": "code",
   "execution_count": 1,
   "id": "initial_id",
   "metadata": {
    "collapsed": true,
    "ExecuteTime": {
     "end_time": "2025-07-09T18:00:51.330331100Z",
     "start_time": "2025-07-09T18:00:44.384199200Z"
    }
   },
   "outputs": [],
   "source": [
    "import numpy as np\n",
    "import joblib\n",
    "from sklearn.metrics import mean_squared_error\n",
    "\n",
    "X_test = np.load('npy/X1_test_multi.npy')\n",
    "y_test = np.load('npy/y_test_multi.npy')\n",
    "\n",
    "model = joblib.load('models/132_knn_X1_model.pkl')"
   ]
  },
  {
   "cell_type": "markdown",
   "source": [
    "2 - TAHMİN & TEST MSE"
   ],
   "metadata": {
    "collapsed": false
   },
   "id": "fbead9a1c13d36d6"
  },
  {
   "cell_type": "code",
   "outputs": [
    {
     "name": "stdout",
     "output_type": "stream",
     "text": [
      "Test MSE: 0.1949\n"
     ]
    }
   ],
   "source": [
    "y_pred = model.predict(X_test)\n",
    "test_mse = mean_squared_error(y_test, y_pred)\n",
    "\n",
    "print(f\"Test MSE: {test_mse:.4f}\")"
   ],
   "metadata": {
    "collapsed": false,
    "ExecuteTime": {
     "end_time": "2025-07-09T18:19:45.838744800Z",
     "start_time": "2025-07-09T18:00:51.333525100Z"
    }
   },
   "id": "cb16544078d015f8",
   "execution_count": 2
  }
 ],
 "metadata": {
  "kernelspec": {
   "display_name": "Python 3",
   "language": "python",
   "name": "python3"
  },
  "language_info": {
   "codemirror_mode": {
    "name": "ipython",
    "version": 2
   },
   "file_extension": ".py",
   "mimetype": "text/x-python",
   "name": "python",
   "nbconvert_exporter": "python",
   "pygments_lexer": "ipython2",
   "version": "2.7.6"
  }
 },
 "nbformat": 4,
 "nbformat_minor": 5
}
