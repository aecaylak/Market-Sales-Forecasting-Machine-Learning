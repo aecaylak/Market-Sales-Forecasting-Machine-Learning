{
 "cells": [
  {
   "cell_type": "markdown",
   "source": [
    "**102: 1. Veri seti, 3 Katmanlı MLP tipli modelleme**\n",
    "TEST\n",
    "\n",
    "Lutfen 102 no.lu train kodunu çalıştırdıktan sonra 102_W1, 102_W2, 102_W3, 102_W4 ve bias dosyalarının olduğundan emin olunuz.\n",
    "\n",
    "Bu işlemde sadece test işlemi yapılmaktadır."
   ],
   "metadata": {
    "collapsed": false
   },
   "id": "881dd08ddd3fc55a"
  },
  {
   "cell_type": "markdown",
   "source": [
    "Veri ve Model Agirligi yukleme"
   ],
   "metadata": {
    "collapsed": false
   },
   "id": "7d54463573a46ae6"
  },
  {
   "cell_type": "code",
   "execution_count": 1,
   "id": "initial_id",
   "metadata": {
    "collapsed": true,
    "ExecuteTime": {
     "end_time": "2025-07-10T11:08:34.710539300Z",
     "start_time": "2025-07-10T11:08:34.464598900Z"
    }
   },
   "outputs": [],
   "source": [
    "import numpy as np\n",
    "\n",
    "X1_test = np.load('npy/X1_test_multi.npy')\n",
    "X2_test = np.load('npy/X2_test_multi.npy')\n",
    "X3_test = np.load('npy/X3_test_multi.npy')\n",
    "y_test = np.load('npy/y_test_multi.npy')\n",
    "\n",
    "W1 = np.load(\"models/102_W1.npy\")\n",
    "b1 = np.load(\"models/102_b1.npy\")\n",
    "W2 = np.load(\"models/102_W2.npy\")\n",
    "b2 = np.load(\"models/102_b2.npy\")\n",
    "W3 = np.load(\"models/102_W3.npy\")\n",
    "b3 = np.load(\"models/102_b3.npy\")\n",
    "W4 = np.load(\"models/102_W4.npy\")\n",
    "b4 = np.load(\"models/102_b4.npy\")\n",
    "\n",
    "def relu(x): return np.maximum(0, x)"
   ]
  },
  {
   "cell_type": "markdown",
   "source": [
    "Test forward pass & Metrik"
   ],
   "metadata": {
    "collapsed": false
   },
   "id": "b416cb03ada0d4cd"
  },
  {
   "cell_type": "code",
   "outputs": [
    {
     "name": "stdout",
     "output_type": "stream",
     "text": [
      "Test MSE: 0.1926\n"
     ]
    }
   ],
   "source": [
    "Z1 = X1_test.dot(W1) + b1\n",
    "A1 = relu(Z1)\n",
    "\n",
    "A1_cat = np.concatenate([A1, X2_test], axis=1)\n",
    "Z2 = A1_cat.dot(W2) + b2\n",
    "A2 = relu(Z2)\n",
    "\n",
    "A2_cat = np.concatenate([A2, X3_test], axis=1)\n",
    "Z3 = A2_cat.dot(W3) + b3\n",
    "A3 = relu(Z3)\n",
    "\n",
    "Z4 = A3.dot(W4) + b4\n",
    "y_pred = Z4\n",
    "\n",
    "test_mse = np.mean((y_test - y_pred)**2)\n",
    "print(f\"Test MSE: {test_mse:.4f}\")"
   ],
   "metadata": {
    "collapsed": false,
    "ExecuteTime": {
     "end_time": "2025-07-10T11:08:34.898038700Z",
     "start_time": "2025-07-10T11:08:34.714963900Z"
    }
   },
   "id": "7587a27afe57e913",
   "execution_count": 2
  },
  {
   "cell_type": "code",
   "outputs": [],
   "source": [],
   "metadata": {
    "collapsed": false,
    "ExecuteTime": {
     "end_time": "2025-07-10T11:08:34.898038700Z",
     "start_time": "2025-07-10T11:08:34.893692900Z"
    }
   },
   "id": "5a11f013562063d0",
   "execution_count": 2
  }
 ],
 "metadata": {
  "kernelspec": {
   "display_name": "Python 3",
   "language": "python",
   "name": "python3"
  },
  "language_info": {
   "codemirror_mode": {
    "name": "ipython",
    "version": 2
   },
   "file_extension": ".py",
   "mimetype": "text/x-python",
   "name": "python",
   "nbconvert_exporter": "python",
   "pygments_lexer": "ipython2",
   "version": "2.7.6"
  }
 },
 "nbformat": 4,
 "nbformat_minor": 5
}
