{
 "cells": [
  {
   "cell_type": "markdown",
   "source": [],
   "metadata": {
    "collapsed": false
   },
   "id": "9850f4b5f61c708a"
  },
  {
   "cell_type": "markdown",
   "source": [
    "**104: 1. Veri seti, Tek Katmanlı MLP tipli modelleme (Sadece DateTime Verileri)**  \n",
    "TEST\n",
    "\n",
    "Lütfen 104 no.lu train kodunu çalıştırdıktan sonra 104_W1, 104_W2 ve bias dosyalarının olduğundan emin olunuz.\n",
    "\n",
    "Bu işlemde sadece test işlemi yapılmaktadır."
   ],
   "metadata": {
    "collapsed": false
   },
   "id": "6afa1f50604ca975"
  },
  {
   "cell_type": "markdown",
   "source": [
    "1 - KÜTÜPHANE & VERİ YÜKLEME"
   ],
   "metadata": {
    "collapsed": false
   },
   "id": "77a7586f2512deb7"
  },
  {
   "cell_type": "code",
   "execution_count": 1,
   "id": "initial_id",
   "metadata": {
    "collapsed": true,
    "ExecuteTime": {
     "end_time": "2025-07-10T11:09:07.773015400Z",
     "start_time": "2025-07-10T11:09:07.605000100Z"
    }
   },
   "outputs": [],
   "source": [
    "import numpy as np\n",
    "\n",
    "X2_test = np.load('npy/X2_test_multi.npy')\n",
    "y_test = np.load('npy/y_test_multi.npy')\n",
    "\n",
    "W1 = np.load('models/104_W1.npy')\n",
    "b1 = np.load('models/104_b1.npy')\n",
    "W2 = np.load('models/104_W2.npy')\n",
    "b2 = np.load('models/104_b2.npy')\n",
    "\n",
    "def relu(x): return np.maximum(0, x)"
   ]
  },
  {
   "cell_type": "markdown",
   "source": [
    "2 - TAHMİN & METRİK"
   ],
   "metadata": {
    "collapsed": false
   },
   "id": "93a88f754089ddf5"
  },
  {
   "cell_type": "code",
   "outputs": [
    {
     "name": "stdout",
     "output_type": "stream",
     "text": [
      "Test MSE: 0.1968\n"
     ]
    }
   ],
   "source": [
    "Z1 = X2_test.dot(W1) + b1\n",
    "A1 = relu(Z1)\n",
    "Z2 = A1.dot(W2) + b2\n",
    "\n",
    "y_pred = Z2\n",
    "test_mse = np.mean((y_test - y_pred)**2)\n",
    "\n",
    "print(f\"Test MSE: {test_mse:.4f}\")"
   ],
   "metadata": {
    "collapsed": false,
    "ExecuteTime": {
     "end_time": "2025-07-10T11:09:07.931596400Z",
     "start_time": "2025-07-10T11:09:07.777703800Z"
    }
   },
   "id": "f7e7fc3478409b0c",
   "execution_count": 2
  }
 ],
 "metadata": {
  "kernelspec": {
   "display_name": "Python 3",
   "language": "python",
   "name": "python3"
  },
  "language_info": {
   "codemirror_mode": {
    "name": "ipython",
    "version": 2
   },
   "file_extension": ".py",
   "mimetype": "text/x-python",
   "name": "python",
   "nbconvert_exporter": "python",
   "pygments_lexer": "ipython2",
   "version": "2.7.6"
  }
 },
 "nbformat": 4,
 "nbformat_minor": 5
}
