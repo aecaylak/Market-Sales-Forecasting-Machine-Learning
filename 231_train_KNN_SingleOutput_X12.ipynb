{
 "cells": [
  {
   "cell_type": "markdown",
   "source": [
    "**231: EKMEK Ürünü, X12 Veriseti, Single-Output KNN + GridSearchCV Modelleme**  \n",
    "TRAIN\n",
    "\n",
    "Amaç: EKMEK ürünü için miktar tahmini yapmak.\n",
    "\n",
    "Girdi:  \n",
    "- X12_train_EKMEK.npy → Fiyat, lag, rolling mean, hour, day, weekday, weekend\n",
    "\n",
    "Çıktı: EKMEK ürünü için miktar tahmini.\n",
    "\n",
    "Model: K-Nearest Neighbors regresyon modeli (single-output)\n",
    "\n",
    "Yöntem: GridSearchCV ile hiperparametre optimizasyonu (n_neighbors, weights, p)\n",
    "\n",
    "Metrik: Mean Squared Error (MSE)\n",
    "\n",
    "Çıktılar:  \n",
    "- GridSearch CV sonuçları raporlanır.  \n",
    "- En iyi model: `models/231_knn_X12_model.pkl` dosyasına kaydedilir.\n"
   ],
   "metadata": {
    "collapsed": false
   },
   "id": "a3046552e68de73f"
  },
  {
   "cell_type": "markdown",
   "source": [
    "1 - KÜTÜPHANE & VERİ YÜKLEME"
   ],
   "metadata": {
    "collapsed": false
   },
   "id": "312e8a37d057b6f8"
  },
  {
   "cell_type": "code",
   "execution_count": 7,
   "id": "initial_id",
   "metadata": {
    "collapsed": true,
    "ExecuteTime": {
     "end_time": "2025-07-10T14:11:06.481807500Z",
     "start_time": "2025-07-10T14:11:06.415306200Z"
    }
   },
   "outputs": [
    {
     "name": "stdout",
     "output_type": "stream",
     "text": [
      "X_train shape: (210239, 7) | y_train shape: (210239,)\n"
     ]
    }
   ],
   "source": [
    "import numpy as np\n",
    "from sklearn.neighbors import KNeighborsRegressor\n",
    "from sklearn.model_selection import GridSearchCV\n",
    "from sklearn.metrics import mean_squared_error\n",
    "import joblib\n",
    "\n",
    "X_train = np.load('npy/X12_train_EKMEK.npy')\n",
    "y_train = np.load('npy/y_train_EKMEK_miktar.npy')\n",
    "\n",
    "print(f\"X_train shape: {X_train.shape} | y_train shape: {y_train.shape}\")"
   ]
  },
  {
   "cell_type": "markdown",
   "source": [
    "2 - MODEL & GRIDSEARCHCV"
   ],
   "metadata": {
    "collapsed": false
   },
   "id": "542a1682feb57da5"
  },
  {
   "cell_type": "code",
   "outputs": [
    {
     "name": "stdout",
     "output_type": "stream",
     "text": [
      "Fitting 3 folds for each of 8 candidates, totalling 24 fits\n",
      "\n",
      "En iyi parametre kombinasyonu:\n",
      "{'n_neighbors': 400, 'p': 2, 'weights': 'distance'}\n",
      "En iyi CV MSE: -2.4541\n"
     ]
    }
   ],
   "source": [
    "knn = KNeighborsRegressor()\n",
    "\n",
    "param_grid = {\n",
    "    'n_neighbors': [400],\n",
    "    'weights': ['distance'],\n",
    "    'p': [2]\n",
    "}\n",
    "\n",
    "grid_search = GridSearchCV(\n",
    "    estimator=knn,\n",
    "    param_grid=param_grid,\n",
    "    cv=3,\n",
    "    scoring='neg_mean_squared_error',\n",
    "    verbose=2,\n",
    "    n_jobs=-1\n",
    ")\n",
    "\n",
    "grid_search.fit(X_train, y_train)\n",
    "\n",
    "print(\"\\nEn iyi parametre kombinasyonu:\")\n",
    "print(grid_search.best_params_)\n",
    "print(f\"En iyi CV MSE: {grid_search.best_score_:.4f}\")"
   ],
   "metadata": {
    "collapsed": false,
    "ExecuteTime": {
     "end_time": "2025-07-10T14:12:49.328819100Z",
     "start_time": "2025-07-10T14:11:06.473611Z"
    }
   },
   "id": "cf2a169fe9ffc0f1",
   "execution_count": 8
  },
  {
   "cell_type": "markdown",
   "source": [
    "3 - MODEL KAYIT"
   ],
   "metadata": {
    "collapsed": false
   },
   "id": "6fffe756c600d096"
  },
  {
   "cell_type": "code",
   "outputs": [
    {
     "name": "stdout",
     "output_type": "stream",
     "text": [
      "En iyi model 'models/231_knn_X12_model.pkl' dosyasına kaydedildi.\n"
     ]
    }
   ],
   "source": [
    "best_model = grid_search.best_estimator_\n",
    "joblib.dump(best_model, 'models/231_knn_X12_model.pkl')\n",
    "print(\"En iyi model 'models/231_knn_X12_model.pkl' dosyasına kaydedildi.\")"
   ],
   "metadata": {
    "collapsed": false,
    "ExecuteTime": {
     "end_time": "2025-07-10T14:12:49.367683900Z",
     "start_time": "2025-07-10T14:12:49.338660200Z"
    }
   },
   "id": "dc108c3f43ffa167",
   "execution_count": 9
  }
 ],
 "metadata": {
  "kernelspec": {
   "display_name": "Python 3",
   "language": "python",
   "name": "python3"
  },
  "language_info": {
   "codemirror_mode": {
    "name": "ipython",
    "version": 2
   },
   "file_extension": ".py",
   "mimetype": "text/x-python",
   "name": "python",
   "nbconvert_exporter": "python",
   "pygments_lexer": "ipython2",
   "version": "2.7.6"
  }
 },
 "nbformat": 4,
 "nbformat_minor": 5
}
