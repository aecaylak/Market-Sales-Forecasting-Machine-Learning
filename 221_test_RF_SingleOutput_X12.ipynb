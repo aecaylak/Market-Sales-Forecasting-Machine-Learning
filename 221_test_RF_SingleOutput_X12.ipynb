{
 "cells": [
  {
   "cell_type": "markdown",
   "source": [
    "**221: EKMEK Ürünü, X12 Veriseti, Single-Output Random Forest + GridSearchCV Modelleme**  \n",
    "TEST\n",
    "\n",
    "Lütfen 221 no.lu train kodunu çalıştırdıktan sonra `221_rf_X12_model.pkl` dosyasının `models/` klasöründe olduğundan emin olunuz.\n",
    "\n",
    "Bu işlemde sadece test işlemi yapılmaktadır.\n"
   ],
   "metadata": {
    "collapsed": false
   },
   "id": "fe6d91b32f00961c"
  },
  {
   "cell_type": "markdown",
   "source": [
    "1 - KÜTÜPHANE & MODEL YÜKLEME"
   ],
   "metadata": {
    "collapsed": false
   },
   "id": "9764ce6e89dfa4dd"
  },
  {
   "cell_type": "code",
   "execution_count": 9,
   "id": "initial_id",
   "metadata": {
    "collapsed": true,
    "ExecuteTime": {
     "end_time": "2025-07-10T14:04:43.337978200Z",
     "start_time": "2025-07-10T14:04:43.253665200Z"
    }
   },
   "outputs": [],
   "source": [
    "import numpy as np\n",
    "import joblib\n",
    "from sklearn.metrics import mean_squared_error\n",
    "\n",
    "X_test = np.load('npy/X12_test_EKMEK.npy')\n",
    "y_test = np.load('npy/y_test_EKMEK_miktar.npy')\n",
    "\n",
    "model = joblib.load('models/221_rf_X12_model.pkl')\n"
   ]
  },
  {
   "cell_type": "markdown",
   "source": [
    "2 - TAHMİN & TEST MSE"
   ],
   "metadata": {
    "collapsed": false
   },
   "id": "ae5a85811993e91f"
  },
  {
   "cell_type": "code",
   "outputs": [
    {
     "name": "stdout",
     "output_type": "stream",
     "text": [
      "Test MSE: 2.4312\n"
     ]
    }
   ],
   "source": [
    "y_pred = model.predict(X_test)\n",
    "test_mse = mean_squared_error(y_test, y_pred)\n",
    "\n",
    "print(f\"Test MSE: {test_mse:.4f}\")"
   ],
   "metadata": {
    "collapsed": false,
    "ExecuteTime": {
     "end_time": "2025-07-10T14:04:43.566132400Z",
     "start_time": "2025-07-10T14:04:43.334112200Z"
    }
   },
   "id": "7bcdf7c814620b28",
   "execution_count": 10
  }
 ],
 "metadata": {
  "kernelspec": {
   "display_name": "Python 3",
   "language": "python",
   "name": "python3"
  },
  "language_info": {
   "codemirror_mode": {
    "name": "ipython",
    "version": 2
   },
   "file_extension": ".py",
   "mimetype": "text/x-python",
   "name": "python",
   "nbconvert_exporter": "python",
   "pygments_lexer": "ipython2",
   "version": "2.7.6"
  }
 },
 "nbformat": 4,
 "nbformat_minor": 5
}
