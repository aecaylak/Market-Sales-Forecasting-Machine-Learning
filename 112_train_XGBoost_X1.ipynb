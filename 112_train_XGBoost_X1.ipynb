{
 "cells": [
  {
   "cell_type": "markdown",
   "source": [
    "**112: 1. Veri seti, Multi-Output XGBoost + GridSearchCV Modelleme (Sadece X1 - Price Lag Rolling Mean)**  \n",
    "TRAIN\n",
    "\n",
    "Amaç: 16 ürün için çok çıkışlı regresyon tahmini yapmak.\n",
    "\n",
    "Girdi:  \n",
    "- X1_train_multi.npy → Fiyat gecikme rolling mean özellikleri\n",
    "\n",
    "Çıktı: Her ürün için satış tahminleri.\n",
    "\n",
    "Model: XGBoost regresyon modeli, Multi-Output yaklaşımı (sklearn MultiOutputRegressor)\n",
    "\n",
    "Yöntem: GridSearchCV ile hiperparametre optimizasyonu (n_estimators, max_depth, learning_rate, subsample)\n",
    "\n",
    "Metrik: Mean Squared Error (MSE)\n",
    "\n",
    "Çıktılar:  \n",
    "- GridSearch sonuçları raporlanır.  \n",
    "- En iyi model: `models/112_xgb_X1_model.pkl` dosyasına kaydedilir.\n"
   ],
   "metadata": {
    "collapsed": false
   },
   "id": "e5b4fcf0a0d4f7a6"
  },
  {
   "cell_type": "markdown",
   "source": [
    "1 - KÜTÜPHANE & VERİ YÜKLEME"
   ],
   "metadata": {
    "collapsed": false
   },
   "id": "6616f626c36cd403"
  },
  {
   "cell_type": "code",
   "execution_count": 1,
   "id": "initial_id",
   "metadata": {
    "collapsed": true,
    "ExecuteTime": {
     "end_time": "2025-07-09T05:30:21.368597300Z",
     "start_time": "2025-07-09T05:30:19.624755500Z"
    }
   },
   "outputs": [
    {
     "name": "stdout",
     "output_type": "stream",
     "text": [
      "X1_train shape: (210239, 48) | y_train shape: (210239, 16)\n"
     ]
    }
   ],
   "source": [
    "import numpy as np\n",
    "from sklearn.multioutput import MultiOutputRegressor\n",
    "from sklearn.model_selection import GridSearchCV\n",
    "from sklearn.metrics import make_scorer, mean_squared_error\n",
    "from xgboost import XGBRegressor\n",
    "import joblib\n",
    "\n",
    "X_train = np.load('npy/X1_train_multi.npy')\n",
    "y_train = np.load('npy/y_train_multi.npy')\n",
    "\n",
    "print(f\"X1_train shape: {X_train.shape} | y_train shape: {y_train.shape}\")"
   ]
  },
  {
   "cell_type": "markdown",
   "source": [
    "2 - MODEL & GRIDSEARCHCV"
   ],
   "metadata": {
    "collapsed": false
   },
   "id": "aa7cb746d8e827ef"
  },
  {
   "cell_type": "code",
   "outputs": [
    {
     "name": "stdout",
     "output_type": "stream",
     "text": [
      "Fitting 3 folds for each of 1 candidates, totalling 3 fits\n",
      "\n",
      "En iyi parametre kombinasyonu:\n",
      "{'estimator__learning_rate': 0.01, 'estimator__max_depth': 3, 'estimator__n_estimators': 200, 'estimator__subsample': 1}\n",
      "En iyi CV MSE: -0.2031\n"
     ]
    }
   ],
   "source": [
    "xgb = XGBRegressor(random_state=42)\n",
    "multi_xgb = MultiOutputRegressor(xgb)\n",
    "\n",
    "param_grid = {\n",
    "    'estimator__n_estimators': [200],\n",
    "    'estimator__max_depth': [3],\n",
    "    'estimator__learning_rate': [0.01],\n",
    "    'estimator__subsample': [1]\n",
    "}\n",
    "\n",
    "scorer = make_scorer(mean_squared_error, greater_is_better=False)\n",
    "\n",
    "grid_search = GridSearchCV(\n",
    "    estimator=multi_xgb,\n",
    "    param_grid=param_grid,\n",
    "    scoring=scorer,\n",
    "    cv=3,\n",
    "    verbose=2,\n",
    "    n_jobs=-1\n",
    ")\n",
    "\n",
    "grid_search.fit(X_train, y_train)\n",
    "\n",
    "print(\"\\nEn iyi parametre kombinasyonu:\")\n",
    "print(grid_search.best_params_)\n",
    "print(f\"En iyi CV MSE: {grid_search.best_score_:.4f}\")"
   ],
   "metadata": {
    "collapsed": false,
    "ExecuteTime": {
     "end_time": "2025-07-09T05:32:12.479515100Z",
     "start_time": "2025-07-09T05:30:21.374786200Z"
    }
   },
   "id": "5b1125d4175a4e0c",
   "execution_count": 2
  },
  {
   "cell_type": "markdown",
   "source": [
    "4 - MODEL KAYIT"
   ],
   "metadata": {
    "collapsed": false
   },
   "id": "9217bc29bc5ff621"
  },
  {
   "cell_type": "code",
   "outputs": [
    {
     "name": "stdout",
     "output_type": "stream",
     "text": [
      "En iyi model 'models/112_xgb_X1_model.pkl' dosyasına kaydedildi.\n"
     ]
    }
   ],
   "source": [
    "best_model = grid_search.best_estimator_\n",
    "joblib.dump(best_model, 'models/112_xgb_X1_model.pkl')\n",
    "print(\"En iyi model 'models/112_xgb_X1_model.pkl' dosyasına kaydedildi.\")"
   ],
   "metadata": {
    "collapsed": false,
    "ExecuteTime": {
     "end_time": "2025-07-09T05:32:12.564811500Z",
     "start_time": "2025-07-09T05:32:12.480616Z"
    }
   },
   "id": "3029d893aa5576d4",
   "execution_count": 3
  }
 ],
 "metadata": {
  "kernelspec": {
   "display_name": "Python 3",
   "language": "python",
   "name": "python3"
  },
  "language_info": {
   "codemirror_mode": {
    "name": "ipython",
    "version": 2
   },
   "file_extension": ".py",
   "mimetype": "text/x-python",
   "name": "python",
   "nbconvert_exporter": "python",
   "pygments_lexer": "ipython2",
   "version": "2.7.6"
  }
 },
 "nbformat": 4,
 "nbformat_minor": 5
}
