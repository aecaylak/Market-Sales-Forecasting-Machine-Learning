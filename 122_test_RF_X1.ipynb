{
 "cells": [
  {
   "cell_type": "markdown",
   "source": [
    "**122: 1. Veri seti, Multi-Output Random Forest + GridSearchCV Modelleme (Sadece X1 - Price Lag Rolling Mean)**  \n",
    "TEST\n",
    "\n",
    "Lütfen 122 no.lu train kodunu çalıştırdıktan sonra `122_rf_X1_model.pkl` dosyasının `models/` klasöründe olduğundan emin olunuz.\n",
    "\n",
    "Bu işlemde sadece test işlemi yapılmaktadır.\n"
   ],
   "metadata": {
    "collapsed": false
   },
   "id": "93fb845ff5e3bf85"
  },
  {
   "cell_type": "markdown",
   "source": [
    "1 - KÜTÜPHANE & MODEL YÜKLEME"
   ],
   "metadata": {
    "collapsed": false
   },
   "id": "ccf550229630f1f9"
  },
  {
   "cell_type": "code",
   "execution_count": 7,
   "id": "initial_id",
   "metadata": {
    "collapsed": true,
    "ExecuteTime": {
     "end_time": "2025-07-09T06:12:41.919664600Z",
     "start_time": "2025-07-09T06:12:41.776918500Z"
    }
   },
   "outputs": [],
   "source": [
    "import numpy as np\n",
    "import joblib\n",
    "from sklearn.metrics import mean_squared_error\n",
    "\n",
    "X_test = np.load('npy/X1_test_multi.npy')\n",
    "y_test = np.load('npy/y_test_multi.npy')\n",
    "\n",
    "model = joblib.load('models/122_rf_X1_model.pkl')"
   ]
  },
  {
   "cell_type": "markdown",
   "source": [
    "2 - TAHMİN & TEST MSE"
   ],
   "metadata": {
    "collapsed": false
   },
   "id": "73716f8c5b5a9ace"
  },
  {
   "cell_type": "code",
   "outputs": [
    {
     "name": "stdout",
     "output_type": "stream",
     "text": [
      "Test MSE: 0.1930\n"
     ]
    }
   ],
   "source": [
    "y_pred = model.predict(X_test)\n",
    "test_mse = mean_squared_error(y_test, y_pred)\n",
    "\n",
    "print(f\"Test MSE: {test_mse:.4f}\")"
   ],
   "metadata": {
    "collapsed": false,
    "ExecuteTime": {
     "end_time": "2025-07-09T06:12:42.837493800Z",
     "start_time": "2025-07-09T06:12:41.925138100Z"
    }
   },
   "id": "68849f7e4216c0b",
   "execution_count": 8
  }
 ],
 "metadata": {
  "kernelspec": {
   "display_name": "Python 3",
   "language": "python",
   "name": "python3"
  },
  "language_info": {
   "codemirror_mode": {
    "name": "ipython",
    "version": 2
   },
   "file_extension": ".py",
   "mimetype": "text/x-python",
   "name": "python",
   "nbconvert_exporter": "python",
   "pygments_lexer": "ipython2",
   "version": "2.7.6"
  }
 },
 "nbformat": 4,
 "nbformat_minor": 5
}
