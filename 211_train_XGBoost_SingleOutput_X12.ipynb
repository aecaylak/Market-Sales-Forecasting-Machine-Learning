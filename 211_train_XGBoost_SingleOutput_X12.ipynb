{
 "cells": [
  {
   "cell_type": "markdown",
   "source": [
    "**211: EKMEK Ürünü, X12 Veriseti, Single-Output XGBoost + GridSearchCV Modelleme**  \n",
    "TRAIN\n",
    "\n",
    "Amaç: EKMEK ürünü için miktar tahmini yapmak.\n",
    "\n",
    "Girdi:  \n",
    "- X12_train_EKMEK.npy → Fiyat, lag, rolling mean, hour, day, weekday, weekend\n",
    "\n",
    "Çıktı: EKMEK ürünü için miktar tahmini.\n",
    "\n",
    "Model: XGBoost regresyon modeli (single-output)\n",
    "\n",
    "Yöntem: GridSearchCV ile hiperparametre optimizasyonu (n_estimators, max_depth, learning_rate, subsample)\n",
    "\n",
    "Metrik: Mean Squared Error (MSE)\n",
    "\n",
    "Çıktılar:  \n",
    "- GridSearch CV sonuçları raporlanır.  \n",
    "- En iyi model: `models/211_xgb_X12_model.pkl` dosyasına kaydedilir.\n"
   ],
   "metadata": {
    "collapsed": false
   },
   "id": "e411d80b32878ef6"
  },
  {
   "cell_type": "markdown",
   "source": [
    "1 - KÜTÜPHANE & VERİ YÜKLEME"
   ],
   "metadata": {
    "collapsed": false
   },
   "id": "c1189b141718ce55"
  },
  {
   "cell_type": "code",
   "execution_count": 10,
   "id": "initial_id",
   "metadata": {
    "collapsed": true,
    "ExecuteTime": {
     "end_time": "2025-07-10T14:01:25.696035400Z",
     "start_time": "2025-07-10T14:01:25.655659900Z"
    }
   },
   "outputs": [
    {
     "name": "stdout",
     "output_type": "stream",
     "text": [
      "X_train shape: (210239, 7) | y_train shape: (210239,)\n"
     ]
    }
   ],
   "source": [
    "import numpy as np\n",
    "from sklearn.model_selection import GridSearchCV\n",
    "from sklearn.metrics import make_scorer, mean_squared_error\n",
    "from xgboost import XGBRegressor\n",
    "import joblib\n",
    "\n",
    "X_train = np.load('npy/X12_train_EKMEK.npy')\n",
    "y_train = np.load('npy/y_train_EKMEK_miktar.npy')\n",
    "\n",
    "print(f\"X_train shape: {X_train.shape} | y_train shape: {y_train.shape}\")\n"
   ]
  },
  {
   "cell_type": "markdown",
   "source": [
    "2 - MODEL & GRIDSEARCHCV"
   ],
   "metadata": {
    "collapsed": false
   },
   "id": "4e1c92ed66c25f27"
  },
  {
   "cell_type": "code",
   "outputs": [
    {
     "name": "stdout",
     "output_type": "stream",
     "text": [
      "Fitting 3 folds for each of 6 candidates, totalling 18 fits\n",
      "\n",
      "En iyi parametre kombinasyonu:\n",
      "{'learning_rate': 0.01, 'max_depth': 3, 'n_estimators': 660, 'subsample': 1}\n",
      "En iyi CV MSE: -2.3978\n"
     ]
    }
   ],
   "source": [
    "xgb = XGBRegressor(random_state=42)\n",
    "\n",
    "param_grid = {\n",
    "    'n_estimators': [660],\n",
    "    'max_depth': [3],\n",
    "    'learning_rate': [0.01],\n",
    "    'subsample': [1]\n",
    "}\n",
    "\n",
    "scorer = make_scorer(mean_squared_error, greater_is_better=False)\n",
    "\n",
    "grid_search = GridSearchCV(\n",
    "    estimator=xgb,\n",
    "    param_grid=param_grid,\n",
    "    scoring=scorer,\n",
    "    cv=3,\n",
    "    verbose=2,\n",
    "    n_jobs=-1\n",
    ")\n",
    "\n",
    "grid_search.fit(X_train, y_train)\n",
    "\n",
    "print(\"\\nEn iyi parametre kombinasyonu:\")\n",
    "print(grid_search.best_params_)\n",
    "print(f\"En iyi CV MSE: {grid_search.best_score_:.4f}\")"
   ],
   "metadata": {
    "collapsed": false,
    "ExecuteTime": {
     "end_time": "2025-07-10T14:01:58.347282800Z",
     "start_time": "2025-07-10T14:01:25.701788400Z"
    }
   },
   "id": "d39ed4b92ade804f",
   "execution_count": 11
  },
  {
   "cell_type": "markdown",
   "source": [
    "3 - MODEL KAYIT"
   ],
   "metadata": {
    "collapsed": false
   },
   "id": "9872b00b819623fe"
  },
  {
   "cell_type": "code",
   "outputs": [
    {
     "name": "stdout",
     "output_type": "stream",
     "text": [
      "En iyi model 'models/211_xgb_X12_model.pkl' dosyasına kaydedilddi.\n"
     ]
    }
   ],
   "source": [
    "best_model = grid_search.best_estimator_\n",
    "joblib.dump(best_model, 'models/211_xgb_X12_model.pkl')\n",
    "print(\"En iyi model 'models/211_xgb_X12_model.pkl' dosyasına kaydedilddi.\")"
   ],
   "metadata": {
    "collapsed": false,
    "ExecuteTime": {
     "end_time": "2025-07-10T14:01:58.372996300Z",
     "start_time": "2025-07-10T14:01:58.351108100Z"
    }
   },
   "id": "1e096ab4d19ac6cd",
   "execution_count": 12
  }
 ],
 "metadata": {
  "kernelspec": {
   "display_name": "Python 3",
   "language": "python",
   "name": "python3"
  },
  "language_info": {
   "codemirror_mode": {
    "name": "ipython",
    "version": 2
   },
   "file_extension": ".py",
   "mimetype": "text/x-python",
   "name": "python",
   "nbconvert_exporter": "python",
   "pygments_lexer": "ipython2",
   "version": "2.7.6"
  }
 },
 "nbformat": 4,
 "nbformat_minor": 5
}
