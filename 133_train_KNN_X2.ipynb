{
 "cells": [
  {
   "cell_type": "markdown",
   "source": [
    "**133: 1. Veri seti, Multi-Output KNN + GridSearchCV Modelleme (Sadece X2 - DateTime Özellikleri)**  \n",
    "TRAIN\n",
    "\n",
    "Amaç: 16 ürün için çok çıkışlı regresyon tahmini yapmak.\n",
    "\n",
    "Girdi:  \n",
    "- X2_train_multi.npy → Tarih/Zaman özellikleri (saat, gün, haftanın günü, hafta sonu vb.)\n",
    "\n",
    "Çıktı: Her ürün için satış tahminleri.\n",
    "\n",
    "Model: K-Nearest Neighbors regresyon modeli, Multi-Output yaklaşımı (sklearn MultiOutputRegressor)\n",
    "\n",
    "Yöntem: GridSearchCV ile hiperparametre optimizasyonu (n_neighbors, weights, p)\n",
    "\n",
    "Metrik: Mean Squared Error (MSE)\n",
    "\n",
    "Çıktılar:  \n",
    "- GridSearch CV sonuçları raporlanır.  \n",
    "- En iyi model: `models/133_knn_X2_model.pkl` dosyasına kaydedilir.\n"
   ],
   "metadata": {
    "collapsed": false
   },
   "id": "588161a0afe07072"
  },
  {
   "cell_type": "markdown",
   "source": [
    "1 - KÜTÜPHANE & VERİ YÜKLEME"
   ],
   "metadata": {
    "collapsed": false
   },
   "id": "12042bd0b18b66dd"
  },
  {
   "cell_type": "code",
   "execution_count": 1,
   "id": "initial_id",
   "metadata": {
    "collapsed": true,
    "ExecuteTime": {
     "end_time": "2025-07-09T16:39:36.364409200Z",
     "start_time": "2025-07-09T16:39:33.593600200Z"
    }
   },
   "outputs": [
    {
     "name": "stdout",
     "output_type": "stream",
     "text": [
      "X2_train shape: (210239, 4) | y_train shape: (210239, 16)\n"
     ]
    }
   ],
   "source": [
    "import numpy as np\n",
    "from sklearn.neighbors import KNeighborsRegressor\n",
    "from sklearn.multioutput import MultiOutputRegressor\n",
    "from sklearn.model_selection import GridSearchCV\n",
    "from sklearn.metrics import mean_squared_error\n",
    "import joblib\n",
    "\n",
    "X_train = np.load('npy/X2_train_multi.npy')\n",
    "y_train = np.load('npy/y_train_multi.npy')\n",
    "\n",
    "print(f\"X2_train shape: {X_train.shape} | y_train shape: {y_train.shape}\")"
   ]
  },
  {
   "cell_type": "markdown",
   "source": [
    "2 - MODEL & GRIDSEARCHCV"
   ],
   "metadata": {
    "collapsed": false
   },
   "id": "a30ac0446d3ed204"
  },
  {
   "cell_type": "code",
   "outputs": [
    {
     "name": "stdout",
     "output_type": "stream",
     "text": [
      "Fitting 3 folds for each of 1 candidates, totalling 3 fits\n",
      "\n",
      "En iyi parametre kombinasyonu:\n",
      "{'estimator__n_neighbors': 180, 'estimator__p': 2, 'estimator__weights': 'distance'}\n",
      "En iyi CV MSE: -0.2083\n"
     ]
    }
   ],
   "source": [
    "knn = KNeighborsRegressor()\n",
    "multi_knn = MultiOutputRegressor(knn)\n",
    "\n",
    "param_grid = {\n",
    "    'estimator__n_neighbors': [180],\n",
    "    'estimator__weights': ['distance'],\n",
    "    'estimator__p': [2]\n",
    "}\n",
    "\n",
    "grid_search = GridSearchCV(\n",
    "    estimator=multi_knn,\n",
    "    param_grid=param_grid,\n",
    "    cv=3,\n",
    "    scoring='neg_mean_squared_error',\n",
    "    verbose=2,\n",
    "    n_jobs=-1\n",
    ")\n",
    "\n",
    "grid_search.fit(X_train, y_train)\n",
    "\n",
    "print(\"\\nEn iyi parametre kombinasyonu:\")\n",
    "print(grid_search.best_params_)\n",
    "print(f\"En iyi CV MSE: {grid_search.best_score_:.4f}\")"
   ],
   "metadata": {
    "collapsed": false,
    "ExecuteTime": {
     "end_time": "2025-07-09T16:42:30.277841500Z",
     "start_time": "2025-07-09T16:39:36.357609500Z"
    }
   },
   "id": "ec58ff2701906f26",
   "execution_count": 2
  },
  {
   "cell_type": "markdown",
   "source": [
    "3 - MODEL KAYIT"
   ],
   "metadata": {
    "collapsed": false
   },
   "id": "bdc1ed34fd53ec11"
  },
  {
   "cell_type": "code",
   "outputs": [
    {
     "name": "stdout",
     "output_type": "stream",
     "text": [
      "En iyi model 'models/133_knn_X2_model.pkl' dosyasına kaydedildi.\n"
     ]
    }
   ],
   "source": [
    "best_model = grid_search.best_estimator_\n",
    "joblib.dump(best_model, 'models/133_knn_X2_model.pkl')\n",
    "print(\"En iyi model 'models/133_knn_X2_model.pkl' dosyasına kaydedildi.\")"
   ],
   "metadata": {
    "collapsed": false,
    "ExecuteTime": {
     "end_time": "2025-07-09T16:42:32.890534900Z",
     "start_time": "2025-07-09T16:42:30.292700900Z"
    }
   },
   "id": "359738b689a6b586",
   "execution_count": 3
  }
 ],
 "metadata": {
  "kernelspec": {
   "display_name": "Python 3",
   "language": "python",
   "name": "python3"
  },
  "language_info": {
   "codemirror_mode": {
    "name": "ipython",
    "version": 2
   },
   "file_extension": ".py",
   "mimetype": "text/x-python",
   "name": "python",
   "nbconvert_exporter": "python",
   "pygments_lexer": "ipython2",
   "version": "2.7.6"
  }
 },
 "nbformat": 4,
 "nbformat_minor": 5
}
