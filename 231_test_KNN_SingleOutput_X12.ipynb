{
 "cells": [
  {
   "cell_type": "markdown",
   "source": [
    "**231: EKMEK Ürünü, X12 Veriseti, Single-Output KNN + GridSearchCV Modelleme**  \n",
    "TEST\n",
    "\n",
    "Lütfen 231 no.lu train kodunu çalıştırdıktan sonra `231_knn_X12_model.pkl` dosyasının `models/` klasöründe olduğundan emin olunuz.\n",
    "\n",
    "Bu işlemde sadece test işlemi yapılmaktadır.\n"
   ],
   "metadata": {
    "collapsed": false
   },
   "id": "2d97cef7a4526043"
  },
  {
   "cell_type": "markdown",
   "source": [
    "1 - KÜTÜPHANE & MODEL YÜKLEME"
   ],
   "metadata": {
    "collapsed": false
   },
   "id": "1d972af70b74b0f4"
  },
  {
   "cell_type": "code",
   "execution_count": 5,
   "id": "initial_id",
   "metadata": {
    "collapsed": true,
    "ExecuteTime": {
     "end_time": "2025-07-10T14:15:21.539806500Z",
     "start_time": "2025-07-10T14:15:21.434361100Z"
    }
   },
   "outputs": [],
   "source": [
    "import numpy as np\n",
    "import joblib\n",
    "from sklearn.metrics import mean_squared_error\n",
    "\n",
    "X_test = np.load('npy/X12_test_EKMEK.npy')\n",
    "y_test = np.load('npy/y_test_EKMEK_miktar.npy')\n",
    "\n",
    "model = joblib.load('models/231_knn_X12_model.pkl')"
   ]
  },
  {
   "cell_type": "markdown",
   "source": [
    "2 - TAHMİN & TEST MSE"
   ],
   "metadata": {
    "collapsed": false
   },
   "id": "2853257616be121a"
  },
  {
   "cell_type": "code",
   "outputs": [
    {
     "name": "stdout",
     "output_type": "stream",
     "text": [
      "Test MSE: 2.4349\n"
     ]
    }
   ],
   "source": [
    "y_pred = model.predict(X_test)\n",
    "test_mse = mean_squared_error(y_test, y_pred)\n",
    "\n",
    "print(f\"Test MSE: {test_mse:.4f}\")"
   ],
   "metadata": {
    "collapsed": false,
    "ExecuteTime": {
     "end_time": "2025-07-10T14:15:48.649245300Z",
     "start_time": "2025-07-10T14:15:21.545899800Z"
    }
   },
   "id": "934325d624f9a38",
   "execution_count": 6
  }
 ],
 "metadata": {
  "kernelspec": {
   "display_name": "Python 3",
   "language": "python",
   "name": "python3"
  },
  "language_info": {
   "codemirror_mode": {
    "name": "ipython",
    "version": 2
   },
   "file_extension": ".py",
   "mimetype": "text/x-python",
   "name": "python",
   "nbconvert_exporter": "python",
   "pygments_lexer": "ipython2",
   "version": "2.7.6"
  }
 },
 "nbformat": 4,
 "nbformat_minor": 5
}
