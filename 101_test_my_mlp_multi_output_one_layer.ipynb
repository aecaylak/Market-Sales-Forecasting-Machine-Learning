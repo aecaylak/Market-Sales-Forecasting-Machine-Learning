{
 "cells": [
  {
   "cell_type": "code",
   "execution_count": 7,
   "id": "initial_id",
   "metadata": {
    "collapsed": true,
    "ExecuteTime": {
     "end_time": "2025-07-10T11:06:22.005803Z",
     "start_time": "2025-07-10T11:06:21.871934400Z"
    }
   },
   "outputs": [],
   "source": [
    "import numpy as np\n",
    "\n",
    "X1_test = np.load('npy/X_test_multi.npy')\n",
    "y_test = np.load('npy/y_test_multi.npy')\n",
    "\n",
    "W1 = np.load('models/101_W1.npy')\n",
    "b1 = np.load('models/101_b1.npy')\n",
    "W2 = np.load('models/101_W2.npy')\n",
    "b2 = np.load('models/101_b2.npy')\n",
    "\n",
    "def relu(x): return np.maximum(0, x)"
   ]
  },
  {
   "cell_type": "markdown",
   "source": [
    "2- Tahmin ve Metrik"
   ],
   "metadata": {
    "collapsed": false
   },
   "id": "492209b897bdf540"
  },
  {
   "cell_type": "code",
   "outputs": [
    {
     "name": "stdout",
     "output_type": "stream",
     "text": [
      "Test MSE: 0.1975\n"
     ]
    }
   ],
   "source": [
    "Z1 = X1_test.dot(W1) + b1\n",
    "A1 = relu(Z1)\n",
    "Z2 = A1.dot(W2) + b2\n",
    "\n",
    "y_pred = Z2\n",
    "test_mse = np.mean((y_test - y_pred)**2)\n",
    "\n",
    "print(f\"Test MSE: {test_mse:.4f}\")"
   ],
   "metadata": {
    "collapsed": false,
    "ExecuteTime": {
     "end_time": "2025-07-10T11:06:22.347261800Z",
     "start_time": "2025-07-10T11:06:22.005803Z"
    }
   },
   "id": "13c26e7163c46461",
   "execution_count": 8
  }
 ],
 "metadata": {
  "kernelspec": {
   "display_name": "Python 3",
   "language": "python",
   "name": "python3"
  },
  "language_info": {
   "codemirror_mode": {
    "name": "ipython",
    "version": 2
   },
   "file_extension": ".py",
   "mimetype": "text/x-python",
   "name": "python",
   "nbconvert_exporter": "python",
   "pygments_lexer": "ipython2",
   "version": "2.7.6"
  }
 },
 "nbformat": 4,
 "nbformat_minor": 5
}
