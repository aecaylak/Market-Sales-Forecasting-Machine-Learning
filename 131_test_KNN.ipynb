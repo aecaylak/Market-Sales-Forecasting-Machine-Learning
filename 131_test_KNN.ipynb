{
 "cells": [
  {
   "cell_type": "markdown",
   "source": [
    "**131: 1. Veri seti, Multi-Output KNN + GridSearchCV Modelleme**  \n",
    "TEST\n",
    "\n",
    "Lütfen 131 no.lu train kodunu çalıştırdıktan sonra `131_knn_model.pkl` dosyasının `models/` klasöründe olduğundan emin olunuz.\n",
    "\n",
    "Bu işlemde sadece test işlemi yapılmaktadır.\n"
   ],
   "metadata": {
    "collapsed": false
   },
   "id": "1cffb33262e99fb2"
  },
  {
   "cell_type": "markdown",
   "source": [
    "1 - KÜTÜPHANE & MODEL YÜKLEME"
   ],
   "metadata": {
    "collapsed": false
   },
   "id": "1c1c7256b3741296"
  },
  {
   "cell_type": "code",
   "execution_count": 1,
   "id": "initial_id",
   "metadata": {
    "collapsed": true,
    "ExecuteTime": {
     "end_time": "2025-07-09T17:07:00.210951400Z",
     "start_time": "2025-07-09T17:06:55.703100Z"
    }
   },
   "outputs": [],
   "source": [
    "import numpy as np\n",
    "import joblib\n",
    "from sklearn.metrics import mean_squared_error\n",
    "\n",
    "X_test = np.load('npy/X_test_multi.npy')\n",
    "y_test = np.load('npy/y_test_multi.npy')\n",
    "\n",
    "model = joblib.load('models/131_knn_model.pkl')"
   ]
  },
  {
   "cell_type": "markdown",
   "source": [
    "2 - TAHMİN & TEST MSE"
   ],
   "metadata": {
    "collapsed": false
   },
   "id": "944062940991c1af"
  },
  {
   "cell_type": "code",
   "outputs": [
    {
     "name": "stdout",
     "output_type": "stream",
     "text": [
      "Test MSE: 0.1945\n"
     ]
    }
   ],
   "source": [
    "y_pred = model.predict(X_test)\n",
    "test_mse = mean_squared_error(y_test, y_pred)\n",
    "\n",
    "print(f\"Test MSE: {test_mse:.4f}\")"
   ],
   "metadata": {
    "collapsed": false,
    "ExecuteTime": {
     "end_time": "2025-07-09T17:37:25.849606100Z",
     "start_time": "2025-07-09T17:07:00.214196900Z"
    }
   },
   "id": "85acd76acf48f0",
   "execution_count": 2
  }
 ],
 "metadata": {
  "kernelspec": {
   "display_name": "Python 3",
   "language": "python",
   "name": "python3"
  },
  "language_info": {
   "codemirror_mode": {
    "name": "ipython",
    "version": 2
   },
   "file_extension": ".py",
   "mimetype": "text/x-python",
   "name": "python",
   "nbconvert_exporter": "python",
   "pygments_lexer": "ipython2",
   "version": "2.7.6"
  }
 },
 "nbformat": 4,
 "nbformat_minor": 5
}
