{
 "cells": [
  {
   "cell_type": "markdown",
   "source": [
    "**122: 1. Veri seti, Multi-Output Random Forest + GridSearchCV Modelleme (Sadece X1 - Price Lag Rolling Mean)**  \n",
    "TRAIN\n",
    "\n",
    "Amaç: 16 ürün için çok çıkışlı regresyon tahmini yapmak.\n",
    "\n",
    "Girdi:  \n",
    "- X1_train_multi.npy → Fiyat gecikme rolling mean özellikleri\n",
    "\n",
    "Çıktı: Her ürün için satış tahminleri.\n",
    "\n",
    "Model: Random Forest Regressor modeli, Multi-Output yaklaşımı (sklearn MultiOutputRegressor)\n",
    "\n",
    "Yöntem: GridSearchCV ile hiperparametre optimizasyonu (n_estimators, max_depth, min_samples_split, min_samples_leaf)\n",
    "\n",
    "Metrik: Mean Squared Error (MSE)\n",
    "\n",
    "Çıktılar:  \n",
    "- GridSearch CV sonuçları raporlanır.  \n",
    "- En iyi model: `models/122_rf_X1_model.pkl` dosyasına kaydedilir.\n"
   ],
   "metadata": {
    "collapsed": false
   },
   "id": "37ad5c9ab1815877"
  },
  {
   "cell_type": "markdown",
   "source": [
    "1 - KÜTÜPHANE & VERİ YÜKLEME"
   ],
   "metadata": {
    "collapsed": false
   },
   "id": "3dd8127a086ad6ee"
  },
  {
   "cell_type": "code",
   "execution_count": 4,
   "id": "initial_id",
   "metadata": {
    "collapsed": true,
    "ExecuteTime": {
     "end_time": "2025-07-09T05:54:51.533901100Z",
     "start_time": "2025-07-09T05:54:51.196274700Z"
    }
   },
   "outputs": [
    {
     "name": "stdout",
     "output_type": "stream",
     "text": [
      "X1_train shape: (210239, 48) | y_train shape: (210239, 16)\n"
     ]
    }
   ],
   "source": [
    "import numpy as np\n",
    "from sklearn.multioutput import MultiOutputRegressor\n",
    "from sklearn.ensemble import RandomForestRegressor\n",
    "from sklearn.model_selection import GridSearchCV\n",
    "from sklearn.metrics import make_scorer, mean_squared_error\n",
    "import joblib\n",
    "\n",
    "X_train = np.load('npy/X1_train_multi.npy')\n",
    "y_train = np.load('npy/y_train_multi.npy')\n",
    "\n",
    "print(f\"X1_train shape: {X_train.shape} | y_train shape: {y_train.shape}\")"
   ]
  },
  {
   "cell_type": "markdown",
   "source": [
    "2 - MODEL & GRIDSEARCHCV"
   ],
   "metadata": {
    "collapsed": false
   },
   "id": "ce071ef496c464f7"
  },
  {
   "cell_type": "code",
   "outputs": [
    {
     "name": "stdout",
     "output_type": "stream",
     "text": [
      "Fitting 3 folds for each of 1 candidates, totalling 3 fits\n",
      "\n",
      "En iyi parametre kombinasyonu:\n",
      "{'estimator__max_depth': 3, 'estimator__min_samples_leaf': 2, 'estimator__min_samples_split': 2, 'estimator__n_estimators': 15}\n",
      "En iyi CV MSE: -0.2032\n"
     ]
    }
   ],
   "source": [
    "rf = RandomForestRegressor(random_state=42)\n",
    "multi_rf = MultiOutputRegressor(rf)\n",
    "\n",
    "param_grid = {\n",
    "    'estimator__n_estimators': [15],\n",
    "    'estimator__max_depth': [3],\n",
    "    'estimator__min_samples_split': [2],\n",
    "    'estimator__min_samples_leaf': [2],\n",
    "}\n",
    "\n",
    "scorer = make_scorer(mean_squared_error, greater_is_better=False)\n",
    "\n",
    "grid_search = GridSearchCV(\n",
    "    estimator=multi_rf,\n",
    "    param_grid=param_grid,\n",
    "    scoring=scorer,\n",
    "    cv=3,\n",
    "    verbose=2,\n",
    "    n_jobs=-1\n",
    ")\n",
    "\n",
    "grid_search.fit(X_train, y_train)\n",
    "\n",
    "print(\"\\nEn iyi parametre kombinasyonu:\")\n",
    "print(grid_search.best_params_)\n",
    "print(f\"En iyi CV MSE: {grid_search.best_score_:.4f}\")"
   ],
   "metadata": {
    "collapsed": false,
    "ExecuteTime": {
     "end_time": "2025-07-09T06:01:05.338654800Z",
     "start_time": "2025-07-09T05:54:51.542776800Z"
    }
   },
   "id": "953d4aaf9bf40b31",
   "execution_count": 5
  },
  {
   "cell_type": "markdown",
   "source": [
    "3 - MODEL KAYIT"
   ],
   "metadata": {
    "collapsed": false
   },
   "id": "1b7d7c9d94e7d3f3"
  },
  {
   "cell_type": "code",
   "outputs": [
    {
     "name": "stdout",
     "output_type": "stream",
     "text": [
      "En iyi model 'models/122_rf_X1_model.pkl' dosyasına kaydedildi.\n"
     ]
    }
   ],
   "source": [
    "best_model = grid_search.best_estimator_\n",
    "joblib.dump(best_model, 'models/122_rf_X1_model.pkl')\n",
    "print(\"En iyi model 'models/122_rf_X1_model.pkl' dosyasına kaydedildi.\")"
   ],
   "metadata": {
    "collapsed": false,
    "ExecuteTime": {
     "end_time": "2025-07-09T06:01:05.433963500Z",
     "start_time": "2025-07-09T06:01:05.343066600Z"
    }
   },
   "id": "8d18790c8916f30e",
   "execution_count": 6
  }
 ],
 "metadata": {
  "kernelspec": {
   "display_name": "Python 3",
   "language": "python",
   "name": "python3"
  },
  "language_info": {
   "codemirror_mode": {
    "name": "ipython",
    "version": 2
   },
   "file_extension": ".py",
   "mimetype": "text/x-python",
   "name": "python",
   "nbconvert_exporter": "python",
   "pygments_lexer": "ipython2",
   "version": "2.7.6"
  }
 },
 "nbformat": 4,
 "nbformat_minor": 5
}
