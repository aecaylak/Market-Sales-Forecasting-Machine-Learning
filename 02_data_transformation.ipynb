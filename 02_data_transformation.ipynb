{
 "cells": [
  {
   "cell_type": "markdown",
   "source": [
    "1 - KÜTÜPHANE & BAŞLATMA"
   ],
   "metadata": {
    "collapsed": false
   },
   "id": "6a7a5991845e0b0e"
  },
  {
   "cell_type": "code",
   "execution_count": 9,
   "id": "initial_id",
   "metadata": {
    "collapsed": true,
    "ExecuteTime": {
     "end_time": "2025-07-09T21:28:00.874186700Z",
     "start_time": "2025-07-09T21:28:00.842268Z"
    }
   },
   "outputs": [
    {
     "name": "stdout",
     "output_type": "stream",
     "text": [
      "Veri dönüşümü başladı\n"
     ]
    }
   ],
   "source": [
    "import pandas as pd\n",
    "import numpy as np\n",
    "import os\n",
    "import time\n",
    "\n",
    "print(\"Veri dönüşümü başladı\")\n",
    "start_time = time.time()"
   ]
  },
  {
   "cell_type": "markdown",
   "source": [
    "2 - VERİ OKUMA & KONTROL"
   ],
   "metadata": {
    "collapsed": false
   },
   "id": "621b97fb7ac452b2"
  },
  {
   "cell_type": "code",
   "outputs": [
    {
     "name": "stdout",
     "output_type": "stream",
     "text": [
      "Tablo boyutu: (315645, 68)\n"
     ]
    },
    {
     "data": {
      "text/plain": "                     ABANT SU 500 ML_miktar  COCA COLA SISE200ML_miktar  \\\nDatetime                                                                  \n2022-01-01 00:05:00                       0                           0   \n2022-01-01 00:10:00                       0                           0   \n2022-01-01 00:15:00                       0                           0   \n2022-01-01 00:20:00                       0                           0   \n2022-01-01 00:25:00                       0                           0   \n\n                     CORNETTO KEYIF KORNET_miktar  DORİTOS NACHO SÜPER_miktar  \\\nDatetime                                                                        \n2022-01-01 00:05:00                             0                           0   \n2022-01-01 00:10:00                             0                           0   \n2022-01-01 00:15:00                             0                           0   \n2022-01-01 00:20:00                             0                           0   \n2022-01-01 00:25:00                             0                           0   \n\n                     EKMEK_miktar  INDO MIE NOODLE KÖRILI 75 GR._miktar  \\\nDatetime                                                                  \n2022-01-01 00:05:00             2                                     0   \n2022-01-01 00:10:00             0                                     0   \n2022-01-01 00:15:00             0                                     0   \n2022-01-01 00:20:00             0                                     0   \n2022-01-01 00:25:00             0                                     0   \n\n                     KARAM GURME 50GX18 KL_miktar  KENT D-RANGE BLUE_miktar  \\\nDatetime                                                                      \n2022-01-01 00:05:00                             0                         0   \n2022-01-01 00:10:00                             0                         0   \n2022-01-01 00:15:00                             0                         0   \n2022-01-01 00:20:00                             0                         0   \n2022-01-01 00:25:00                             0                         0   \n\n                     KINDER PINGUI CACAO T1 - 30_miktar  \\\nDatetime                                                  \n2022-01-01 00:05:00                                   0   \n2022-01-01 00:10:00                                   0   \n2022-01-01 00:15:00                                   0   \n2022-01-01 00:20:00                                   0   \n2022-01-01 00:25:00                                   0   \n\n                     LAY S YOĞURT MEVSİM YEŞİLLİKLERİ SÜPER_miktar  ...  \\\nDatetime                                                            ...   \n2022-01-01 00:05:00                                              0  ...   \n2022-01-01 00:10:00                                              0  ...   \n2022-01-01 00:15:00                                              0  ...   \n2022-01-01 00:20:00                                              0  ...   \n2022-01-01 00:25:00                                              0  ...   \n\n                     NESCAFE 3Ü1 ARADA SÜTLÜ KÖPÜKLÜ CLEO 12(48X17.4G)_miktar_lag1  \\\nDatetime                                                                             \n2022-01-01 00:05:00                                                  0               \n2022-01-01 00:10:00                                                  0               \n2022-01-01 00:15:00                                                  0               \n2022-01-01 00:20:00                                                  0               \n2022-01-01 00:25:00                                                  0               \n\n                     NESCAFE 3Ü1 ARADA SÜTLÜ KÖPÜKLÜ CLEO 12(48X17.4G)_miktar_roll5  \\\nDatetime                                                                              \n2022-01-01 00:05:00                                                0.0                \n2022-01-01 00:10:00                                                0.0                \n2022-01-01 00:15:00                                                0.0                \n2022-01-01 00:20:00                                                0.0                \n2022-01-01 00:25:00                                                0.0                \n\n                     SIYAH DAKOTA ÇEKİRDEK_miktar_lag1  \\\nDatetime                                                 \n2022-01-01 00:05:00                               0.00   \n2022-01-01 00:10:00                               0.13   \n2022-01-01 00:15:00                               0.25   \n2022-01-01 00:20:00                               0.49   \n2022-01-01 00:25:00                               0.00   \n\n                     SIYAH DAKOTA ÇEKİRDEK_miktar_roll5  \\\nDatetime                                                  \n2022-01-01 00:05:00                                 0.0   \n2022-01-01 00:10:00                                 0.0   \n2022-01-01 00:15:00                                 0.0   \n2022-01-01 00:20:00                                 0.0   \n2022-01-01 00:25:00                                 0.0   \n\n                     TURK KAHVESI_miktar_lag1  TURK KAHVESI_miktar_roll5  \\\nDatetime                                                                   \n2022-01-01 00:05:00                       0.0                        0.0   \n2022-01-01 00:10:00                       0.0                        0.0   \n2022-01-01 00:15:00                       0.0                        0.0   \n2022-01-01 00:20:00                       0.0                        0.0   \n2022-01-01 00:25:00                       0.0                        0.0   \n\n                     ÜLKER LAVİVA DOLG.VE BİSK.ÇİK.35GRX24X6_miktar_lag1  \\\nDatetime                                                                   \n2022-01-01 00:05:00                                                  0     \n2022-01-01 00:10:00                                                  0     \n2022-01-01 00:15:00                                                  0     \n2022-01-01 00:20:00                                                  0     \n2022-01-01 00:25:00                                                  2     \n\n                     ÜLKER LAVİVA DOLG.VE BİSK.ÇİK.35GRX24X6_miktar_roll5  \\\nDatetime                                                                    \n2022-01-01 00:05:00                                                0.0      \n2022-01-01 00:10:00                                                0.0      \n2022-01-01 00:15:00                                                0.0      \n2022-01-01 00:20:00                                                0.0      \n2022-01-01 00:25:00                                                0.0      \n\n                     İÇİM SÜT YAĞLI 1LT X12_miktar_lag1  \\\nDatetime                                                  \n2022-01-01 00:05:00                                   0   \n2022-01-01 00:10:00                                   0   \n2022-01-01 00:15:00                                   0   \n2022-01-01 00:20:00                                   0   \n2022-01-01 00:25:00                                   0   \n\n                     İÇİM SÜT YAĞLI 1LT X12_miktar_roll5  \nDatetime                                                  \n2022-01-01 00:05:00                                  0.0  \n2022-01-01 00:10:00                                  0.0  \n2022-01-01 00:15:00                                  0.0  \n2022-01-01 00:20:00                                  0.0  \n2022-01-01 00:25:00                                  0.0  \n\n[5 rows x 68 columns]",
      "text/html": "<div>\n<style scoped>\n    .dataframe tbody tr th:only-of-type {\n        vertical-align: middle;\n    }\n\n    .dataframe tbody tr th {\n        vertical-align: top;\n    }\n\n    .dataframe thead th {\n        text-align: right;\n    }\n</style>\n<table border=\"1\" class=\"dataframe\">\n  <thead>\n    <tr style=\"text-align: right;\">\n      <th></th>\n      <th>ABANT SU 500 ML_miktar</th>\n      <th>COCA COLA SISE200ML_miktar</th>\n      <th>CORNETTO KEYIF KORNET_miktar</th>\n      <th>DORİTOS NACHO SÜPER_miktar</th>\n      <th>EKMEK_miktar</th>\n      <th>INDO MIE NOODLE KÖRILI 75 GR._miktar</th>\n      <th>KARAM GURME 50GX18 KL_miktar</th>\n      <th>KENT D-RANGE BLUE_miktar</th>\n      <th>KINDER PINGUI CACAO T1 - 30_miktar</th>\n      <th>LAY S YOĞURT MEVSİM YEŞİLLİKLERİ SÜPER_miktar</th>\n      <th>...</th>\n      <th>NESCAFE 3Ü1 ARADA SÜTLÜ KÖPÜKLÜ CLEO 12(48X17.4G)_miktar_lag1</th>\n      <th>NESCAFE 3Ü1 ARADA SÜTLÜ KÖPÜKLÜ CLEO 12(48X17.4G)_miktar_roll5</th>\n      <th>SIYAH DAKOTA ÇEKİRDEK_miktar_lag1</th>\n      <th>SIYAH DAKOTA ÇEKİRDEK_miktar_roll5</th>\n      <th>TURK KAHVESI_miktar_lag1</th>\n      <th>TURK KAHVESI_miktar_roll5</th>\n      <th>ÜLKER LAVİVA DOLG.VE BİSK.ÇİK.35GRX24X6_miktar_lag1</th>\n      <th>ÜLKER LAVİVA DOLG.VE BİSK.ÇİK.35GRX24X6_miktar_roll5</th>\n      <th>İÇİM SÜT YAĞLI 1LT X12_miktar_lag1</th>\n      <th>İÇİM SÜT YAĞLI 1LT X12_miktar_roll5</th>\n    </tr>\n    <tr>\n      <th>Datetime</th>\n      <th></th>\n      <th></th>\n      <th></th>\n      <th></th>\n      <th></th>\n      <th></th>\n      <th></th>\n      <th></th>\n      <th></th>\n      <th></th>\n      <th></th>\n      <th></th>\n      <th></th>\n      <th></th>\n      <th></th>\n      <th></th>\n      <th></th>\n      <th></th>\n      <th></th>\n      <th></th>\n      <th></th>\n    </tr>\n  </thead>\n  <tbody>\n    <tr>\n      <th>2022-01-01 00:05:00</th>\n      <td>0</td>\n      <td>0</td>\n      <td>0</td>\n      <td>0</td>\n      <td>2</td>\n      <td>0</td>\n      <td>0</td>\n      <td>0</td>\n      <td>0</td>\n      <td>0</td>\n      <td>...</td>\n      <td>0</td>\n      <td>0.0</td>\n      <td>0.00</td>\n      <td>0.0</td>\n      <td>0.0</td>\n      <td>0.0</td>\n      <td>0</td>\n      <td>0.0</td>\n      <td>0</td>\n      <td>0.0</td>\n    </tr>\n    <tr>\n      <th>2022-01-01 00:10:00</th>\n      <td>0</td>\n      <td>0</td>\n      <td>0</td>\n      <td>0</td>\n      <td>0</td>\n      <td>0</td>\n      <td>0</td>\n      <td>0</td>\n      <td>0</td>\n      <td>0</td>\n      <td>...</td>\n      <td>0</td>\n      <td>0.0</td>\n      <td>0.13</td>\n      <td>0.0</td>\n      <td>0.0</td>\n      <td>0.0</td>\n      <td>0</td>\n      <td>0.0</td>\n      <td>0</td>\n      <td>0.0</td>\n    </tr>\n    <tr>\n      <th>2022-01-01 00:15:00</th>\n      <td>0</td>\n      <td>0</td>\n      <td>0</td>\n      <td>0</td>\n      <td>0</td>\n      <td>0</td>\n      <td>0</td>\n      <td>0</td>\n      <td>0</td>\n      <td>0</td>\n      <td>...</td>\n      <td>0</td>\n      <td>0.0</td>\n      <td>0.25</td>\n      <td>0.0</td>\n      <td>0.0</td>\n      <td>0.0</td>\n      <td>0</td>\n      <td>0.0</td>\n      <td>0</td>\n      <td>0.0</td>\n    </tr>\n    <tr>\n      <th>2022-01-01 00:20:00</th>\n      <td>0</td>\n      <td>0</td>\n      <td>0</td>\n      <td>0</td>\n      <td>0</td>\n      <td>0</td>\n      <td>0</td>\n      <td>0</td>\n      <td>0</td>\n      <td>0</td>\n      <td>...</td>\n      <td>0</td>\n      <td>0.0</td>\n      <td>0.49</td>\n      <td>0.0</td>\n      <td>0.0</td>\n      <td>0.0</td>\n      <td>0</td>\n      <td>0.0</td>\n      <td>0</td>\n      <td>0.0</td>\n    </tr>\n    <tr>\n      <th>2022-01-01 00:25:00</th>\n      <td>0</td>\n      <td>0</td>\n      <td>0</td>\n      <td>0</td>\n      <td>0</td>\n      <td>0</td>\n      <td>0</td>\n      <td>0</td>\n      <td>0</td>\n      <td>0</td>\n      <td>...</td>\n      <td>0</td>\n      <td>0.0</td>\n      <td>0.00</td>\n      <td>0.0</td>\n      <td>0.0</td>\n      <td>0.0</td>\n      <td>2</td>\n      <td>0.0</td>\n      <td>0</td>\n      <td>0.0</td>\n    </tr>\n  </tbody>\n</table>\n<p>5 rows × 68 columns</p>\n</div>"
     },
     "metadata": {},
     "output_type": "display_data"
    }
   ],
   "source": [
    "df = pd.read_excel(\"pivot_final_with_features_ALL.xlsx\", index_col=0)\n",
    "df.index = pd.to_datetime(df.index)\n",
    "\n",
    "print(f\"Tablo boyutu: {df.shape}\")\n",
    "display(df.head())"
   ],
   "metadata": {
    "collapsed": false,
    "ExecuteTime": {
     "end_time": "2025-07-09T21:30:42.869891800Z",
     "start_time": "2025-07-09T21:28:00.879674600Z"
    }
   },
   "id": "f211d82fcc9a7001",
   "execution_count": 10
  },
  {
   "cell_type": "markdown",
   "source": [
    "3 - OUTPUT KLASÖR KONTROLÜ"
   ],
   "metadata": {
    "collapsed": false
   },
   "id": "6bfbf84039f530e0"
  },
  {
   "cell_type": "code",
   "outputs": [
    {
     "name": "stdout",
     "output_type": "stream",
     "text": [
      "'npy/' klasörü zaten var.\n"
     ]
    }
   ],
   "source": [
    "if not os.path.exists('npy'):\n",
    "    os.makedirs('npy')\n",
    "    print(\"'npy/' klasörü oluşturuldu.\")\n",
    "else:\n",
    "    print(\"'npy/' klasörü zaten var.\")"
   ],
   "metadata": {
    "collapsed": false,
    "ExecuteTime": {
     "end_time": "2025-07-09T21:30:42.873536300Z",
     "start_time": "2025-07-09T21:30:42.862811800Z"
    }
   },
   "id": "dd3f338fa65a7c2a",
   "execution_count": 11
  },
  {
   "cell_type": "markdown",
   "source": [
    "4 - TRAIN / TEST AYIRMA (EKMEK) (Normalde tüm ürünler için kullanıma uygundur. fakat dataset secimi kaynaklı sadece Ekmek için işlem yapılmıştır. target_cols kısmı için yorum satırına alınmış satır çalıştırılıp çalışan kod çıkarıldığında tüm ürünler için veri çıkartılacaktır.)"
   ],
   "metadata": {
    "collapsed": false
   },
   "id": "1e8e0987a520c209"
  },
  {
   "cell_type": "code",
   "outputs": [
    {
     "name": "stdout",
     "output_type": "stream",
     "text": [
      "\n",
      "Ürün hedef: EKMEK_miktar\n",
      "X_train: (210239, 67), X_test: (105406, 67)\n"
     ]
    },
    {
     "data": {
      "text/plain": "                     ABANT SU 500 ML_miktar  COCA COLA SISE200ML_miktar  \\\nDatetime                                                                  \n2022-01-01 00:05:00                       0                           0   \n2022-01-01 00:10:00                       0                           0   \n2022-01-01 00:15:00                       0                           0   \n2022-01-01 00:20:00                       0                           0   \n2022-01-01 00:25:00                       0                           0   \n\n                     CORNETTO KEYIF KORNET_miktar  DORİTOS NACHO SÜPER_miktar  \\\nDatetime                                                                        \n2022-01-01 00:05:00                             0                           0   \n2022-01-01 00:10:00                             0                           0   \n2022-01-01 00:15:00                             0                           0   \n2022-01-01 00:20:00                             0                           0   \n2022-01-01 00:25:00                             0                           0   \n\n                     INDO MIE NOODLE KÖRILI 75 GR._miktar  \\\nDatetime                                                    \n2022-01-01 00:05:00                                     0   \n2022-01-01 00:10:00                                     0   \n2022-01-01 00:15:00                                     0   \n2022-01-01 00:20:00                                     0   \n2022-01-01 00:25:00                                     0   \n\n                     KARAM GURME 50GX18 KL_miktar  KENT D-RANGE BLUE_miktar  \\\nDatetime                                                                      \n2022-01-01 00:05:00                             0                         0   \n2022-01-01 00:10:00                             0                         0   \n2022-01-01 00:15:00                             0                         0   \n2022-01-01 00:20:00                             0                         0   \n2022-01-01 00:25:00                             0                         0   \n\n                     KINDER PINGUI CACAO T1 - 30_miktar  \\\nDatetime                                                  \n2022-01-01 00:05:00                                   0   \n2022-01-01 00:10:00                                   0   \n2022-01-01 00:15:00                                   0   \n2022-01-01 00:20:00                                   0   \n2022-01-01 00:25:00                                   0   \n\n                     LAY S YOĞURT MEVSİM YEŞİLLİKLERİ SÜPER_miktar  \\\nDatetime                                                             \n2022-01-01 00:05:00                                              0   \n2022-01-01 00:10:00                                              0   \n2022-01-01 00:15:00                                              0   \n2022-01-01 00:20:00                                              0   \n2022-01-01 00:25:00                                              0   \n\n                     LÜKS KARIŞIK_miktar  ...  \\\nDatetime                                  ...   \n2022-01-01 00:05:00                 0.00  ...   \n2022-01-01 00:10:00                 0.00  ...   \n2022-01-01 00:15:00                 0.00  ...   \n2022-01-01 00:20:00                 0.15  ...   \n2022-01-01 00:25:00                 0.00  ...   \n\n                     NESCAFE 3Ü1 ARADA SÜTLÜ KÖPÜKLÜ CLEO 12(48X17.4G)_miktar_lag1  \\\nDatetime                                                                             \n2022-01-01 00:05:00                                                  0               \n2022-01-01 00:10:00                                                  0               \n2022-01-01 00:15:00                                                  0               \n2022-01-01 00:20:00                                                  0               \n2022-01-01 00:25:00                                                  0               \n\n                     NESCAFE 3Ü1 ARADA SÜTLÜ KÖPÜKLÜ CLEO 12(48X17.4G)_miktar_roll5  \\\nDatetime                                                                              \n2022-01-01 00:05:00                                                0.0                \n2022-01-01 00:10:00                                                0.0                \n2022-01-01 00:15:00                                                0.0                \n2022-01-01 00:20:00                                                0.0                \n2022-01-01 00:25:00                                                0.0                \n\n                     SIYAH DAKOTA ÇEKİRDEK_miktar_lag1  \\\nDatetime                                                 \n2022-01-01 00:05:00                               0.00   \n2022-01-01 00:10:00                               0.13   \n2022-01-01 00:15:00                               0.25   \n2022-01-01 00:20:00                               0.49   \n2022-01-01 00:25:00                               0.00   \n\n                     SIYAH DAKOTA ÇEKİRDEK_miktar_roll5  \\\nDatetime                                                  \n2022-01-01 00:05:00                                 0.0   \n2022-01-01 00:10:00                                 0.0   \n2022-01-01 00:15:00                                 0.0   \n2022-01-01 00:20:00                                 0.0   \n2022-01-01 00:25:00                                 0.0   \n\n                     TURK KAHVESI_miktar_lag1  TURK KAHVESI_miktar_roll5  \\\nDatetime                                                                   \n2022-01-01 00:05:00                       0.0                        0.0   \n2022-01-01 00:10:00                       0.0                        0.0   \n2022-01-01 00:15:00                       0.0                        0.0   \n2022-01-01 00:20:00                       0.0                        0.0   \n2022-01-01 00:25:00                       0.0                        0.0   \n\n                     ÜLKER LAVİVA DOLG.VE BİSK.ÇİK.35GRX24X6_miktar_lag1  \\\nDatetime                                                                   \n2022-01-01 00:05:00                                                  0     \n2022-01-01 00:10:00                                                  0     \n2022-01-01 00:15:00                                                  0     \n2022-01-01 00:20:00                                                  0     \n2022-01-01 00:25:00                                                  2     \n\n                     ÜLKER LAVİVA DOLG.VE BİSK.ÇİK.35GRX24X6_miktar_roll5  \\\nDatetime                                                                    \n2022-01-01 00:05:00                                                0.0      \n2022-01-01 00:10:00                                                0.0      \n2022-01-01 00:15:00                                                0.0      \n2022-01-01 00:20:00                                                0.0      \n2022-01-01 00:25:00                                                0.0      \n\n                     İÇİM SÜT YAĞLI 1LT X12_miktar_lag1  \\\nDatetime                                                  \n2022-01-01 00:05:00                                   0   \n2022-01-01 00:10:00                                   0   \n2022-01-01 00:15:00                                   0   \n2022-01-01 00:20:00                                   0   \n2022-01-01 00:25:00                                   0   \n\n                     İÇİM SÜT YAĞLI 1LT X12_miktar_roll5  \nDatetime                                                  \n2022-01-01 00:05:00                                  0.0  \n2022-01-01 00:10:00                                  0.0  \n2022-01-01 00:15:00                                  0.0  \n2022-01-01 00:20:00                                  0.0  \n2022-01-01 00:25:00                                  0.0  \n\n[5 rows x 67 columns]",
      "text/html": "<div>\n<style scoped>\n    .dataframe tbody tr th:only-of-type {\n        vertical-align: middle;\n    }\n\n    .dataframe tbody tr th {\n        vertical-align: top;\n    }\n\n    .dataframe thead th {\n        text-align: right;\n    }\n</style>\n<table border=\"1\" class=\"dataframe\">\n  <thead>\n    <tr style=\"text-align: right;\">\n      <th></th>\n      <th>ABANT SU 500 ML_miktar</th>\n      <th>COCA COLA SISE200ML_miktar</th>\n      <th>CORNETTO KEYIF KORNET_miktar</th>\n      <th>DORİTOS NACHO SÜPER_miktar</th>\n      <th>INDO MIE NOODLE KÖRILI 75 GR._miktar</th>\n      <th>KARAM GURME 50GX18 KL_miktar</th>\n      <th>KENT D-RANGE BLUE_miktar</th>\n      <th>KINDER PINGUI CACAO T1 - 30_miktar</th>\n      <th>LAY S YOĞURT MEVSİM YEŞİLLİKLERİ SÜPER_miktar</th>\n      <th>LÜKS KARIŞIK_miktar</th>\n      <th>...</th>\n      <th>NESCAFE 3Ü1 ARADA SÜTLÜ KÖPÜKLÜ CLEO 12(48X17.4G)_miktar_lag1</th>\n      <th>NESCAFE 3Ü1 ARADA SÜTLÜ KÖPÜKLÜ CLEO 12(48X17.4G)_miktar_roll5</th>\n      <th>SIYAH DAKOTA ÇEKİRDEK_miktar_lag1</th>\n      <th>SIYAH DAKOTA ÇEKİRDEK_miktar_roll5</th>\n      <th>TURK KAHVESI_miktar_lag1</th>\n      <th>TURK KAHVESI_miktar_roll5</th>\n      <th>ÜLKER LAVİVA DOLG.VE BİSK.ÇİK.35GRX24X6_miktar_lag1</th>\n      <th>ÜLKER LAVİVA DOLG.VE BİSK.ÇİK.35GRX24X6_miktar_roll5</th>\n      <th>İÇİM SÜT YAĞLI 1LT X12_miktar_lag1</th>\n      <th>İÇİM SÜT YAĞLI 1LT X12_miktar_roll5</th>\n    </tr>\n    <tr>\n      <th>Datetime</th>\n      <th></th>\n      <th></th>\n      <th></th>\n      <th></th>\n      <th></th>\n      <th></th>\n      <th></th>\n      <th></th>\n      <th></th>\n      <th></th>\n      <th></th>\n      <th></th>\n      <th></th>\n      <th></th>\n      <th></th>\n      <th></th>\n      <th></th>\n      <th></th>\n      <th></th>\n      <th></th>\n      <th></th>\n    </tr>\n  </thead>\n  <tbody>\n    <tr>\n      <th>2022-01-01 00:05:00</th>\n      <td>0</td>\n      <td>0</td>\n      <td>0</td>\n      <td>0</td>\n      <td>0</td>\n      <td>0</td>\n      <td>0</td>\n      <td>0</td>\n      <td>0</td>\n      <td>0.00</td>\n      <td>...</td>\n      <td>0</td>\n      <td>0.0</td>\n      <td>0.00</td>\n      <td>0.0</td>\n      <td>0.0</td>\n      <td>0.0</td>\n      <td>0</td>\n      <td>0.0</td>\n      <td>0</td>\n      <td>0.0</td>\n    </tr>\n    <tr>\n      <th>2022-01-01 00:10:00</th>\n      <td>0</td>\n      <td>0</td>\n      <td>0</td>\n      <td>0</td>\n      <td>0</td>\n      <td>0</td>\n      <td>0</td>\n      <td>0</td>\n      <td>0</td>\n      <td>0.00</td>\n      <td>...</td>\n      <td>0</td>\n      <td>0.0</td>\n      <td>0.13</td>\n      <td>0.0</td>\n      <td>0.0</td>\n      <td>0.0</td>\n      <td>0</td>\n      <td>0.0</td>\n      <td>0</td>\n      <td>0.0</td>\n    </tr>\n    <tr>\n      <th>2022-01-01 00:15:00</th>\n      <td>0</td>\n      <td>0</td>\n      <td>0</td>\n      <td>0</td>\n      <td>0</td>\n      <td>0</td>\n      <td>0</td>\n      <td>0</td>\n      <td>0</td>\n      <td>0.00</td>\n      <td>...</td>\n      <td>0</td>\n      <td>0.0</td>\n      <td>0.25</td>\n      <td>0.0</td>\n      <td>0.0</td>\n      <td>0.0</td>\n      <td>0</td>\n      <td>0.0</td>\n      <td>0</td>\n      <td>0.0</td>\n    </tr>\n    <tr>\n      <th>2022-01-01 00:20:00</th>\n      <td>0</td>\n      <td>0</td>\n      <td>0</td>\n      <td>0</td>\n      <td>0</td>\n      <td>0</td>\n      <td>0</td>\n      <td>0</td>\n      <td>0</td>\n      <td>0.15</td>\n      <td>...</td>\n      <td>0</td>\n      <td>0.0</td>\n      <td>0.49</td>\n      <td>0.0</td>\n      <td>0.0</td>\n      <td>0.0</td>\n      <td>0</td>\n      <td>0.0</td>\n      <td>0</td>\n      <td>0.0</td>\n    </tr>\n    <tr>\n      <th>2022-01-01 00:25:00</th>\n      <td>0</td>\n      <td>0</td>\n      <td>0</td>\n      <td>0</td>\n      <td>0</td>\n      <td>0</td>\n      <td>0</td>\n      <td>0</td>\n      <td>0</td>\n      <td>0.00</td>\n      <td>...</td>\n      <td>0</td>\n      <td>0.0</td>\n      <td>0.00</td>\n      <td>0.0</td>\n      <td>0.0</td>\n      <td>0.0</td>\n      <td>2</td>\n      <td>0.0</td>\n      <td>0</td>\n      <td>0.0</td>\n    </tr>\n  </tbody>\n</table>\n<p>5 rows × 67 columns</p>\n</div>"
     },
     "metadata": {},
     "output_type": "display_data"
    },
    {
     "name": "stdout",
     "output_type": "stream",
     "text": [
      "y_train örnek: Datetime\n",
      "2022-01-01 00:05:00    2\n",
      "2022-01-01 00:10:00    0\n",
      "2022-01-01 00:15:00    0\n",
      "2022-01-01 00:20:00    0\n",
      "2022-01-01 00:25:00    0\n",
      "Name: EKMEK_miktar, dtype: int64\n"
     ]
    }
   ],
   "source": [
    "split_date = '2024-01-01'\n",
    "\n",
    "target_cols = ['EKMEK_miktar']\n",
    "# target_cols = [col for col in df.columns if col.endswith('_miktar') and '_lag' not in col]\n",
    "# yukarıdaki yorum satırı kod satırına dönüştürülerek tüm ürünler için çıktılar elde edilebilir\n",
    "\n",
    "for target_col in target_cols:\n",
    "    print(f\"\\nÜrün hedef: {target_col}\")\n",
    "\n",
    "    X = df.drop(columns=[target_col]).copy()\n",
    "    y = df[target_col].copy()\n",
    "\n",
    "    X_train = X[X.index < split_date]\n",
    "    X_test  = X[X.index >= split_date]\n",
    "    y_train = y[y.index < split_date]\n",
    "    y_test  = y[y.index >= split_date]\n",
    "\n",
    "    print(f\"X_train: {X_train.shape}, X_test: {X_test.shape}\")\n",
    "    display(X_train.head())\n",
    "    print(f\"y_train örnek: {y_train.head()}\")"
   ],
   "metadata": {
    "collapsed": false,
    "ExecuteTime": {
     "end_time": "2025-07-09T21:56:43.913167Z",
     "start_time": "2025-07-09T21:56:43.619906900Z"
    }
   },
   "id": "8db95f6e462965a5",
   "execution_count": 33
  },
  {
   "cell_type": "markdown",
   "source": [
    "SCALING & KAYDETME (EKMEK)"
   ],
   "metadata": {
    "collapsed": false
   },
   "id": "33dd60460e4b2f5a"
  },
  {
   "cell_type": "code",
   "outputs": [
    {
     "name": "stdout",
     "output_type": "stream",
     "text": [
      "Kaydedildi: npy/X_train_EKMEK_miktar.npy vb.\n"
     ]
    }
   ],
   "source": [
    "    X_train_mean = X_train.mean()\n",
    "    X_train_std  = X_train.std()\n",
    "\n",
    "    X_train_scaled = (X_train - X_train_mean) / X_train_std\n",
    "    X_test_scaled  = (X_test - X_train_mean) / X_train_std\n",
    "\n",
    "    np.save(f'npy/X_train_{target_col}.npy', X_train_scaled.to_numpy())\n",
    "    np.save(f'npy/X_test_{target_col}.npy', X_test_scaled.to_numpy())\n",
    "    np.save(f'npy/y_train_{target_col}.npy', y_train.to_numpy())\n",
    "    np.save(f'npy/y_test_{target_col}.npy', y_test.to_numpy())\n",
    "\n",
    "\n",
    "    print(f\"Kaydedildi: npy/X_train_{target_col}.npy vb.\")"
   ],
   "metadata": {
    "collapsed": false,
    "ExecuteTime": {
     "end_time": "2025-07-09T21:56:48.794825200Z",
     "start_time": "2025-07-09T21:56:48.187342600Z"
    }
   },
   "id": "1209a03706df7a2",
   "execution_count": 34
  },
  {
   "cell_type": "markdown",
   "source": [
    "6 - KATMAN BAZLI EKMEK VERİLERİ"
   ],
   "metadata": {
    "collapsed": false
   },
   "id": "527f837556de52ea"
  },
  {
   "cell_type": "code",
   "outputs": [
    {
     "name": "stdout",
     "output_type": "stream",
     "text": [
      "X1 shape: (210239, 3) | Kolonlar: ['EKMEK_fiyat', 'EKMEK_miktar_lag1', 'EKMEK_miktar_roll5']\n",
      "X2 shape: (210239, 4) | Kolonlar: ['hour', 'day', 'weekday', 'is_weekend']\n",
      "X12 shape: (210239, 7) | Kolonlar: ['EKMEK_fiyat', 'EKMEK_miktar_lag1', 'EKMEK_miktar_roll5', 'hour', 'day', 'weekday', 'is_weekend']\n",
      "X3 shape: (210239, 60) | Kolonlar: ['ABANT SU 500 ML_miktar', 'COCA COLA SISE200ML_miktar', 'CORNETTO KEYIF KORNET_miktar', 'DORİTOS NACHO SÜPER_miktar', 'INDO MIE NOODLE KÖRILI 75 GR._miktar', 'KARAM GURME 50GX18 KL_miktar', 'KENT D-RANGE BLUE_miktar', 'KINDER PINGUI CACAO T1 - 30_miktar', 'LAY S YOĞURT MEVSİM YEŞİLLİKLERİ SÜPER_miktar', 'LÜKS KARIŞIK_miktar', 'NESCAFE 3Ü1 ARADA SÜTLÜ KÖPÜKLÜ CLEO 12(48X17.4G)_miktar', 'SIYAH DAKOTA ÇEKİRDEK_miktar', 'TURK KAHVESI_miktar', 'ÜLKER LAVİVA DOLG.VE BİSK.ÇİK.35GRX24X6_miktar', 'İÇİM SÜT YAĞLI 1LT X12_miktar', 'ABANT SU 500 ML_fiyat', 'COCA COLA SISE200ML_fiyat', 'CORNETTO KEYIF KORNET_fiyat', 'DORİTOS NACHO SÜPER_fiyat', 'INDO MIE NOODLE KÖRILI 75 GR._fiyat', 'KARAM GURME 50GX18 KL_fiyat', 'KENT D-RANGE BLUE_fiyat', 'KINDER PINGUI CACAO T1 - 30_fiyat', 'LAY S YOĞURT MEVSİM YEŞİLLİKLERİ SÜPER_fiyat', 'LÜKS KARIŞIK_fiyat', 'NESCAFE 3Ü1 ARADA SÜTLÜ KÖPÜKLÜ CLEO 12(48X17.4G)_fiyat', 'SIYAH DAKOTA ÇEKİRDEK_fiyat', 'TURK KAHVESI_fiyat', 'ÜLKER LAVİVA DOLG.VE BİSK.ÇİK.35GRX24X6_fiyat', 'İÇİM SÜT YAĞLI 1LT X12_fiyat', 'ABANT SU 500 ML_miktar_lag1', 'ABANT SU 500 ML_miktar_roll5', 'COCA COLA SISE200ML_miktar_lag1', 'COCA COLA SISE200ML_miktar_roll5', 'CORNETTO KEYIF KORNET_miktar_lag1', 'CORNETTO KEYIF KORNET_miktar_roll5', 'DORİTOS NACHO SÜPER_miktar_lag1', 'DORİTOS NACHO SÜPER_miktar_roll5', 'INDO MIE NOODLE KÖRILI 75 GR._miktar_lag1', 'INDO MIE NOODLE KÖRILI 75 GR._miktar_roll5', 'KARAM GURME 50GX18 KL_miktar_lag1', 'KARAM GURME 50GX18 KL_miktar_roll5', 'KENT D-RANGE BLUE_miktar_lag1', 'KENT D-RANGE BLUE_miktar_roll5', 'KINDER PINGUI CACAO T1 - 30_miktar_lag1', 'KINDER PINGUI CACAO T1 - 30_miktar_roll5', 'LAY S YOĞURT MEVSİM YEŞİLLİKLERİ SÜPER_miktar_lag1', 'LAY S YOĞURT MEVSİM YEŞİLLİKLERİ SÜPER_miktar_roll5', 'LÜKS KARIŞIK_miktar_lag1', 'LÜKS KARIŞIK_miktar_roll5', 'NESCAFE 3Ü1 ARADA SÜTLÜ KÖPÜKLÜ CLEO 12(48X17.4G)_miktar_lag1', 'NESCAFE 3Ü1 ARADA SÜTLÜ KÖPÜKLÜ CLEO 12(48X17.4G)_miktar_roll5', 'SIYAH DAKOTA ÇEKİRDEK_miktar_lag1', 'SIYAH DAKOTA ÇEKİRDEK_miktar_roll5', 'TURK KAHVESI_miktar_lag1', 'TURK KAHVESI_miktar_roll5', 'ÜLKER LAVİVA DOLG.VE BİSK.ÇİK.35GRX24X6_miktar_lag1', 'ÜLKER LAVİVA DOLG.VE BİSK.ÇİK.35GRX24X6_miktar_roll5', 'İÇİM SÜT YAĞLI 1LT X12_miktar_lag1', 'İÇİM SÜT YAĞLI 1LT X12_miktar_roll5']\n",
      "Katman bazlı dosyalar kaydedildi: EKMEK\n"
     ]
    }
   ],
   "source": [
    "    product_name = target_col.replace('_miktar', '')\n",
    "\n",
    "    price_cols = [col for col in X_train.columns if col.endswith('_fiyat') and product_name in col]\n",
    "    lag_cols = [col for col in X_train.columns if product_name in col and '_lag' in col]\n",
    "    roll_cols = [col for col in X_train.columns if product_name in col and '_roll' in col]\n",
    "    datetime_cols = ['hour', 'day', 'weekday', 'is_weekend']\n",
    "\n",
    "    used_cols = set(price_cols + lag_cols + roll_cols + datetime_cols + [target_col])\n",
    "    X3_cols = [col for col in X_train.columns if col not in used_cols]\n",
    "\n",
    "    X1_train = X_train[price_cols + lag_cols + roll_cols]\n",
    "    X1_test  = X_test[price_cols + lag_cols + roll_cols]\n",
    "\n",
    "    X2_train = X_train[datetime_cols]\n",
    "    X2_test  = X_test[datetime_cols]\n",
    "\n",
    "    X12_train = X_train[price_cols + lag_cols + roll_cols + datetime_cols]\n",
    "    X12_test  = X_test[price_cols + lag_cols + roll_cols + datetime_cols]\n",
    "\n",
    "    X3_train = X_train[X3_cols]\n",
    "    X3_test  = X_test[X3_cols]\n",
    "\n",
    "    # Örnek boyut ve kolon gösterimi\n",
    "    print(f\"X1 shape: {X1_train.shape} | Kolonlar: {X1_train.columns.tolist()}\")\n",
    "    print(f\"X2 shape: {X2_train.shape} | Kolonlar: {X2_train.columns.tolist()}\")\n",
    "    print(f\"X12 shape: {X12_train.shape} | Kolonlar: {X12_train.columns.tolist()}\")\n",
    "    print(f\"X3 shape: {X3_train.shape} | Kolonlar: {X3_train.columns.tolist()}\")\n",
    "\n",
    "    # X1 için scaling\n",
    "    X1_mean = X1_train.mean()\n",
    "    X1_std  = X1_train.std()\n",
    "    X1_train_scaled = (X1_train - X1_mean) / X1_std\n",
    "    X1_test_scaled  = (X1_test - X1_mean) / X1_std\n",
    "\n",
    "    np.save(f'npy/X1_train_{product_name}.npy', X1_train_scaled.to_numpy())\n",
    "    np.save(f'npy/X1_test_{product_name}.npy', X1_test_scaled.to_numpy())\n",
    "    np.save(f'npy/X2_train_{product_name}.npy', X2_train.to_numpy())\n",
    "    np.save(f'npy/X2_test_{product_name}.npy', X2_test.to_numpy())\n",
    "    np.save(f'npy/X12_train_{product_name}.npy', X12_train.to_numpy())\n",
    "    np.save(f'npy/X12_test_{product_name}.npy', X12_test.to_numpy())\n",
    "    np.save(f'npy/X3_train_{product_name}.npy', X3_train.to_numpy())\n",
    "    np.save(f'npy/X3_test_{product_name}.npy', X3_test.to_numpy())\n",
    "\n",
    "    print(f\"Katman bazlı dosyalar kaydedildi: {product_name}\")"
   ],
   "metadata": {
    "collapsed": false,
    "ExecuteTime": {
     "end_time": "2025-07-09T21:56:55.342878300Z",
     "start_time": "2025-07-09T21:56:54.915189400Z"
    }
   },
   "id": "e2f95c2a742be994",
   "execution_count": 35
  },
  {
   "cell_type": "markdown",
   "source": [
    "7 - MULTI-OUTPUT SET"
   ],
   "metadata": {
    "collapsed": false
   },
   "id": "c2cf931562519398"
  },
  {
   "cell_type": "code",
   "outputs": [
    {
     "name": "stdout",
     "output_type": "stream",
     "text": [
      "\n",
      "Multi-output set hazırlanıyor...\n",
      "Multi X_train: (210239, 52) | Multi y_train: (210239, 16)\n",
      "X_train_m_scaled : ['ABANT SU 500 ML_fiyat', 'COCA COLA SISE200ML_fiyat', 'CORNETTO KEYIF KORNET_fiyat', 'DORİTOS NACHO SÜPER_fiyat', 'EKMEK_fiyat', 'INDO MIE NOODLE KÖRILI 75 GR._fiyat', 'KARAM GURME 50GX18 KL_fiyat', 'KENT D-RANGE BLUE_fiyat', 'KINDER PINGUI CACAO T1 - 30_fiyat', 'LAY S YOĞURT MEVSİM YEŞİLLİKLERİ SÜPER_fiyat', 'LÜKS KARIŞIK_fiyat', 'NESCAFE 3Ü1 ARADA SÜTLÜ KÖPÜKLÜ CLEO 12(48X17.4G)_fiyat', 'SIYAH DAKOTA ÇEKİRDEK_fiyat', 'TURK KAHVESI_fiyat', 'ÜLKER LAVİVA DOLG.VE BİSK.ÇİK.35GRX24X6_fiyat', 'İÇİM SÜT YAĞLI 1LT X12_fiyat', 'hour', 'day', 'weekday', 'is_weekend', 'ABANT SU 500 ML_miktar_lag1', 'ABANT SU 500 ML_miktar_roll5', 'COCA COLA SISE200ML_miktar_lag1', 'COCA COLA SISE200ML_miktar_roll5', 'CORNETTO KEYIF KORNET_miktar_lag1', 'CORNETTO KEYIF KORNET_miktar_roll5', 'DORİTOS NACHO SÜPER_miktar_lag1', 'DORİTOS NACHO SÜPER_miktar_roll5', 'EKMEK_miktar_lag1', 'EKMEK_miktar_roll5', 'INDO MIE NOODLE KÖRILI 75 GR._miktar_lag1', 'INDO MIE NOODLE KÖRILI 75 GR._miktar_roll5', 'KARAM GURME 50GX18 KL_miktar_lag1', 'KARAM GURME 50GX18 KL_miktar_roll5', 'KENT D-RANGE BLUE_miktar_lag1', 'KENT D-RANGE BLUE_miktar_roll5', 'KINDER PINGUI CACAO T1 - 30_miktar_lag1', 'KINDER PINGUI CACAO T1 - 30_miktar_roll5', 'LAY S YOĞURT MEVSİM YEŞİLLİKLERİ SÜPER_miktar_lag1', 'LAY S YOĞURT MEVSİM YEŞİLLİKLERİ SÜPER_miktar_roll5', 'LÜKS KARIŞIK_miktar_lag1', 'LÜKS KARIŞIK_miktar_roll5', 'NESCAFE 3Ü1 ARADA SÜTLÜ KÖPÜKLÜ CLEO 12(48X17.4G)_miktar_lag1', 'NESCAFE 3Ü1 ARADA SÜTLÜ KÖPÜKLÜ CLEO 12(48X17.4G)_miktar_roll5', 'SIYAH DAKOTA ÇEKİRDEK_miktar_lag1', 'SIYAH DAKOTA ÇEKİRDEK_miktar_roll5', 'TURK KAHVESI_miktar_lag1', 'TURK KAHVESI_miktar_roll5', 'ÜLKER LAVİVA DOLG.VE BİSK.ÇİK.35GRX24X6_miktar_lag1', 'ÜLKER LAVİVA DOLG.VE BİSK.ÇİK.35GRX24X6_miktar_roll5', 'İÇİM SÜT YAĞLI 1LT X12_miktar_lag1', 'İÇİM SÜT YAĞLI 1LT X12_miktar_roll5']\n",
      "X_test_m_scaled : ['ABANT SU 500 ML_fiyat', 'COCA COLA SISE200ML_fiyat', 'CORNETTO KEYIF KORNET_fiyat', 'DORİTOS NACHO SÜPER_fiyat', 'EKMEK_fiyat', 'INDO MIE NOODLE KÖRILI 75 GR._fiyat', 'KARAM GURME 50GX18 KL_fiyat', 'KENT D-RANGE BLUE_fiyat', 'KINDER PINGUI CACAO T1 - 30_fiyat', 'LAY S YOĞURT MEVSİM YEŞİLLİKLERİ SÜPER_fiyat', 'LÜKS KARIŞIK_fiyat', 'NESCAFE 3Ü1 ARADA SÜTLÜ KÖPÜKLÜ CLEO 12(48X17.4G)_fiyat', 'SIYAH DAKOTA ÇEKİRDEK_fiyat', 'TURK KAHVESI_fiyat', 'ÜLKER LAVİVA DOLG.VE BİSK.ÇİK.35GRX24X6_fiyat', 'İÇİM SÜT YAĞLI 1LT X12_fiyat', 'hour', 'day', 'weekday', 'is_weekend', 'ABANT SU 500 ML_miktar_lag1', 'ABANT SU 500 ML_miktar_roll5', 'COCA COLA SISE200ML_miktar_lag1', 'COCA COLA SISE200ML_miktar_roll5', 'CORNETTO KEYIF KORNET_miktar_lag1', 'CORNETTO KEYIF KORNET_miktar_roll5', 'DORİTOS NACHO SÜPER_miktar_lag1', 'DORİTOS NACHO SÜPER_miktar_roll5', 'EKMEK_miktar_lag1', 'EKMEK_miktar_roll5', 'INDO MIE NOODLE KÖRILI 75 GR._miktar_lag1', 'INDO MIE NOODLE KÖRILI 75 GR._miktar_roll5', 'KARAM GURME 50GX18 KL_miktar_lag1', 'KARAM GURME 50GX18 KL_miktar_roll5', 'KENT D-RANGE BLUE_miktar_lag1', 'KENT D-RANGE BLUE_miktar_roll5', 'KINDER PINGUI CACAO T1 - 30_miktar_lag1', 'KINDER PINGUI CACAO T1 - 30_miktar_roll5', 'LAY S YOĞURT MEVSİM YEŞİLLİKLERİ SÜPER_miktar_lag1', 'LAY S YOĞURT MEVSİM YEŞİLLİKLERİ SÜPER_miktar_roll5', 'LÜKS KARIŞIK_miktar_lag1', 'LÜKS KARIŞIK_miktar_roll5', 'NESCAFE 3Ü1 ARADA SÜTLÜ KÖPÜKLÜ CLEO 12(48X17.4G)_miktar_lag1', 'NESCAFE 3Ü1 ARADA SÜTLÜ KÖPÜKLÜ CLEO 12(48X17.4G)_miktar_roll5', 'SIYAH DAKOTA ÇEKİRDEK_miktar_lag1', 'SIYAH DAKOTA ÇEKİRDEK_miktar_roll5', 'TURK KAHVESI_miktar_lag1', 'TURK KAHVESI_miktar_roll5', 'ÜLKER LAVİVA DOLG.VE BİSK.ÇİK.35GRX24X6_miktar_lag1', 'ÜLKER LAVİVA DOLG.VE BİSK.ÇİK.35GRX24X6_miktar_roll5', 'İÇİM SÜT YAĞLI 1LT X12_miktar_lag1', 'İÇİM SÜT YAĞLI 1LT X12_miktar_roll5']\n",
      "y_train_m : ['ABANT SU 500 ML_miktar', 'COCA COLA SISE200ML_miktar', 'CORNETTO KEYIF KORNET_miktar', 'DORİTOS NACHO SÜPER_miktar', 'EKMEK_miktar', 'INDO MIE NOODLE KÖRILI 75 GR._miktar', 'KARAM GURME 50GX18 KL_miktar', 'KENT D-RANGE BLUE_miktar', 'KINDER PINGUI CACAO T1 - 30_miktar', 'LAY S YOĞURT MEVSİM YEŞİLLİKLERİ SÜPER_miktar', 'LÜKS KARIŞIK_miktar', 'NESCAFE 3Ü1 ARADA SÜTLÜ KÖPÜKLÜ CLEO 12(48X17.4G)_miktar', 'SIYAH DAKOTA ÇEKİRDEK_miktar', 'TURK KAHVESI_miktar', 'ÜLKER LAVİVA DOLG.VE BİSK.ÇİK.35GRX24X6_miktar', 'İÇİM SÜT YAĞLI 1LT X12_miktar']\n",
      "y_test_m : ['ABANT SU 500 ML_miktar', 'COCA COLA SISE200ML_miktar', 'CORNETTO KEYIF KORNET_miktar', 'DORİTOS NACHO SÜPER_miktar', 'EKMEK_miktar', 'INDO MIE NOODLE KÖRILI 75 GR._miktar', 'KARAM GURME 50GX18 KL_miktar', 'KENT D-RANGE BLUE_miktar', 'KINDER PINGUI CACAO T1 - 30_miktar', 'LAY S YOĞURT MEVSİM YEŞİLLİKLERİ SÜPER_miktar', 'LÜKS KARIŞIK_miktar', 'NESCAFE 3Ü1 ARADA SÜTLÜ KÖPÜKLÜ CLEO 12(48X17.4G)_miktar', 'SIYAH DAKOTA ÇEKİRDEK_miktar', 'TURK KAHVESI_miktar', 'ÜLKER LAVİVA DOLG.VE BİSK.ÇİK.35GRX24X6_miktar', 'İÇİM SÜT YAĞLI 1LT X12_miktar']\n",
      "Multi-output dosyaları kaydedildi.\n"
     ]
    }
   ],
   "source": [
    "print(\"\\nMulti-output set hazırlanıyor...\")\n",
    "\n",
    "multi_y_cols = [col for col in df.columns if col.endswith('_miktar') and '_lag' not in col]\n",
    "multi_X_cols = [col for col in df.columns if col not in multi_y_cols]\n",
    "\n",
    "X_multi = df[multi_X_cols].copy()\n",
    "y_multi = df[multi_y_cols].copy()\n",
    "\n",
    "X_train_m = X_multi[X_multi.index < split_date]\n",
    "X_test_m  = X_multi[X_multi.index >= split_date]\n",
    "y_train_m = y_multi[y_multi.index < split_date]\n",
    "y_test_m  = y_multi[y_multi.index >= split_date]\n",
    "\n",
    "print(f\"Multi X_train: {X_train_m.shape} | Multi y_train: {y_train_m.shape}\")\n",
    "\n",
    "X_train_m_mean = X_train_m.mean()\n",
    "X_train_m_std  = X_train_m.std()\n",
    "\n",
    "X_train_m_scaled = (X_train_m - X_train_m_mean) / X_train_m_std\n",
    "X_test_m_scaled  = (X_test_m - X_train_m_mean) / X_train_m_std\n",
    "\n",
    "np.save('npy/X_train_multi.npy', X_train_m_scaled.to_numpy())\n",
    "np.save('npy/X_test_multi.npy', X_test_m_scaled.to_numpy())\n",
    "np.save('npy/y_train_multi.npy', y_train_m.to_numpy())\n",
    "np.save('npy/y_test_multi.npy', y_test_m.to_numpy())\n",
    "\n",
    "\n",
    "col_names = X_train_m_scaled.columns.tolist()\n",
    "print(f\"X_train_m_scaled : {col_names}\")\n",
    "col_names = X_test_m_scaled.columns.tolist()\n",
    "print(f\"X_test_m_scaled : {col_names}\")\n",
    "col_names = y_train_m.columns.tolist()\n",
    "print(f\"y_train_m : {col_names}\")\n",
    "col_names = y_test_m.columns.tolist()\n",
    "print(f\"y_test_m : {col_names}\")\n",
    "\n",
    "print(\"Multi-output dosyaları kaydedildi.\")"
   ],
   "metadata": {
    "collapsed": false,
    "ExecuteTime": {
     "end_time": "2025-07-09T21:57:23.479060Z",
     "start_time": "2025-07-09T21:57:22.606379600Z"
    }
   },
   "id": "b1fd83175a3ac1f4",
   "execution_count": 36
  },
  {
   "cell_type": "markdown",
   "source": [
    "8 - MULTI-OUTPUT KATMAN BAZLI"
   ],
   "metadata": {
    "collapsed": false
   },
   "id": "75ae64a62df11b6c"
  },
  {
   "cell_type": "code",
   "outputs": [
    {
     "name": "stdout",
     "output_type": "stream",
     "text": [
      "\n",
      "Multi-output katman bazlı bölme başlıyor...\n",
      "X1 multi shape: (210239, 48) | X2 multi shape: (210239, 4) | X3 multi shape: (210239, 0)\n",
      "X1_train_m_scaled : ['ABANT SU 500 ML_fiyat', 'COCA COLA SISE200ML_fiyat', 'CORNETTO KEYIF KORNET_fiyat', 'DORİTOS NACHO SÜPER_fiyat', 'EKMEK_fiyat', 'INDO MIE NOODLE KÖRILI 75 GR._fiyat', 'KARAM GURME 50GX18 KL_fiyat', 'KENT D-RANGE BLUE_fiyat', 'KINDER PINGUI CACAO T1 - 30_fiyat', 'LAY S YOĞURT MEVSİM YEŞİLLİKLERİ SÜPER_fiyat', 'LÜKS KARIŞIK_fiyat', 'NESCAFE 3Ü1 ARADA SÜTLÜ KÖPÜKLÜ CLEO 12(48X17.4G)_fiyat', 'SIYAH DAKOTA ÇEKİRDEK_fiyat', 'TURK KAHVESI_fiyat', 'ÜLKER LAVİVA DOLG.VE BİSK.ÇİK.35GRX24X6_fiyat', 'İÇİM SÜT YAĞLI 1LT X12_fiyat', 'ABANT SU 500 ML_miktar_lag1', 'COCA COLA SISE200ML_miktar_lag1', 'CORNETTO KEYIF KORNET_miktar_lag1', 'DORİTOS NACHO SÜPER_miktar_lag1', 'EKMEK_miktar_lag1', 'INDO MIE NOODLE KÖRILI 75 GR._miktar_lag1', 'KARAM GURME 50GX18 KL_miktar_lag1', 'KENT D-RANGE BLUE_miktar_lag1', 'KINDER PINGUI CACAO T1 - 30_miktar_lag1', 'LAY S YOĞURT MEVSİM YEŞİLLİKLERİ SÜPER_miktar_lag1', 'LÜKS KARIŞIK_miktar_lag1', 'NESCAFE 3Ü1 ARADA SÜTLÜ KÖPÜKLÜ CLEO 12(48X17.4G)_miktar_lag1', 'SIYAH DAKOTA ÇEKİRDEK_miktar_lag1', 'TURK KAHVESI_miktar_lag1', 'ÜLKER LAVİVA DOLG.VE BİSK.ÇİK.35GRX24X6_miktar_lag1', 'İÇİM SÜT YAĞLI 1LT X12_miktar_lag1', 'ABANT SU 500 ML_miktar_roll5', 'COCA COLA SISE200ML_miktar_roll5', 'CORNETTO KEYIF KORNET_miktar_roll5', 'DORİTOS NACHO SÜPER_miktar_roll5', 'EKMEK_miktar_roll5', 'INDO MIE NOODLE KÖRILI 75 GR._miktar_roll5', 'KARAM GURME 50GX18 KL_miktar_roll5', 'KENT D-RANGE BLUE_miktar_roll5', 'KINDER PINGUI CACAO T1 - 30_miktar_roll5', 'LAY S YOĞURT MEVSİM YEŞİLLİKLERİ SÜPER_miktar_roll5', 'LÜKS KARIŞIK_miktar_roll5', 'NESCAFE 3Ü1 ARADA SÜTLÜ KÖPÜKLÜ CLEO 12(48X17.4G)_miktar_roll5', 'SIYAH DAKOTA ÇEKİRDEK_miktar_roll5', 'TURK KAHVESI_miktar_roll5', 'ÜLKER LAVİVA DOLG.VE BİSK.ÇİK.35GRX24X6_miktar_roll5', 'İÇİM SÜT YAĞLI 1LT X12_miktar_roll5']\n",
      "X2_train_m : ['hour', 'day', 'weekday', 'is_weekend']\n",
      "X3_train_m : []\n",
      "Multi-output katman bazlı X1/X2/X3 dosyaları kaydedildi!\n"
     ]
    }
   ],
   "source": [
    "print(\"\\nMulti-output katman bazlı bölme başlıyor...\")\n",
    "\n",
    "price_cols_multi = [col for col in X_train_m.columns if col.endswith('_fiyat')]\n",
    "lag_cols_multi = [col for col in X_train_m.columns if '_lag' in col]\n",
    "roll_cols_multi = [col for col in X_train_m.columns if '_roll' in col]\n",
    "datetime_cols = ['hour', 'day', 'weekday', 'is_weekend']\n",
    "\n",
    "used_cols_multi = set(price_cols_multi + lag_cols_multi + roll_cols_multi + datetime_cols)\n",
    "X3_cols_multi = [col for col in X_train_m.columns if col not in used_cols_multi]\n",
    "\n",
    "X1_train_m = X_train_m[price_cols_multi + lag_cols_multi + roll_cols_multi]\n",
    "X1_test_m  = X_test_m[price_cols_multi + lag_cols_multi + roll_cols_multi]\n",
    "\n",
    "X2_train_m = X_train_m[datetime_cols]\n",
    "X2_test_m  = X_test_m[datetime_cols]\n",
    "\n",
    "X3_train_m = X_train_m[X3_cols_multi]\n",
    "X3_test_m  = X_test_m[X3_cols_multi]\n",
    "\n",
    "print(f\"X1 multi shape: {X1_train_m.shape} | X2 multi shape: {X2_train_m.shape} | X3 multi shape: {X3_train_m.shape}\")\n",
    "\n",
    "X1_train_m_mean = X1_train_m.mean()\n",
    "X1_train_m_std  = X1_train_m.std()\n",
    "\n",
    "X1_train_m_scaled = (X1_train_m - X1_train_m_mean) / X1_train_m_std\n",
    "X1_test_m_scaled  = (X1_test_m - X1_train_m_mean) / X1_train_m_std\n",
    "\n",
    "np.save('npy/X1_train_multi.npy', X1_train_m_scaled.to_numpy())\n",
    "np.save('npy/X1_test_multi.npy', X1_test_m_scaled.to_numpy())\n",
    "np.save('npy/X2_train_multi.npy', X2_train_m.to_numpy())\n",
    "np.save('npy/X2_test_multi.npy', X2_test_m.to_numpy())\n",
    "np.save('npy/X3_train_multi.npy', X3_train_m.to_numpy())\n",
    "np.save('npy/X3_test_multi.npy', X3_test_m.to_numpy())\n",
    "\n",
    "col_names = X1_train_m_scaled.columns.tolist()\n",
    "print(f\"X1_train_m_scaled : {col_names}\")\n",
    "col_names = X2_train_m.columns.tolist()\n",
    "print(f\"X2_train_m : {col_names}\")\n",
    "col_names = X3_train_m.columns.tolist() #multide tum columnlar kullanılmıs olur cunku\n",
    "print(f\"X3_train_m : {col_names}\")\n",
    "\n",
    "\n",
    "\n",
    "print(\"Multi-output katman bazlı X1/X2/X3 dosyaları kaydedildi!\")"
   ],
   "metadata": {
    "collapsed": false,
    "ExecuteTime": {
     "end_time": "2025-07-09T21:57:27.022266600Z",
     "start_time": "2025-07-09T21:57:26.509444800Z"
    }
   },
   "id": "f72628fbdabf466f",
   "execution_count": 37
  },
  {
   "cell_type": "markdown",
   "source": [
    "9 - TAMAMLANMA & SÜRE"
   ],
   "metadata": {
    "collapsed": false
   },
   "id": "aab5739bb9a9d3fc"
  },
  {
   "cell_type": "code",
   "outputs": [
    {
     "name": "stdout",
     "output_type": "stream",
     "text": [
      "\n",
      "Tüm veri dönüşümü tamamlandı! Süre: 1768.46 saniye\n"
     ]
    }
   ],
   "source": [
    "elapsed_time = time.time() - start_time\n",
    "print(f\"\\nTüm veri dönüşümü tamamlandı! Süre: {elapsed_time:.2f} saniye\")"
   ],
   "metadata": {
    "collapsed": false,
    "ExecuteTime": {
     "end_time": "2025-07-09T21:57:29.308111900Z",
     "start_time": "2025-07-09T21:57:29.301507Z"
    }
   },
   "id": "4901c2349917a761",
   "execution_count": 38
  }
 ],
 "metadata": {
  "kernelspec": {
   "display_name": "Python 3",
   "language": "python",
   "name": "python3"
  },
  "language_info": {
   "codemirror_mode": {
    "name": "ipython",
    "version": 2
   },
   "file_extension": ".py",
   "mimetype": "text/x-python",
   "name": "python",
   "nbconvert_exporter": "python",
   "pygments_lexer": "ipython2",
   "version": "2.7.6"
  }
 },
 "nbformat": 4,
 "nbformat_minor": 5
}
